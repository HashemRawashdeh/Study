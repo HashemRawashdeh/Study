{
 "cells": [
  {
   "cell_type": "markdown",
   "id": "1ac4156e-f098-413d-8ab4-7167393e9a60",
   "metadata": {},
   "source": [
    "## Exploratory Data Analysis\n",
    "\n",
    "This notebook will be a place for me to revise the EDA modules and topics that I have learned earlier in the past months, and it will serve as a testing space where I can practice new EDA concepts and modules. It will mailnly cover the following:\n",
    "* Numpy\n",
    "* Pandas\n",
    "* Matplotlib\n",
    "* Seaborn"
   ]
  },
  {
   "cell_type": "markdown",
   "id": "ffa6b9b6-5f5a-40b6-8473-e75eb4cc7c66",
   "metadata": {},
   "source": [
    "## NumPy\n",
    "\n",
    "Numpy module is to be quickely reviewed here."
   ]
  },
  {
   "cell_type": "code",
   "execution_count": 1,
   "id": "6369c34c-cab5-4aac-ae53-04b4bd82e2cf",
   "metadata": {},
   "outputs": [],
   "source": [
    "import numpy as np"
   ]
  },
  {
   "cell_type": "markdown",
   "id": "57ed1aa3-8b2b-4d4d-a4a7-59d0ea960db1",
   "metadata": {},
   "source": [
    "### Creating Arrays"
   ]
  },
  {
   "cell_type": "code",
   "execution_count": 2,
   "id": "78ba432d-1a06-42b8-9070-221bd396dff0",
   "metadata": {},
   "outputs": [
    {
     "name": "stdout",
     "output_type": "stream",
     "text": [
      "[[1 2 3 4 5]]\n"
     ]
    },
    {
     "data": {
      "text/plain": [
       "2"
      ]
     },
     "execution_count": 2,
     "metadata": {},
     "output_type": "execute_result"
    }
   ],
   "source": [
    "# Create an array with two dimentions:\n",
    "\n",
    "arr = np.array([1,2,3,4,5], ndmin = 2)       \n",
    "\n",
    "print(arr)\n",
    "\n",
    "# Check the dimention:\n",
    "\n",
    "arr.ndim"
   ]
  },
  {
   "cell_type": "code",
   "execution_count": 3,
   "id": "477be964-db5c-4057-abe4-e5cab3b8ac50",
   "metadata": {},
   "outputs": [
    {
     "name": "stdout",
     "output_type": "stream",
     "text": [
      "0\n",
      "1\n",
      "2\n",
      "3\n"
     ]
    }
   ],
   "source": [
    "# Creating arrays with various dimentions:\n",
    "\n",
    "arr1 = np.array(50)\n",
    "\n",
    "arr2 = np.array([50])\n",
    "\n",
    "arr3 = np.array([[1,2,3],[4,5,6]])\n",
    "\n",
    "arr4 = np.array([[[1,2,3],[4,5,6]],[[7,8,9],[10,11,12]]])\n",
    "\n",
    "print(arr1.ndim)\n",
    "print(arr2.ndim)\n",
    "print(arr3.ndim)\n",
    "print(arr4.ndim)"
   ]
  },
  {
   "cell_type": "markdown",
   "id": "d3c6f64a-ffc0-4fd2-9403-d915cd96b011",
   "metadata": {},
   "source": [
    "### Array Indexing"
   ]
  },
  {
   "cell_type": "code",
   "execution_count": 4,
   "id": "c178c577-fdfa-417a-92be-52b63e9ee04d",
   "metadata": {},
   "outputs": [
    {
     "name": "stdout",
     "output_type": "stream",
     "text": [
      "3\n"
     ]
    }
   ],
   "source": [
    "# Defining the array:\n",
    "\n",
    "arr = np.array([1, 2, 3, 4, 5])\n",
    "\n",
    "# print the third item in the list:\n",
    "\n",
    "print(arr[2])"
   ]
  },
  {
   "cell_type": "code",
   "execution_count": 5,
   "id": "b382555d-9e88-4032-ae34-79d2ab5d83ff",
   "metadata": {},
   "outputs": [
    {
     "name": "stdout",
     "output_type": "stream",
     "text": [
      "50\n"
     ]
    }
   ],
   "source": [
    "arr = np.array([[10, 20, 30, 40], [50, 60, 70, 80]])\n",
    "\n",
    "# Print the number 50 from the array:\n",
    "\n",
    "print(arr[1,0])"
   ]
  },
  {
   "cell_type": "code",
   "execution_count": 6,
   "id": "d3c09a6d-e39e-4bf1-a9cf-c58423dece5c",
   "metadata": {},
   "outputs": [
    {
     "data": {
      "text/plain": [
       "6"
      ]
     },
     "execution_count": 6,
     "metadata": {},
     "output_type": "execute_result"
    }
   ],
   "source": [
    "arr = np.array([[[1, 2, 3], [4, 5, 6]], [[7, 8, 9], [10, 11, 12]]])\n",
    "\n",
    "# Access the third element of the second array of the first array:\n",
    "\n",
    "arr[0,1,2]"
   ]
  },
  {
   "cell_type": "markdown",
   "id": "06833e41-365a-4a3d-acd3-1c62784183af",
   "metadata": {},
   "source": [
    "## Array Slicing"
   ]
  },
  {
   "cell_type": "code",
   "execution_count": 7,
   "id": "524784f0-4ff5-41cd-aa81-f27cf5234c58",
   "metadata": {},
   "outputs": [
    {
     "name": "stdout",
     "output_type": "stream",
     "text": [
      "First Task Solution:  [5 6]\n",
      "SEcond Task Solution:  [2 4]\n",
      "Third Task Solution:  [1 3 5 7]\n"
     ]
    }
   ],
   "source": [
    "arr = np.array([1, 2, 3, 4, 5, 6, 7])\n",
    "\n",
    "# Task One: Slice from the index 3 from the end to index 1 from the end:\n",
    "\n",
    "print('First Task Solution: ', arr[-3:-1])\n",
    "\n",
    "# Task Two: Return every other element from index 1 to index 5:\n",
    "\n",
    "print('SEcond Task Solution: ', arr[1:5:2])\n",
    "\n",
    "# Task Three: Return every other element from the entire array:\n",
    "\n",
    "print('Third Task Solution: ', arr[::2])"
   ]
  },
  {
   "cell_type": "code",
   "execution_count": 8,
   "id": "686375dc-7749-4479-9254-3f150b0c5b3b",
   "metadata": {},
   "outputs": [
    {
     "name": "stdout",
     "output_type": "stream",
     "text": [
      "First Task Solution:  [7 8 9]\n",
      "Second Task Solution:  [3 8]\n",
      "Third Task Solution:  [[2 3 4]\n",
      " [7 8 9]]\n"
     ]
    }
   ],
   "source": [
    "arr = np.array([[1, 2, 3, 4, 5], [6, 7, 8, 9, 10]])\n",
    "\n",
    "# Task One: From the second element, slice elements from index 1 to index 4 (not included).\n",
    "\n",
    "print('First Task Solution: ', arr[1,1:4])\n",
    "\n",
    "# Task Two: From both elements, return index 2.\n",
    "\n",
    "print('Second Task Solution: ', arr[:,2])\n",
    "\n",
    "# Task Three: From both elements, slice index 1 to index 4 (not included).\n",
    "\n",
    "print('Third Task Solution: ', arr[:,1:4])"
   ]
  },
  {
   "cell_type": "markdown",
   "id": "bbbbd5d3-fabe-4ab3-bb32-85050cbe46f8",
   "metadata": {},
   "source": [
    "## Data Types"
   ]
  },
  {
   "cell_type": "code",
   "execution_count": 9,
   "id": "5d10d81b-347f-42d4-9a7b-31a25bc468ce",
   "metadata": {},
   "outputs": [
    {
     "name": "stdout",
     "output_type": "stream",
     "text": [
      "First Task Solution:  int64 \n",
      "\n",
      "Second Task Solution:  Array: [1. 2. 3. 4.] Data Type: float32 \n",
      "\n",
      "Third Task Solution:  Array: [1 2 3 4] Data Type: int32 \n",
      "\n",
      "Fourth Task Solution:  Array With Boolean Data Type: [ True False  True] Array With Float Data Type: [ 1.  0. -1.]\n"
     ]
    }
   ],
   "source": [
    "# Task One: Check the Data Type of the following Array:\n",
    "\n",
    "arr = np.array([1, 2, 3, 4])\n",
    "\n",
    "print('First Task Solution: ', arr.dtype, '\\n')\n",
    "\n",
    "# Task Two: Create an Array With a Defined Data Type:\n",
    "\n",
    "arr = np.array([1,2,3,4], dtype = 'f')\n",
    "\n",
    "print('Second Task Solution: ', 'Array:', arr, 'Data Type:', arr.dtype, '\\n')\n",
    "\n",
    "# Note: For i, u, f, S and U we can define size as well.\n",
    "\n",
    "# Task Three: Create an Array With a 4-byte Integer Data Type:\n",
    "\n",
    "arr = np.array([1,2,3,4], dtype = 'i4')\n",
    "\n",
    "print('Third Task Solution: ', 'Array:', arr, 'Data Type:', arr.dtype, '\\n')\n",
    "\n",
    "# Task Four: Change the Data Type of an Array:\n",
    "\n",
    "arr = np.array([1,0,-1])\n",
    "\n",
    "boolean = arr.astype(bool)\n",
    "\n",
    "floating = arr.astype('f')\n",
    "\n",
    "print('Fourth Task Solution: ', 'Array With Boolean Data Type:', boolean, 'Array With Float Data Type:', floating)"
   ]
  },
  {
   "cell_type": "markdown",
   "id": "c9c0c242-5ed4-4ec4-8ecb-097a321513de",
   "metadata": {},
   "source": [
    "## Array Copy vs View\n",
    "- The copy owns the data, and changes made to it or the original doesn't affect the other.\n",
    "- The view doesn't own the data, and changes made to it or the original affect the other."
   ]
  },
  {
   "cell_type": "code",
   "execution_count": 10,
   "id": "7067867a-fd01-4af4-beda-5ca7826740bb",
   "metadata": {},
   "outputs": [
    {
     "name": "stdout",
     "output_type": "stream",
     "text": [
      "Original:  [1 2 3 4] Copy:  [1 2 3 4]\n",
      "Original:  [  1   2 100   4] Copy:  [ 1 50  3  4]\n"
     ]
    }
   ],
   "source": [
    "# Let's try the copy method:\n",
    "\n",
    "arr = np.array([1,2,3,4])\n",
    "\n",
    "copy = np.copy(arr)\n",
    "\n",
    "print('Original: ', arr, 'Copy: ', copy)\n",
    "\n",
    "copy[1] = 50\n",
    "arr[2] = 100\n",
    "\n",
    "print('Original: ', arr, 'Copy: ', copy)"
   ]
  },
  {
   "cell_type": "code",
   "execution_count": 11,
   "id": "55e3859d-383d-4105-9eac-6e1a8c5ef328",
   "metadata": {},
   "outputs": [
    {
     "name": "stdout",
     "output_type": "stream",
     "text": [
      "Original:  [1 2 3 4] view:  [1 2 3 4]\n",
      "Original:  [  1  50 100   4] view:  [  1  50 100   4]\n"
     ]
    }
   ],
   "source": [
    "# Let's try the view method:\n",
    "\n",
    "arr = np.array([1,2,3,4])\n",
    "\n",
    "view = arr.view()\n",
    "\n",
    "print('Original: ', arr, 'view: ', view)\n",
    "\n",
    "view[1] = 50\n",
    "arr[2] = 100\n",
    "\n",
    "print('Original: ', arr, 'view: ', view)"
   ]
  },
  {
   "cell_type": "code",
   "execution_count": 12,
   "id": "37eb2027-709c-4e7c-bd47-0c6d39abf789",
   "metadata": {},
   "outputs": [
    {
     "name": "stdout",
     "output_type": "stream",
     "text": [
      "None\n",
      "[1 2 3 4]\n"
     ]
    }
   ],
   "source": [
    "arr = np.array([1,2,3,4])\n",
    "\n",
    "x = arr.copy()\n",
    "y = arr.view()\n",
    "\n",
    "print(x.base)\n",
    "print(y.base)"
   ]
  },
  {
   "cell_type": "markdown",
   "id": "3b7c2234-b859-408b-9384-df9302e6c2a9",
   "metadata": {},
   "source": [
    "#### Coclusion: These two blocks of code prove the previous claims that copy owns the data and view doesn't, and that changing the copy or the original doesn't affect the other while changing the view or the original does."
   ]
  },
  {
   "cell_type": "markdown",
   "id": "0642b4c0-786d-4bdf-9545-cdcc3dc0884d",
   "metadata": {},
   "source": [
    "## Array Shape\n",
    "#### The shape of an array is the number of elements in each dimension."
   ]
  },
  {
   "cell_type": "code",
   "execution_count": 13,
   "id": "09c4db43-273a-4db0-908d-a3474e0d0259",
   "metadata": {},
   "outputs": [
    {
     "data": {
      "text/plain": [
       "(2, 4)"
      ]
     },
     "execution_count": 13,
     "metadata": {},
     "output_type": "execute_result"
    }
   ],
   "source": [
    "arr = np.array([[1, 2, 3, 4], [5, 6, 7,8]])\n",
    "\n",
    "## The first dimention has two elements, and four elements are present in the second. Thus (2,4) is expected\n",
    "\n",
    "arr.shape"
   ]
  },
  {
   "cell_type": "code",
   "execution_count": 14,
   "id": "abcdbbad-5cba-4b76-a536-5fb8b8b41dcf",
   "metadata": {},
   "outputs": [
    {
     "name": "stdout",
     "output_type": "stream",
     "text": [
      "Array: [[[[[1 2 3 4]]]]] , Shape: (1, 1, 1, 1, 4)\n"
     ]
    }
   ],
   "source": [
    "# Create an array with 5 dimensions using a vector with values 1,2,3,4 and verify that last dimension has value 4:\n",
    "arr = np.array([1,2,3,4], ndmin = 5)\n",
    "print('Array:', arr,', ' 'Shape:', arr.shape)"
   ]
  },
  {
   "cell_type": "markdown",
   "id": "7e1762f6-834f-464c-9eb6-4714cf3b5710",
   "metadata": {},
   "source": [
    "## Array Reshaping\n",
    "* Reshaping means changing the shape of an array.\n",
    "* By reshaping we can add or remove dimensions or change number of elements in each dimension.\n",
    "* The number of elements must be preserved\n",
    "#### Examples:"
   ]
  },
  {
   "cell_type": "code",
   "execution_count": 15,
   "id": "c2628d36-a1ea-4ab5-a34a-c1b622fa1631",
   "metadata": {},
   "outputs": [
    {
     "name": "stdout",
     "output_type": "stream",
     "text": [
      "The Original Shape:  (12,) , The Resulting Shape:  (3, 4) \n",
      "\n",
      "The Original Shape:  (12,) , The Resulting Shape:  (3, 2, 2) \n",
      "\n",
      "The Original Shape:  (3, 2, 2) , The Resulting Array, Shape:  [ 1  2  3  4  5  6  7  8  9 10 11 12] ,  (12,)\n"
     ]
    }
   ],
   "source": [
    "# 1) 1D-2D:\n",
    "\n",
    "before = np.array([1,2,3,4,5,6,7,8,9,10,11,12])\n",
    "after = before.reshape(3,-1)                    # -1 let's numpy calculate the last number of elements in that dimention\n",
    "\n",
    "print('The Original Shape: ', before.shape, ',', 'The Resulting Shape: ', after.shape, '\\n')\n",
    "\n",
    "# 2) 1D-3D:\n",
    "\n",
    "after2 = before.reshape(3,2,-1)                  \n",
    "\n",
    "print('The Original Shape: ', before.shape, ',', 'The Resulting Shape: ', after2.shape,'\\n')\n",
    "\n",
    "# 3) Flattenning an Array (Reducing it to one dimention):\n",
    "\n",
    "after3 = after2.reshape(-1)\n",
    "\n",
    "print('The Original Shape: ', after2.shape, ',','The Resulting Array, Shape: ', after3,', ',after3.shape)"
   ]
  },
  {
   "cell_type": "markdown",
   "id": "3665248c-98cf-4fb9-84db-ef0a783c737d",
   "metadata": {},
   "source": [
    "## Array Iterating\n",
    "\n",
    "#### It is exactly like regular lists, but with high dimentions it becomes tedious. Hence, specific helping functions are used. Those functions are discussed below:"
   ]
  },
  {
   "cell_type": "code",
   "execution_count": 16,
   "id": "bc54801c-8768-42da-b7eb-15e2766dcc84",
   "metadata": {},
   "outputs": [
    {
     "name": "stdout",
     "output_type": "stream",
     "text": [
      "(0, 0, 0) 1\n",
      "(0, 0, 1) 3\n",
      "(0, 1, 0) 4\n",
      "(0, 1, 1) 6\n",
      "(1, 0, 0) 7\n",
      "(1, 0, 1) 9\n",
      "(1, 1, 0) 10\n",
      "(1, 1, 1) 12\n"
     ]
    }
   ],
   "source": [
    "# 1) Regular methods:\n",
    "\n",
    "arr = np.array([[[1, 2, 3], [4, 5, 6]], [[7, 8, 9], [10, 11, 12]]])\n",
    "\n",
    "for x in arr:\n",
    "    for y in x:\n",
    "        for z in y:\n",
    "            pass              \n",
    "            #print(z)                        # Uncomment the moethod that you want to see.\n",
    "\n",
    "# 2) Using nditer():\n",
    "\n",
    "for x in np.nditer(arr):\n",
    "    #print(x)\n",
    "    pass\n",
    "\n",
    "# 3) Using ndenumerate():\n",
    "\n",
    "for idx, x in np.ndenumerate(arr[:,:,::2]):  # You can slice however you want as well.\n",
    "    print(idx,x)\n",
    "    pass"
   ]
  },
  {
   "cell_type": "markdown",
   "id": "07470713-b2e4-492b-aa61-fa7692cffcac",
   "metadata": {},
   "source": [
    "## End of NumPy Foundations\n",
    "\n",
    "#### Here is all the foundation I need for now, and I will practice the remaining topics in the link below once I see the need for it. \n",
    "https://www.w3schools.com/python/numpy/numpy_array_join.asp"
   ]
  },
  {
   "cell_type": "markdown",
   "id": "2d788972-5876-41f3-bba6-0b79fcd5eef0",
   "metadata": {},
   "source": [
    "## Pandas\n",
    "#### I studied pandas to a good extent in the past, hence I will go throught the foundations very quickly, and jump straight into excercises and mini projects after that."
   ]
  },
  {
   "cell_type": "code",
   "execution_count": 17,
   "id": "a4adb4ff-a8ea-4636-b7ae-488f2488989f",
   "metadata": {},
   "outputs": [],
   "source": [
    "import pandas as pd"
   ]
  },
  {
   "cell_type": "code",
   "execution_count": 18,
   "id": "0b7e27c8-67d2-4ddd-be1c-0494199d2aca",
   "metadata": {},
   "outputs": [
    {
     "data": {
      "text/plain": [
       "'1.4.2'"
      ]
     },
     "execution_count": 18,
     "metadata": {},
     "output_type": "execute_result"
    }
   ],
   "source": [
    "pd.__version__"
   ]
  },
  {
   "cell_type": "markdown",
   "id": "0d64d576-66a9-46db-9a00-4cf12af8fc1f",
   "metadata": {},
   "source": [
    "## Series"
   ]
  },
  {
   "cell_type": "code",
   "execution_count": 19,
   "id": "e0e04a3d-d223-4441-89af-6fa3fba8de7e",
   "metadata": {},
   "outputs": [
    {
     "data": {
      "text/plain": [
       "Leader    Hashem\n",
       "Great      Motaz\n",
       "Funny      Eissa\n",
       "Blood       Omar\n",
       "dtype: object"
      ]
     },
     "execution_count": 19,
     "metadata": {},
     "output_type": "execute_result"
    }
   ],
   "source": [
    "# Creating a series from a list:\n",
    "\n",
    "names = ['Hashem', 'Motaz', 'Eissa', 'Omar']\n",
    "idx = ['Leader', 'Great', 'Funny', 'Blood']\n",
    "\n",
    "a = pd.Series(names,index=idx)\n",
    "a"
   ]
  },
  {
   "cell_type": "code",
   "execution_count": 20,
   "id": "84e81eb7-40b9-4b55-9c36-c795913997f2",
   "metadata": {},
   "outputs": [
    {
     "name": "stdout",
     "output_type": "stream",
     "text": [
      "True\n"
     ]
    },
    {
     "data": {
      "text/plain": [
       "'Hashem'"
      ]
     },
     "execution_count": 20,
     "metadata": {},
     "output_type": "execute_result"
    }
   ],
   "source": [
    "# accessing the values in the series:\n",
    "\n",
    "print(a['Leader'] == a[0])\n",
    "\n",
    "a.iloc[0]    # a[0] works the same way"
   ]
  },
  {
   "cell_type": "code",
   "execution_count": 21,
   "id": "df426130-b196-4afd-a044-2578ea5d7619",
   "metadata": {},
   "outputs": [
    {
     "data": {
      "text/plain": [
       "fruit    Apple\n",
       "Meat     Stake\n",
       "dtype: object"
      ]
     },
     "execution_count": 21,
     "metadata": {},
     "output_type": "execute_result"
    }
   ],
   "source": [
    "# creating a series from a dictionary:\n",
    "\n",
    "food = {'fruit': 'Apple', 'Vegetable': 'Cucumber', 'Meat': 'Stake'}\n",
    "\n",
    "pd.Series(food, index = ['fruit', 'Meat'])         # You don't have to use the entire dictionary"
   ]
  },
  {
   "cell_type": "markdown",
   "id": "17deab39-2c40-470e-9e57-6bb0a98f27e4",
   "metadata": {},
   "source": [
    "## DataFrames"
   ]
  },
  {
   "cell_type": "code",
   "execution_count": 22,
   "id": "73eb5796-e199-494f-8af0-82b56bf743f6",
   "metadata": {},
   "outputs": [
    {
     "data": {
      "text/html": [
       "<div>\n",
       "<style scoped>\n",
       "    .dataframe tbody tr th:only-of-type {\n",
       "        vertical-align: middle;\n",
       "    }\n",
       "\n",
       "    .dataframe tbody tr th {\n",
       "        vertical-align: top;\n",
       "    }\n",
       "\n",
       "    .dataframe thead th {\n",
       "        text-align: right;\n",
       "    }\n",
       "</style>\n",
       "<table border=\"1\" class=\"dataframe\">\n",
       "  <thead>\n",
       "    <tr style=\"text-align: right;\">\n",
       "      <th></th>\n",
       "      <th>Fruits</th>\n",
       "      <th>Vegetables</th>\n",
       "      <th>Meats</th>\n",
       "    </tr>\n",
       "  </thead>\n",
       "  <tbody>\n",
       "    <tr>\n",
       "      <th>Good</th>\n",
       "      <td>Apple</td>\n",
       "      <td>Cucumber</td>\n",
       "      <td>Stake</td>\n",
       "    </tr>\n",
       "    <tr>\n",
       "      <th>Nuetral</th>\n",
       "      <td>Orange</td>\n",
       "      <td>Potatoes</td>\n",
       "      <td>Chicken</td>\n",
       "    </tr>\n",
       "    <tr>\n",
       "      <th>Bad</th>\n",
       "      <td>Bananas</td>\n",
       "      <td>Corn</td>\n",
       "      <td>Fish</td>\n",
       "    </tr>\n",
       "  </tbody>\n",
       "</table>\n",
       "</div>"
      ],
      "text/plain": [
       "          Fruits Vegetables    Meats\n",
       "Good       Apple   Cucumber    Stake\n",
       "Nuetral   Orange   Potatoes  Chicken\n",
       " Bad     Bananas       Corn     Fish"
      ]
     },
     "execution_count": 22,
     "metadata": {},
     "output_type": "execute_result"
    }
   ],
   "source": [
    "# creating a DataFrame from a dictionary:\n",
    "\n",
    "food = {'Fruits': ['Apple','Orange','Bananas'], 'Vegetables': ['Cucumber','Potatoes','Corn'],\n",
    "        'Meats': ['Stake', 'Chicken', 'Fish']}\n",
    "\n",
    "df = pd.DataFrame(food, index=['Good', 'Nuetral',' Bad'])\n",
    "df"
   ]
  },
  {
   "cell_type": "code",
   "execution_count": 23,
   "id": "a04cd459-f9e8-4e52-8720-9038ad4214cf",
   "metadata": {},
   "outputs": [
    {
     "name": "stdout",
     "output_type": "stream",
     "text": [
      "True\n",
      "Apple\n"
     ]
    },
    {
     "data": {
      "text/html": [
       "<div>\n",
       "<style scoped>\n",
       "    .dataframe tbody tr th:only-of-type {\n",
       "        vertical-align: middle;\n",
       "    }\n",
       "\n",
       "    .dataframe tbody tr th {\n",
       "        vertical-align: top;\n",
       "    }\n",
       "\n",
       "    .dataframe thead th {\n",
       "        text-align: right;\n",
       "    }\n",
       "</style>\n",
       "<table border=\"1\" class=\"dataframe\">\n",
       "  <thead>\n",
       "    <tr style=\"text-align: right;\">\n",
       "      <th></th>\n",
       "      <th>Fruits</th>\n",
       "      <th>Vegetables</th>\n",
       "    </tr>\n",
       "  </thead>\n",
       "  <tbody>\n",
       "    <tr>\n",
       "      <th>Good</th>\n",
       "      <td>Apple</td>\n",
       "      <td>Cucumber</td>\n",
       "    </tr>\n",
       "    <tr>\n",
       "      <th>Nuetral</th>\n",
       "      <td>Orange</td>\n",
       "      <td>Potatoes</td>\n",
       "    </tr>\n",
       "    <tr>\n",
       "      <th>Bad</th>\n",
       "      <td>Bananas</td>\n",
       "      <td>Corn</td>\n",
       "    </tr>\n",
       "  </tbody>\n",
       "</table>\n",
       "</div>"
      ],
      "text/plain": [
       "          Fruits Vegetables\n",
       "Good       Apple   Cucumber\n",
       "Nuetral   Orange   Potatoes\n",
       " Bad     Bananas       Corn"
      ]
     },
     "execution_count": 23,
     "metadata": {},
     "output_type": "execute_result"
    }
   ],
   "source": [
    "# Accessing the DataFrame\n",
    "\n",
    "print(df.loc['Good','Fruits'] == df.iloc[0,0])\n",
    "\n",
    "print(df.iloc[0,0])\n",
    "\n",
    "df.iloc[:,0:2]"
   ]
  },
  {
   "cell_type": "code",
   "execution_count": 24,
   "id": "2494ec8b-34e9-4bd8-b624-95e2e2abad86",
   "metadata": {},
   "outputs": [
    {
     "data": {
      "text/html": [
       "<div>\n",
       "<style scoped>\n",
       "    .dataframe tbody tr th:only-of-type {\n",
       "        vertical-align: middle;\n",
       "    }\n",
       "\n",
       "    .dataframe tbody tr th {\n",
       "        vertical-align: top;\n",
       "    }\n",
       "\n",
       "    .dataframe thead th {\n",
       "        text-align: right;\n",
       "    }\n",
       "</style>\n",
       "<table border=\"1\" class=\"dataframe\">\n",
       "  <thead>\n",
       "    <tr style=\"text-align: right;\">\n",
       "      <th></th>\n",
       "      <th>Duration</th>\n",
       "      <th>Pulse</th>\n",
       "      <th>Maxpulse</th>\n",
       "      <th>Calories</th>\n",
       "    </tr>\n",
       "  </thead>\n",
       "  <tbody>\n",
       "    <tr>\n",
       "      <th>0</th>\n",
       "      <td>60</td>\n",
       "      <td>110</td>\n",
       "      <td>130</td>\n",
       "      <td>409.1</td>\n",
       "    </tr>\n",
       "    <tr>\n",
       "      <th>1</th>\n",
       "      <td>60</td>\n",
       "      <td>117</td>\n",
       "      <td>145</td>\n",
       "      <td>479.0</td>\n",
       "    </tr>\n",
       "    <tr>\n",
       "      <th>2</th>\n",
       "      <td>60</td>\n",
       "      <td>103</td>\n",
       "      <td>135</td>\n",
       "      <td>340.0</td>\n",
       "    </tr>\n",
       "    <tr>\n",
       "      <th>3</th>\n",
       "      <td>45</td>\n",
       "      <td>109</td>\n",
       "      <td>175</td>\n",
       "      <td>282.4</td>\n",
       "    </tr>\n",
       "    <tr>\n",
       "      <th>4</th>\n",
       "      <td>45</td>\n",
       "      <td>117</td>\n",
       "      <td>148</td>\n",
       "      <td>406.0</td>\n",
       "    </tr>\n",
       "    <tr>\n",
       "      <th>...</th>\n",
       "      <td>...</td>\n",
       "      <td>...</td>\n",
       "      <td>...</td>\n",
       "      <td>...</td>\n",
       "    </tr>\n",
       "    <tr>\n",
       "      <th>164</th>\n",
       "      <td>60</td>\n",
       "      <td>105</td>\n",
       "      <td>140</td>\n",
       "      <td>290.8</td>\n",
       "    </tr>\n",
       "    <tr>\n",
       "      <th>165</th>\n",
       "      <td>60</td>\n",
       "      <td>110</td>\n",
       "      <td>145</td>\n",
       "      <td>300.0</td>\n",
       "    </tr>\n",
       "    <tr>\n",
       "      <th>166</th>\n",
       "      <td>60</td>\n",
       "      <td>115</td>\n",
       "      <td>145</td>\n",
       "      <td>310.2</td>\n",
       "    </tr>\n",
       "    <tr>\n",
       "      <th>167</th>\n",
       "      <td>75</td>\n",
       "      <td>120</td>\n",
       "      <td>150</td>\n",
       "      <td>320.4</td>\n",
       "    </tr>\n",
       "    <tr>\n",
       "      <th>168</th>\n",
       "      <td>75</td>\n",
       "      <td>125</td>\n",
       "      <td>150</td>\n",
       "      <td>330.4</td>\n",
       "    </tr>\n",
       "  </tbody>\n",
       "</table>\n",
       "<p>169 rows × 4 columns</p>\n",
       "</div>"
      ],
      "text/plain": [
       "     Duration  Pulse  Maxpulse  Calories\n",
       "0          60    110       130     409.1\n",
       "1          60    117       145     479.0\n",
       "2          60    103       135     340.0\n",
       "3          45    109       175     282.4\n",
       "4          45    117       148     406.0\n",
       "..        ...    ...       ...       ...\n",
       "164        60    105       140     290.8\n",
       "165        60    110       145     300.0\n",
       "166        60    115       145     310.2\n",
       "167        75    120       150     320.4\n",
       "168        75    125       150     330.4\n",
       "\n",
       "[169 rows x 4 columns]"
      ]
     },
     "execution_count": 24,
     "metadata": {},
     "output_type": "execute_result"
    }
   ],
   "source": [
    "# reading from a csv file:\n",
    "\n",
    "df = pd.read_csv('data.csv')\n",
    "\n",
    "df"
   ]
  },
  {
   "cell_type": "code",
   "execution_count": 25,
   "id": "3320c3a8-2bbe-4221-9ba9-d44ef426eab3",
   "metadata": {},
   "outputs": [],
   "source": [
    "# Displaying the entire DataFrame(Changing the maximum number of displayed rows):\n",
    "\n",
    "# pd.options.display.max_rows = 10000    # uncomment to apply what you want \n",
    "\n",
    "# df"
   ]
  },
  {
   "cell_type": "code",
   "execution_count": 26,
   "id": "7e201e02-86ad-4f4b-b4d7-ad14892bdc7f",
   "metadata": {},
   "outputs": [],
   "source": [
    "# Simple analysis of the DataFrame:\n",
    "\n",
    "# df.head(5), df.tail(4)\n",
    "# df.info(), df.describe()\n",
    "\n",
    "# uncomment whatever you want and see what you can understand about the data."
   ]
  },
  {
   "cell_type": "markdown",
   "id": "2dcf78cc-a538-4ac2-b655-e97e2d26cb7e",
   "metadata": {},
   "source": [
    "#### Now The Real Stuff:\n",
    "1. Cleaning The Data\n",
    "2. "
   ]
  },
  {
   "cell_type": "code",
   "execution_count": 27,
   "id": "62322e38-8253-49fe-858f-14ca0c02d6e3",
   "metadata": {},
   "outputs": [],
   "source": [
    "# 1) Cleaning The Data:"
   ]
  }
 ],
 "metadata": {
  "kernelspec": {
   "display_name": "Python 3 (ipykernel)",
   "language": "python",
   "name": "python3"
  },
  "language_info": {
   "codemirror_mode": {
    "name": "ipython",
    "version": 3
   },
   "file_extension": ".py",
   "mimetype": "text/x-python",
   "name": "python",
   "nbconvert_exporter": "python",
   "pygments_lexer": "ipython3",
   "version": "3.9.12"
  },
  "widgets": {
   "application/vnd.jupyter.widget-state+json": {
    "state": {},
    "version_major": 2,
    "version_minor": 0
   }
  }
 },
 "nbformat": 4,
 "nbformat_minor": 5
}
