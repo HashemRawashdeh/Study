{
 "cells": [
  {
   "cell_type": "markdown",
   "id": "27bd80ae-8f3f-4ba6-a07f-1955d445acf9",
   "metadata": {},
   "source": [
    "# Practical Statistics for Data Science\n",
    "The expected outcome of going through this book:\n",
    "* Grasping key concepts from statistics that are relevant to data science.\n",
    "* The ability to identify which concepts are important and useful from a data science perspective, which are less so, and why.\n",
    "\n",
    "All  the  methods  in  this  book  have  some  connection—historical or methodological—to  the  discipline  of  statistics.  Methods  that  evolved  mainly  out  of computer science, such as neural nets, are not included.\n",
    "\n",
    "The goal of writing this notebook:\n",
    "- The above is what the author wrote as a description of his book. I will use it as a foundational theory and practicality - mixed block before jumping into deeper topics in data science.\n",
    "- I will write on this file what I believe is worth noting, and try whatever exercise I think is valuable."
   ]
  },
  {
   "cell_type": "markdown",
   "id": "cb69ca48-ce36-474f-a2c3-ab993f4c6001",
   "metadata": {},
   "source": [
    "# Chapter One | Exploratoy Data Analysis"
   ]
  },
  {
   "cell_type": "code",
   "execution_count": null,
   "id": "4d42a0db-e6eb-4775-a112-52fd6ba12c88",
   "metadata": {},
   "outputs": [],
   "source": []
  }
 ],
 "metadata": {
  "kernelspec": {
   "display_name": "Python 3 (ipykernel)",
   "language": "python",
   "name": "python3"
  },
  "language_info": {
   "codemirror_mode": {
    "name": "ipython",
    "version": 3
   },
   "file_extension": ".py",
   "mimetype": "text/x-python",
   "name": "python",
   "nbconvert_exporter": "python",
   "pygments_lexer": "ipython3",
   "version": "3.9.12"
  },
  "widgets": {
   "application/vnd.jupyter.widget-state+json": {
    "state": {},
    "version_major": 2,
    "version_minor": 0
   }
  }
 },
 "nbformat": 4,
 "nbformat_minor": 5
}
