{
 "cells": [
  {
   "cell_type": "markdown",
   "id": "10663dad-0419-4f52-a2fe-464b2b519fee",
   "metadata": {},
   "source": [
    "## **Chapter One | Your Deep Learning Journey**"
   ]
  },
  {
   "cell_type": "code",
   "execution_count": null,
   "id": "82dbc148-3dc3-4569-a061-0d411cd4e686",
   "metadata": {},
   "outputs": [],
   "source": [
    "from fastai.vision.all import *\n",
    "path = untar_data(URLs.PETS)/'images'\n",
    "def is_cat(x): return x[0].isupper()\n",
    "dls = ImageDataLoaders.from_name_func(\n",
    "path, get_image_files(path), valid_pct=0.2, seed=42,\n",
    "label_func=is_cat, item_tfms=Resize(224))\n",
    "learn = cnn_learner(dls, resnet34, metrics=error_rate)\n",
    "learn.fine_tune(1)"
   ]
  }
 ],
 "metadata": {
  "kernelspec": {
   "display_name": "Python 3 (ipykernel)",
   "language": "python",
   "name": "python3"
  },
  "language_info": {
   "codemirror_mode": {
    "name": "ipython",
    "version": 3
   },
   "file_extension": ".py",
   "mimetype": "text/x-python",
   "name": "python",
   "nbconvert_exporter": "python",
   "pygments_lexer": "ipython3",
   "version": "3.9.13"
  }
 },
 "nbformat": 4,
 "nbformat_minor": 5
}
