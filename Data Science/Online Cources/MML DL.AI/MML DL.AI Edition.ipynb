{
 "cells": [
  {
   "cell_type": "markdown",
   "id": "e6f99b11-44e9-4fb5-a730-b1a8bcea09e7",
   "metadata": {},
   "source": [
    "# Course One | Linear Algebra:\n",
    "---\n",
    "This course covers the linear algebra relevant to machine learning and datascience. I have already taken suc a course. Therefore, I will only use tis as a review by watching certain videos and doing the quizes and the assignments, and after that decide in what subjects I'm defecient in order to extinsively review it later."
   ]
  },
  {
   "cell_type": "markdown",
   "id": "9c6a7ad6-bae2-4fd2-9a89-2577d10c480e",
   "metadata": {},
   "source": [
    "* I am only defecient in eigenvectors, the rest of the course was very straigtforward for me, so here I'm making a note to review the eigenvectors once I need them in the future."
   ]
  },
  {
   "cell_type": "code",
   "execution_count": null,
   "id": "8cc2e4f4-8005-4296-ab0f-546b86f20435",
   "metadata": {},
   "outputs": [],
   "source": []
  }
 ],
 "metadata": {
  "kernelspec": {
   "display_name": "Python 3 (ipykernel)",
   "language": "python",
   "name": "python3"
  },
  "language_info": {
   "codemirror_mode": {
    "name": "ipython",
    "version": 3
   },
   "file_extension": ".py",
   "mimetype": "text/x-python",
   "name": "python",
   "nbconvert_exporter": "python",
   "pygments_lexer": "ipython3",
   "version": "3.9.13"
  }
 },
 "nbformat": 4,
 "nbformat_minor": 5
}
