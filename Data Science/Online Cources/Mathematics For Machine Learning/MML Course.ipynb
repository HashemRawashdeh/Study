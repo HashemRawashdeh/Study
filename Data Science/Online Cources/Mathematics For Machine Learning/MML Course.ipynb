{
 "cells": [
  {
   "cell_type": "markdown",
   "id": "90e51609-82ad-4a79-a1e4-dba5e4dbca46",
   "metadata": {},
   "source": [
    "# **Mathematics For Machine Learning**\n",
    "This specialization is presented by a very prestegous university (in the top 10 worldwide), and serves to bridge the mathematical gap between someone's knowledge and the ability to jump into field-specific ML Courses, and it covers the following:\n",
    "* Linear Algebra\n",
    "* Multivariate Calculus\n",
    "* Optimization\n",
    "* Some Probability and Statistics\n",
    "* Miscellenous ML specific Mathematical concepts\n",
    "\n",
    "As an Electrical Engineering student, I have studied numeruos mathematical courses such as calculus(1,2,3), applied mathematics, numerical methods, probability, differential equations, and more. Therefore, most of the topics covered in this specialization will serve as a refresher rather than a source of new knowledge. I will accompany this journey by some books that I find useful, and with practical exercises anytime I see a good enough chance for it."
   ]
  },
  {
   "cell_type": "markdown",
   "id": "3bcef0b5-2442-407e-97d3-3b5b7a14259e",
   "metadata": {},
   "source": [
    "## **Course One | Linear Algebra**\n",
    "The lecturer does everything by hand, and I will go along with him mostly by coding since I am already familiar with manually solving such problems. I will solve by hand whenever I see the need to, and perhabs even uploading an image of my hand writter notes."
   ]
  },
  {
   "cell_type": "markdown",
   "id": "e4e4009d-7ffc-430b-bb6d-9dfcc1d3fb10",
   "metadata": {},
   "source": [
    "### **Week One**\n",
    "In this first module we look at how linear algebra is relevant to machine learning and data science. Then we'll wind up the module with an initial introduction to vectors. Throughout, we're focussing on developing your mathematical intuition, not of crunching through algebra or doing long pen-and-paper examples. For many of these operations, there are callable functions in Python that can do the adding up - the point is to appreciate what they do and how they work so that, when things go wrong or there are special cases, you can understand why and what to do.\n",
    "\n",
    "**Learning Objictives**:\n",
    "* Recall how machine learning and vectors and matrices are related\n",
    "* Interpret how changes in the model parameters affect the quality of the fit to the training data\n",
    "* Recognize that variations in the model parameters are vectors on the response surface - that vectors are a generic concept not limited to a physical real space\n",
    "* Use substitution / elimination to solve a fairly easy linear algebra problem\n",
    "* Understand how to add vectors and multiply by a scalar number"
   ]
  },
  {
   "cell_type": "markdown",
   "id": "9e46f6e5-10dc-4b67-96f5-b184e8e66aa2",
   "metadata": {},
   "source": [
    "#### **The Relationship Between Machine Learning, Linear Algebra, and Vectors and Matrices**"
   ]
  },
  {
   "cell_type": "markdown",
   "id": "a6bd9029-e94a-4fbd-a414-a5cc87c510c9",
   "metadata": {},
   "source": [
    "Here the lecturer conceptually descriped two mathematical problems faced in machine learning:\n",
    "1. Solving systems of linear equations\n",
    "2. Fitting a curve into a data distribution by maximizing some parameters\n",
    "\n",
    "The First quiz was a taste of what this specialization is going to cover. An optimization problem of how to minimize the SSR by creating a mean, std vector that is moving towards the global minimum by going with the directional derivitive that makes a right angle with the contuer lines. This short quiz showed how some concepts of multivariate calculus and linear algebra play a cardinal rule in machine learning.\n",
    "\n",
    "The second quiz serves as a refresher in solving systems of linear equations, and since I'm familiar with this topic, I will do the basic ones in my mind, and pick the ones I see a benifit in practicing them in code here:"
   ]
  },
  {
   "cell_type": "code",
   "execution_count": 1,
   "id": "c2e5aaa1-8879-460f-b373-5149f5696e07",
   "metadata": {},
   "outputs": [],
   "source": [
    "import numpy as np"
   ]
  },
  {
   "cell_type": "code",
   "execution_count": 2,
   "id": "1571e16c-9a7c-472c-8af4-2872ad2ac105",
   "metadata": {},
   "outputs": [
    {
     "data": {
      "text/plain": [
       "array([-3.,  7.])"
      ]
     },
     "execution_count": 2,
     "metadata": {},
     "output_type": "execute_result"
    }
   ],
   "source": [
    "# Solve the following system of equations by the inverse method:\n",
    "\n",
    "c = np.array([[-2,2],[5,3]])  # Coefficient Matrix\n",
    "v = np.array([20,6])          # constants vector\n",
    "\n",
    "c_inv = np.linalg.inv(c)\n",
    "\n",
    "solution = c_inv @ v          # Matrix Product\n",
    "solution\n",
    "\n",
    "# The benifit of doing this simple problem is getting familiar with matrix inverse and multiplication using numpy"
   ]
  },
  {
   "cell_type": "code",
   "execution_count": 3,
   "id": "eb9d22e4-b151-469b-a4f3-679bd291bd1e",
   "metadata": {},
   "outputs": [
    {
     "data": {
      "text/plain": [
       "array([ 1., -1.,  2.])"
      ]
     },
     "execution_count": 3,
     "metadata": {},
     "output_type": "execute_result"
    }
   ],
   "source": [
    "# Solve the following system of linear equations:\n",
    "\n",
    "c = np.array([[3,-2,1],[1,1,1],[3,-2,-1]])  # Coefficient Matrix\n",
    "v = np.array([7,2,3])                       # constants vector\n",
    "\n",
    "solution = np.linalg.solve(c,v)\n",
    "solution\n",
    "\n",
    "# The point of doing this problem is getting familiar with how numpy solves systems of linear equations"
   ]
  },
  {
   "cell_type": "markdown",
   "id": "1e5824dd-408a-41dc-80ba-7b6c3d29e95a",
   "metadata": {},
   "source": [
    "#### **Vectors**"
   ]
  },
  {
   "cell_type": "markdown",
   "id": "f5c774d9-1b09-44f3-b215-fb98d5747074",
   "metadata": {},
   "source": [
    "**Video:**\n",
    "\n",
    "Expanded the definition of a vector as a thing in space that has a specific magnitude and points to a specific direction, to an abstract definition as a list of things, and that list obeys two properties:\n",
    "1. Multiplication by a scalor\n",
    "2. Addition with another vector\n",
    "\n",
    "**Quiz:**\n",
    "\n",
    "Nothing worth noting here, only very basic known stuff were covered in it."
   ]
  },
  {
   "cell_type": "markdown",
   "id": "470fbf80-260f-46ff-accc-566399ba8496",
   "metadata": {},
   "source": [
    "### **Week Two**\n",
    "\n",
    "In this module, we look at operations we can do with vectors - finding the modulus (size), angle between vectors (dot or inner product) and projections of one vector onto another. We can then examine how the entries describing a vector will depend on what vectors we use to define the axes - the basis. That will then let us determine whether a proposed set of basis vectors are what's called 'linearly independent.' This will complete our examination of vectors, allowing us to move on to matrices in module 3 and then start to solve linear algebra problems.\n",
    "\n",
    "**Learning Objectives:**\n",
    "* Calculate basic operations (dot product, modulus, negation) on vectors\n",
    "* Calculate a change of basis\n",
    "* Recall linear independence\n",
    "* Identify a linearly independent basis and relate this to the dimensionality of the space"
   ]
  },
  {
   "cell_type": "markdown",
   "id": "b27bba32-afd4-42c1-80ec-2afbbeb5a438",
   "metadata": {},
   "source": [
    "#### **Finding The Size of a Vector, Its Angle, and Projection**\n",
    "\n",
    "**Video:**\n",
    "\n",
    "Nothing worth mentioning here. Pretty basic stuff.\n",
    "\n",
    "**Quiz:**\n",
    "\n",
    "Nothing worth noting here, only very basic known stuff were covered in it."
   ]
  }
 ],
 "metadata": {
  "kernelspec": {
   "display_name": "Python 3 (ipykernel)",
   "language": "python",
   "name": "python3"
  },
  "language_info": {
   "codemirror_mode": {
    "name": "ipython",
    "version": 3
   },
   "file_extension": ".py",
   "mimetype": "text/x-python",
   "name": "python",
   "nbconvert_exporter": "python",
   "pygments_lexer": "ipython3",
   "version": "3.9.12"
  },
  "widgets": {
   "application/vnd.jupyter.widget-state+json": {
    "state": {},
    "version_major": 2,
    "version_minor": 0
   }
  }
 },
 "nbformat": 4,
 "nbformat_minor": 5
}
