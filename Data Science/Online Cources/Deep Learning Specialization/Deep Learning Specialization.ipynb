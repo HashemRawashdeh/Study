{
 "cells": [
  {
   "cell_type": "markdown",
   "id": "25541d5e-97f9-4543-98be-807688a5364b",
   "metadata": {},
   "source": [
    "# **Course One | Neural Networks And Deep Learning**\n",
    "---\n",
    "In the first course of the Deep Learning Specialization, the foundational concept of neural networks and deep learning will be studied. \n",
    "By the end, I will be familiar with the significant technological trends driving the rise of deep learning; build, train, and apply fully connected deep neural networks; implement efficient (vectorized) neural networks; identify key parameters in a neural network’s architecture; and apply deep learning to my own applications."
   ]
  },
  {
   "cell_type": "markdown",
   "id": "9ef1b634-c4c1-423c-b906-52fb51ea3211",
   "metadata": {
    "tags": []
   },
   "source": [
    "## **Week One | Introduction To Deep Learning**\n",
    "Analyze the major trends driving the rise of deep learning, and give examples of where and how it is applied today.\n",
    "\n",
    "**Learning Objectives:**\n",
    "* Discuss the major trends driving the rise of deep learning.\n",
    "* Explain how deep learning is applied to supervised learning\n",
    "* List the major categories of models (CNNs, RNNs, etc.), and when they should be applied\n",
    "* Assess appropriate use cases for deep learning"
   ]
  },
  {
   "cell_type": "markdown",
   "id": "dca38ad5-27f6-40e0-8dfb-eabbc56013a0",
   "metadata": {},
   "source": [
    "* Nothing to write here. This week only gave a basic introduction to the topic."
   ]
  },
  {
   "cell_type": "markdown",
   "id": "c588ea62-3e0a-4290-900c-6b61382faca8",
   "metadata": {},
   "source": [
    "## **Week Two | Neuraal Networks Basics**\n",
    "Set up a machine learning problem with a neural network mindset and use vectorization to speed up your models.\n",
    "\n",
    "**Learning Objectives:**\n",
    "\n",
    "* Build a logistic regression model structured as a shallow neural network\n",
    "* Build the general architecture of a learning algorithm, including parameter initialization, cost function and gradient calculation, and optimization implemetation (gradient descent)\n",
    "* Implement computationally efficient and highly vectorized versions of models\n",
    "* Compute derivatives for logistic regression, using a backpropagation mindset\n",
    "* Use Numpy functions and Numpy matrix/vector operations\n",
    "* Work with iPython Notebooks\n",
    "* Implement vectorization across multiple training examples\n",
    "* Explain the concept of broadcasting"
   ]
  },
  {
   "cell_type": "markdown",
   "id": "b6086d7d-2539-4d78-97dc-34fc45cc1149",
   "metadata": {},
   "source": [
    "**This week covered simple neural networks with a binary classification problem using logistic regression from scratch. There is really nothing to write here since everything is in the labs.**\n",
    "\n",
    "Following are the covered topics:\n",
    "* A seperate lab for python basics(vectorization/broadcasting)\n",
    "* Computation graphs\n",
    "* A lab that classifies the picture as a cat non cat prblem where the following was done:\n",
    "1. Preprocessing the data\n",
    "2. Creating functions for each step(intilializing parameters/ optimization(gradient descent)/ etc)\n",
    "3. Creating a model function that encopsilates everything together.\n",
    "\n",
    "**Check the labs for further review, since this is already covered in the machine learning specialization.**"
   ]
  },
  {
   "cell_type": "code",
   "execution_count": null,
   "id": "e28cfeab-510b-47d9-a151-0c1f75e09ff4",
   "metadata": {},
   "outputs": [],
   "source": []
  }
 ],
 "metadata": {
  "kernelspec": {
   "display_name": "Python 3 (ipykernel)",
   "language": "python",
   "name": "python3"
  },
  "language_info": {
   "codemirror_mode": {
    "name": "ipython",
    "version": 3
   },
   "file_extension": ".py",
   "mimetype": "text/x-python",
   "name": "python",
   "nbconvert_exporter": "python",
   "pygments_lexer": "ipython3",
   "version": "3.9.13"
  }
 },
 "nbformat": 4,
 "nbformat_minor": 5
}
