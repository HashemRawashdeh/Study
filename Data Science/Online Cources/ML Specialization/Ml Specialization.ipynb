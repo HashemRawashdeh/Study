{
 "cells": [
  {
   "cell_type": "markdown",
   "id": "286eeedf-9e79-4c9b-8da1-8e17f55e52c8",
   "metadata": {},
   "source": [
    "# **Course One | Supervised Machine Learning**\n",
    "This is couse one of three in this specialization. This course covers supervised learning (regression, and classification)."
   ]
  },
  {
   "cell_type": "markdown",
   "id": "00cdd21c-20d4-4bb0-ac29-46b04d7c3a24",
   "metadata": {},
   "source": [
    "## **Week One | Introduction To Machine Learning**\n",
    "Welcome to the Machine Learning Specialization! You're joining millions of others who have taken either this or the original course, which led to the founding of Coursera, and has helped millions of other learners, like you, take a look at the exciting world of machine learning!\n",
    "\n",
    "**Learning Objectives:**\n",
    "* Define machine learning\n",
    "* Define supervised learning\n",
    "* Define unsupervised learning\n",
    "* Write and run Python code in Jupyter Notebooks\n",
    "* Define a regression model\n",
    "* Implement and visualize a cost function\n",
    "* Implement gradient descent\n",
    "* Optimize a regression model using gradient descent"
   ]
  },
  {
   "cell_type": "markdown",
   "id": "deef00e0-7064-4282-b2a5-ac3e8e705c6c",
   "metadata": {},
   "source": [
    "## **Overview of Machine Learning**\n",
    "**Videos:**\n",
    "The videos were straight forward welcome to the course, and also showed some real life applications of the subject."
   ]
  },
  {
   "cell_type": "markdown",
   "id": "00beb104-f3d8-4e8d-8df6-a8581d8b5a7b",
   "metadata": {},
   "source": [
    "## **Supervised vs. Unsupervised Machine Learning**\n",
    "**Videos:**\n",
    "The videos first defined **_machine learning_** as the act of making the computer do something without it being explicitly programmed to do it, i.e the machine learnes by itself, hence the name. The videos also defined the two main branches of machine learning: supervised learning and unsuprvised learning, and defined each one and gave example application of each one. **_supervised learning_** is the type of machine learning in which the imput would be labelled data, unlike the unsupervised one, were the input is unlabelled data, and the algorithm needs to find patterns in the data(cluster them, or detect the anamoly). PCA is another example of unsupervised learning, which I do not know what it is yet, but I thought mentioning it would be good here. For the **_supervised learning_** part, there is two main branches of it: Regression, where the output is continious(predict income for example), and classification, where the output is discrete(cancer type detection for example). This section introduced Jupyter notebooks as well, but I won't talk about it since I have been using it for a while now.\n",
    "\n",
    "**Quizes:**\n",
    "Very straight forward two conceptual questions quiz."
   ]
  },
  {
   "cell_type": "markdown",
   "id": "c6b78c4d-5c8f-4e9f-b5ad-75ca36bd60e2",
   "metadata": {},
   "source": [
    "## **Regression Model**\n",
    "**Videos:**\n",
    "The videos covered what linear regression is, and went into great details at that. The opyinal labs were great as well. Nothing to note here as I will go through the topic from scratch in code later.\n",
    "\n",
    "**Quizes:**\n",
    "Very straight forward two conceptual questions quiz."
   ]
  },
  {
   "cell_type": "markdown",
   "id": "0c6f920d-eee6-4e53-a75b-90d0765cd0b7",
   "metadata": {},
   "source": [
    "## **Train The Model With Gradient Descent**\n",
    "**Videos:**\n",
    "The videos covered what grasient descent is, and went into great details at that, and gave great intuition to understand it, and then covered how the gradient descent solves the cost function minimzation problem from the linear regression section before it. The optinal labs were great as well. Nothing to note here as I will go through the topic from scratch in code later.\n",
    "\n",
    "**Quizes:**\n",
    "Very straight forward two conceptual questions quiz."
   ]
  },
  {
   "cell_type": "markdown",
   "id": "dc55ae1e-2839-46a5-afe5-626cf32b6f69",
   "metadata": {},
   "source": [
    "## **implementing A linear Regression Model From Scratch | A Side Quest:**"
   ]
  },
  {
   "cell_type": "markdown",
   "id": "ef044fd1-7086-44b4-87d3-f701eb6e3d8b",
   "metadata": {},
   "source": [
    "### Problem Statement:\n",
    "Here we have a dataset of the population of a ctiy vs the net profit, and we are trying to predict the profit for any population:"
   ]
  },
  {
   "cell_type": "code",
   "execution_count": 1,
   "id": "880e77f8-aba6-420b-804e-fe3fccd73c81",
   "metadata": {},
   "outputs": [],
   "source": [
    "# Importing the relevant modules:\n",
    "\n",
    "from math import ceil\n",
    "import numpy as np\n",
    "import pandas as pd\n",
    "import matplotlib.pyplot as plt\n",
    "plt.style.use('ggplot')"
   ]
  },
  {
   "cell_type": "code",
   "execution_count": 2,
   "id": "889d4f25-14e0-4812-91e9-6f8265ea6ec2",
   "metadata": {},
   "outputs": [],
   "source": [
    "# Loading the dataset:\n",
    "df = pd.read_csv('bike_sharing_data.txt')"
   ]
  },
  {
   "cell_type": "code",
   "execution_count": 3,
   "id": "5ac1569a-53db-4f43-be5d-ae4782b03b60",
   "metadata": {},
   "outputs": [
    {
     "data": {
      "text/html": [
       "<div>\n",
       "<style scoped>\n",
       "    .dataframe tbody tr th:only-of-type {\n",
       "        vertical-align: middle;\n",
       "    }\n",
       "\n",
       "    .dataframe tbody tr th {\n",
       "        vertical-align: top;\n",
       "    }\n",
       "\n",
       "    .dataframe thead th {\n",
       "        text-align: right;\n",
       "    }\n",
       "</style>\n",
       "<table border=\"1\" class=\"dataframe\">\n",
       "  <thead>\n",
       "    <tr style=\"text-align: right;\">\n",
       "      <th></th>\n",
       "      <th>Population</th>\n",
       "      <th>Profit</th>\n",
       "    </tr>\n",
       "  </thead>\n",
       "  <tbody>\n",
       "    <tr>\n",
       "      <th>0</th>\n",
       "      <td>6.1101</td>\n",
       "      <td>17.5920</td>\n",
       "    </tr>\n",
       "    <tr>\n",
       "      <th>1</th>\n",
       "      <td>5.5277</td>\n",
       "      <td>9.1302</td>\n",
       "    </tr>\n",
       "    <tr>\n",
       "      <th>2</th>\n",
       "      <td>8.5186</td>\n",
       "      <td>13.6620</td>\n",
       "    </tr>\n",
       "    <tr>\n",
       "      <th>3</th>\n",
       "      <td>7.0032</td>\n",
       "      <td>11.8540</td>\n",
       "    </tr>\n",
       "    <tr>\n",
       "      <th>4</th>\n",
       "      <td>5.8598</td>\n",
       "      <td>6.8233</td>\n",
       "    </tr>\n",
       "  </tbody>\n",
       "</table>\n",
       "</div>"
      ],
      "text/plain": [
       "   Population   Profit\n",
       "0      6.1101  17.5920\n",
       "1      5.5277   9.1302\n",
       "2      8.5186  13.6620\n",
       "3      7.0032  11.8540\n",
       "4      5.8598   6.8233"
      ]
     },
     "execution_count": 3,
     "metadata": {},
     "output_type": "execute_result"
    }
   ],
   "source": [
    "# Examining the dataset:\n",
    "df.head()"
   ]
  },
  {
   "cell_type": "code",
   "execution_count": 4,
   "id": "6a3a3dc7-4662-4e83-bdb6-87e3f0d45b90",
   "metadata": {},
   "outputs": [],
   "source": [
    "# df.describe() # Uncomment to examine the data more\n",
    "# df.info()"
   ]
  },
  {
   "cell_type": "code",
   "execution_count": 5,
   "id": "2fdaffbb-806d-4510-a7ec-9e6249b4ec50",
   "metadata": {},
   "outputs": [
    {
     "data": {
      "text/plain": [
       "<matplotlib.collections.PathCollection at 0x7f2e183561f0>"
      ]
     },
     "execution_count": 5,
     "metadata": {},
     "output_type": "execute_result"
    },
    {
     "data": {
      "image/png": "[encoded data removed]",
      "text/plain": [
       "<Figure size 640x480 with 1 Axes>"
      ]
     },
     "metadata": {},
     "output_type": "display_data"
    }
   ],
   "source": [
    "# Visualizing the data:\n",
    "plt.scatter(df.Population, df.Profit)"
   ]
  },
  {
   "cell_type": "markdown",
   "id": "ef4c6e76-3079-481a-ab49-5e6b0a23c5f1",
   "metadata": {},
   "source": [
    "* The data looks suitable for linear regression, so here I start with it:\n",
    "* The optimum line will take the form  of w*x+b, where I need to optimize the w, and b values to give the best fit(minimze the error)."
   ]
  },
  {
   "cell_type": "code",
   "execution_count": 6,
   "id": "a0619c46-1d3d-464d-9b66-46d83e913dc8",
   "metadata": {},
   "outputs": [],
   "source": [
    "x_train = df.Population # The Feature\n",
    "y_train = df.Profit     # The Target"
   ]
  },
  {
   "cell_type": "markdown",
   "id": "52e6911e-8794-4baf-9fe9-e1d745bff6f1",
   "metadata": {},
   "source": [
    "### Computing The Cost:"
   ]
  },
  {
   "cell_type": "code",
   "execution_count": 7,
   "id": "2a43ee33-d718-47a7-a31b-590d46fcb2a5",
   "metadata": {},
   "outputs": [],
   "source": [
    "# computing the cost function:\n",
    "def cost(x,y,w,b):\n",
    "    ''' This function computes the cost function ,\n",
    "    Args:\n",
    "    x: Feature data\n",
    "    y: Target Data\n",
    "    w: Parameter\n",
    "    b: Parameter\n",
    "    '''\n",
    "    cost = 0\n",
    "    m = len(x_train)\n",
    "    \n",
    "    for i in range(m):\n",
    "        f_wb = w * x[i] + b\n",
    "        cost = cost + (f_wb - y[i])**2\n",
    "    \n",
    "    total_cost = cost / (2*m)\n",
    "    \n",
    "    return total_cost"
   ]
  },
  {
   "cell_type": "markdown",
   "id": "987415f5-d9f8-4f88-9e20-0a3a3d321d68",
   "metadata": {},
   "source": [
    "### Computing The Derivitives:"
   ]
  },
  {
   "cell_type": "code",
   "execution_count": 8,
   "id": "8d575efe-7dd9-4ffd-b0ea-c803ea4a8c94",
   "metadata": {},
   "outputs": [],
   "source": [
    "# Computing the derivitives:\n",
    "def gradients(x,y,w,b):\n",
    "    ''' This function computes the cost function ,\n",
    "    Args:\n",
    "    x: Feature data\n",
    "    y: Target Data\n",
    "    w: Parameter\n",
    "    b: Parameter\n",
    "    '''\n",
    "    m = x.shape[0]    \n",
    "    dj_dw = 0\n",
    "    dj_db = 0\n",
    "    \n",
    "    for i in range(m):  \n",
    "        f_wb = w * x[i] + b \n",
    "        dj_dw_i = (f_wb - y[i]) * x[i] \n",
    "        dj_db_i = f_wb - y[i] \n",
    "        dj_db += dj_db_i\n",
    "        dj_dw += dj_dw_i \n",
    "    dj_dw = dj_dw / m \n",
    "    dj_db = dj_db / m \n",
    "    \n",
    "    return dj_dw, dj_db"
   ]
  },
  {
   "cell_type": "markdown",
   "id": "0c9d1165-6e71-409a-870d-3306999b2ddf",
   "metadata": {},
   "source": [
    "### Implementing The Gradient Descent Algorithm:"
   ]
  },
  {
   "cell_type": "code",
   "execution_count": 9,
   "id": "190e9648-f2cc-4591-b2a4-3082dc3e9ee8",
   "metadata": {},
   "outputs": [],
   "source": [
    "# Implementing the gradient descent alforithm:\n",
    "def gradient_descent(w,b,alpha,itr):\n",
    "    ''' This function employs the gradient descent algorithm\n",
    "    Args:\n",
    "    w, b: parameters\n",
    "    alpha: learning rate\n",
    "    gradients: the derivitive of the cost w.r.t w and b, respectively\n",
    "    itr: The number of iterations\n",
    "    '''\n",
    "    j_history = [] # Saving the cost function values history for plotting later on\n",
    "    for i in range(itr):\n",
    "        djdw, djdb = gradients(x_train,y_train,w,b)\n",
    "        w = w - alpha * djdw\n",
    "        b = b - alpha * djdb\n",
    "        \n",
    "        if i<100000:      # prevent resource exhaustion \n",
    "            j_history.append( cost(x_train, y_train, w , b))\n",
    "            \n",
    "        if i% ceil(itr/10) == 0:   # prints 10 iterations or all of them if they're < 10\n",
    "            print(f\"Iteration {i:4}: Cost {j_history[-1]:0.2e} \",\n",
    "                  f\"dj_dw: {djdw: 0.3e}, dj_db: {djdb: 0.3e}  \",\n",
    "                  f\"w: {w: 0.3e}, b:{b: 0.5e}\")\n",
    "            \n",
    "    return w, b , j_history"
   ]
  },
  {
   "cell_type": "markdown",
   "id": "0148d17b-fb5b-4ac4-88d5-46049fe63c14",
   "metadata": {},
   "source": [
    "### Putting It All Together:"
   ]
  },
  {
   "cell_type": "code",
   "execution_count": null,
   "id": "390e0dea-0e93-4289-bdf9-fb62408e5644",
   "metadata": {},
   "outputs": [
    {
     "name": "stdout",
     "output_type": "stream",
     "text": [
      "Iteration    0: Cost 6.74e+00  dj_dw: -6.533e+01, dj_db: -5.839e+00   w:  6.533e-01, b: 5.83914e-02\n",
      "Iteration 1000: Cost 4.52e+00  dj_dw: -1.185e-02, dj_db:  1.180e-01   w:  1.127e+00, b:-3.24258e+00\n",
      "Iteration 2000: Cost 4.48e+00  dj_dw: -1.951e-03, dj_db:  1.942e-02   w:  1.182e+00, b:-3.78826e+00\n",
      "Iteration 3000: Cost 4.48e+00  dj_dw: -3.211e-04, dj_db:  3.196e-03   w:  1.191e+00, b:-3.87808e+00\n",
      "Iteration 4000: Cost 4.48e+00  dj_dw: -5.285e-05, dj_db:  5.261e-04   w:  1.193e+00, b:-3.89287e+00\n",
      "Iteration 5000: Cost 4.48e+00  dj_dw: -8.699e-06, dj_db:  8.659e-05   w:  1.193e+00, b:-3.89530e+00\n",
      "Iteration 6000: Cost 4.48e+00  dj_dw: -1.432e-06, dj_db:  1.425e-05   w:  1.193e+00, b:-3.89570e+00\n",
      "Iteration 7000: Cost 4.48e+00  dj_dw: -2.357e-07, dj_db:  2.346e-06   w:  1.193e+00, b:-3.89577e+00\n",
      "Iteration 8000: Cost 4.48e+00  dj_dw: -3.880e-08, dj_db:  3.862e-07   w:  1.193e+00, b:-3.89578e+00\n",
      "Iteration 9000: Cost 4.48e+00  dj_dw: -6.386e-09, dj_db:  6.356e-08   w:  1.193e+00, b:-3.89578e+00\n"
     ]
    }
   ],
   "source": [
    "# initialize parameters\n",
    "w_init = 0\n",
    "b_init = 0\n",
    "# some gradient descent settings\n",
    "iterations = 10000\n",
    "tmp_alpha = 0.01\n",
    "# run gradient descent\n",
    "w_final, b_final, j_hist = gradient_descent(w_init, b_init, tmp_alpha, \n",
    "                                                    iterations)\n",
    "print(f\"(w,b) found by gradient descent: ({w_final:8.4f},{b_final:8.4f})\")"
   ]
  },
  {
   "cell_type": "markdown",
   "id": "1f9b25d6-9391-45df-947d-bdca7c130646",
   "metadata": {},
   "source": [
    "### Plotting The Results:"
   ]
  },
  {
   "cell_type": "code",
   "execution_count": null,
   "id": "50302998-553c-4600-98a5-1b9a4fdf0617",
   "metadata": {},
   "outputs": [],
   "source": [
    "plt.scatter(x_train,y_train)\n",
    "plt.plot(x_train, w_final*x_train + b_final)"
   ]
  },
  {
   "cell_type": "markdown",
   "id": "a276622c-4751-4e46-b0cd-ee26c4741c0a",
   "metadata": {},
   "source": [
    "### PLotting the convergence:"
   ]
  },
  {
   "cell_type": "code",
   "execution_count": null,
   "id": "d51d881a-8a42-42bf-ac8e-79b93a1453e8",
   "metadata": {},
   "outputs": [],
   "source": [
    "plt.plot(range(iterations), j_hist)"
   ]
  },
  {
   "cell_type": "markdown",
   "id": "81987f24-9576-41fd-994d-19f1cf25a91e",
   "metadata": {},
   "source": [
    "### Inference Using Our Optimized Model:"
   ]
  },
  {
   "cell_type": "code",
   "execution_count": null,
   "id": "9c771055-ba70-4e20-9ad5-62bb5ef58583",
   "metadata": {},
   "outputs": [],
   "source": [
    "# Creating a basic prediction function:\n",
    "profit_func = lambda population: w_final * population + b_final "
   ]
  },
  {
   "cell_type": "code",
   "execution_count": null,
   "id": "10743aaf-3d43-4f00-8a78-73dbdef0843e",
   "metadata": {},
   "outputs": [],
   "source": [
    "population = 13.21\n",
    "profit = profit_func(population)\n",
    "\n",
    "print(f'Given a population of {population} million people, the model predicts a profit of {profit:.2f} million dollars')"
   ]
  },
  {
   "cell_type": "markdown",
   "id": "1679a0c9-8b2e-4d26-a260-e9deaaec9ea9",
   "metadata": {},
   "source": [
    "### Notes & Tips:"
   ]
  },
  {
   "cell_type": "markdown",
   "id": "57275c23-7cc6-40fd-9f86-c5653636641e",
   "metadata": {},
   "source": [
    "* You can play around with the learning rate to see what happens when it is too high or too low. Examine the output of the gradient descent algorithm and see the convergence curve.\n",
    "\n",
    "* The optional labs in the course have many great visualizations and interactive plots, so go there to see more, for I didn't do everything in between as I am not teaching, just implementing.\n",
    "\n",
    "* I didn't prettify the plots since this is just for me, but I can always put the titles and the labels later.\n",
    "\n",
    "* All of this can be done with three lines of code using machine learning libraries, but I am implementing it from the ground up for learning purpuses, so none of this is ever used in practice, and that's another reason why I didn't focus on producing great graphs and so on."
   ]
  },
  {
   "cell_type": "code",
   "execution_count": null,
   "id": "5c96dcbc-6e04-4537-ba64-3a2ed1a9af35",
   "metadata": {},
   "outputs": [],
   "source": []
  }
 ],
 "metadata": {
  "kernelspec": {
   "display_name": "Python 3 (ipykernel)",
   "language": "python",
   "name": "python3"
  },
  "language_info": {
   "codemirror_mode": {
    "name": "ipython",
    "version": 3
   },
   "file_extension": ".py",
   "mimetype": "text/x-python",
   "name": "python",
   "nbconvert_exporter": "python",
   "pygments_lexer": "ipython3",
   "version": "3.9.13"
  }
 },
 "nbformat": 4,
 "nbformat_minor": 5
}
