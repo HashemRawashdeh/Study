{
 "cells": [
  {
   "cell_type": "markdown",
   "id": "606f324e-1eaa-4c15-8dd4-dbfbd52a5e05",
   "metadata": {},
   "source": [
    "# Automobiles Dataset\n",
    "---"
   ]
  },
  {
   "cell_type": "code",
   "execution_count": 1,
   "id": "3ec9107a-1d08-44cf-833c-3acc228bfcb1",
   "metadata": {},
   "outputs": [],
   "source": [
    "# Importing the modules:\n",
    "import numpy as np\n",
    "import matplotlib.pyplot as plt\n",
    "import pandas as pd\n",
    "import seaborn as sns\n",
    "%matplotlib inline"
   ]
  },
  {
   "cell_type": "code",
   "execution_count": 2,
   "id": "83b37c2d-a4cf-4ec7-ad90-ad5c979d9626",
   "metadata": {},
   "outputs": [],
   "source": [
    "# Importing the dataset:\n",
    "df = pd.read_csv('../../Datasets/automobiles.data')"
   ]
  },
  {
   "cell_type": "code",
   "execution_count": 3,
   "id": "4d107c6a-b342-4f74-91cb-d26e3b997e9c",
   "metadata": {},
   "outputs": [
    {
     "data": {
      "text/html": [
       "<div>\n",
       "<style scoped>\n",
       "    .dataframe tbody tr th:only-of-type {\n",
       "        vertical-align: middle;\n",
       "    }\n",
       "\n",
       "    .dataframe tbody tr th {\n",
       "        vertical-align: top;\n",
       "    }\n",
       "\n",
       "    .dataframe thead th {\n",
       "        text-align: right;\n",
       "    }\n",
       "</style>\n",
       "<table border=\"1\" class=\"dataframe\">\n",
       "  <thead>\n",
       "    <tr style=\"text-align: right;\">\n",
       "      <th></th>\n",
       "      <th>3</th>\n",
       "      <th>?</th>\n",
       "      <th>alfa-romero</th>\n",
       "      <th>gas</th>\n",
       "      <th>std</th>\n",
       "      <th>two</th>\n",
       "      <th>convertible</th>\n",
       "      <th>rwd</th>\n",
       "      <th>front</th>\n",
       "      <th>88.60</th>\n",
       "      <th>...</th>\n",
       "      <th>130</th>\n",
       "      <th>mpfi</th>\n",
       "      <th>3.47</th>\n",
       "      <th>2.68</th>\n",
       "      <th>9.00</th>\n",
       "      <th>111</th>\n",
       "      <th>5000</th>\n",
       "      <th>21</th>\n",
       "      <th>27</th>\n",
       "      <th>13495</th>\n",
       "    </tr>\n",
       "  </thead>\n",
       "  <tbody>\n",
       "    <tr>\n",
       "      <th>0</th>\n",
       "      <td>3</td>\n",
       "      <td>?</td>\n",
       "      <td>alfa-romero</td>\n",
       "      <td>gas</td>\n",
       "      <td>std</td>\n",
       "      <td>two</td>\n",
       "      <td>convertible</td>\n",
       "      <td>rwd</td>\n",
       "      <td>front</td>\n",
       "      <td>88.6</td>\n",
       "      <td>...</td>\n",
       "      <td>130</td>\n",
       "      <td>mpfi</td>\n",
       "      <td>3.47</td>\n",
       "      <td>2.68</td>\n",
       "      <td>9.0</td>\n",
       "      <td>111</td>\n",
       "      <td>5000</td>\n",
       "      <td>21</td>\n",
       "      <td>27</td>\n",
       "      <td>16500</td>\n",
       "    </tr>\n",
       "    <tr>\n",
       "      <th>1</th>\n",
       "      <td>1</td>\n",
       "      <td>?</td>\n",
       "      <td>alfa-romero</td>\n",
       "      <td>gas</td>\n",
       "      <td>std</td>\n",
       "      <td>two</td>\n",
       "      <td>hatchback</td>\n",
       "      <td>rwd</td>\n",
       "      <td>front</td>\n",
       "      <td>94.5</td>\n",
       "      <td>...</td>\n",
       "      <td>152</td>\n",
       "      <td>mpfi</td>\n",
       "      <td>2.68</td>\n",
       "      <td>3.47</td>\n",
       "      <td>9.0</td>\n",
       "      <td>154</td>\n",
       "      <td>5000</td>\n",
       "      <td>19</td>\n",
       "      <td>26</td>\n",
       "      <td>16500</td>\n",
       "    </tr>\n",
       "    <tr>\n",
       "      <th>2</th>\n",
       "      <td>2</td>\n",
       "      <td>164</td>\n",
       "      <td>audi</td>\n",
       "      <td>gas</td>\n",
       "      <td>std</td>\n",
       "      <td>four</td>\n",
       "      <td>sedan</td>\n",
       "      <td>fwd</td>\n",
       "      <td>front</td>\n",
       "      <td>99.8</td>\n",
       "      <td>...</td>\n",
       "      <td>109</td>\n",
       "      <td>mpfi</td>\n",
       "      <td>3.19</td>\n",
       "      <td>3.40</td>\n",
       "      <td>10.0</td>\n",
       "      <td>102</td>\n",
       "      <td>5500</td>\n",
       "      <td>24</td>\n",
       "      <td>30</td>\n",
       "      <td>13950</td>\n",
       "    </tr>\n",
       "    <tr>\n",
       "      <th>3</th>\n",
       "      <td>2</td>\n",
       "      <td>164</td>\n",
       "      <td>audi</td>\n",
       "      <td>gas</td>\n",
       "      <td>std</td>\n",
       "      <td>four</td>\n",
       "      <td>sedan</td>\n",
       "      <td>4wd</td>\n",
       "      <td>front</td>\n",
       "      <td>99.4</td>\n",
       "      <td>...</td>\n",
       "      <td>136</td>\n",
       "      <td>mpfi</td>\n",
       "      <td>3.19</td>\n",
       "      <td>3.40</td>\n",
       "      <td>8.0</td>\n",
       "      <td>115</td>\n",
       "      <td>5500</td>\n",
       "      <td>18</td>\n",
       "      <td>22</td>\n",
       "      <td>17450</td>\n",
       "    </tr>\n",
       "    <tr>\n",
       "      <th>4</th>\n",
       "      <td>2</td>\n",
       "      <td>?</td>\n",
       "      <td>audi</td>\n",
       "      <td>gas</td>\n",
       "      <td>std</td>\n",
       "      <td>two</td>\n",
       "      <td>sedan</td>\n",
       "      <td>fwd</td>\n",
       "      <td>front</td>\n",
       "      <td>99.8</td>\n",
       "      <td>...</td>\n",
       "      <td>136</td>\n",
       "      <td>mpfi</td>\n",
       "      <td>3.19</td>\n",
       "      <td>3.40</td>\n",
       "      <td>8.5</td>\n",
       "      <td>110</td>\n",
       "      <td>5500</td>\n",
       "      <td>19</td>\n",
       "      <td>25</td>\n",
       "      <td>15250</td>\n",
       "    </tr>\n",
       "  </tbody>\n",
       "</table>\n",
       "<p>5 rows × 26 columns</p>\n",
       "</div>"
      ],
      "text/plain": [
       "   3    ?  alfa-romero  gas  std   two  convertible  rwd  front  88.60  ...  \\\n",
       "0  3    ?  alfa-romero  gas  std   two  convertible  rwd  front   88.6  ...   \n",
       "1  1    ?  alfa-romero  gas  std   two    hatchback  rwd  front   94.5  ...   \n",
       "2  2  164         audi  gas  std  four        sedan  fwd  front   99.8  ...   \n",
       "3  2  164         audi  gas  std  four        sedan  4wd  front   99.4  ...   \n",
       "4  2    ?         audi  gas  std   two        sedan  fwd  front   99.8  ...   \n",
       "\n",
       "   130  mpfi  3.47  2.68  9.00  111  5000  21  27  13495  \n",
       "0  130  mpfi  3.47  2.68   9.0  111  5000  21  27  16500  \n",
       "1  152  mpfi  2.68  3.47   9.0  154  5000  19  26  16500  \n",
       "2  109  mpfi  3.19  3.40  10.0  102  5500  24  30  13950  \n",
       "3  136  mpfi  3.19  3.40   8.0  115  5500  18  22  17450  \n",
       "4  136  mpfi  3.19  3.40   8.5  110  5500  19  25  15250  \n",
       "\n",
       "[5 rows x 26 columns]"
      ]
     },
     "execution_count": 3,
     "metadata": {},
     "output_type": "execute_result"
    }
   ],
   "source": [
    "# exploring the data:\n",
    "df.head()\n",
    "# df.tail(7)\n",
    "# df.info()\n",
    "# df.describe()    # Uncomment anyone of them."
   ]
  },
  {
   "cell_type": "markdown",
   "id": "770a0ced-d197-4491-896b-70642c72454e",
   "metadata": {},
   "source": [
    "# Data Wrangling\n",
    "---"
   ]
  },
  {
   "cell_type": "markdown",
   "id": "17f91df2-eeb8-4d6a-8a6b-4298e3fc01eb",
   "metadata": {},
   "source": [
    "## What is the purpose of data wrangling?\n",
    "Data wrangling is the process of converting data from the initial format to a format that may be better for analysis.\n"
   ]
  },
  {
   "cell_type": "markdown",
   "id": "0908877f-05c1-4459-95ca-14a69c79cdf5",
   "metadata": {},
   "source": [
    "## Handling missing values:\n",
    "Note that the missing values are indicated with the'?' symbol"
   ]
  },
  {
   "cell_type": "code",
   "execution_count": 4,
   "id": "3460cdc0-c189-463f-a748-1da5d0ee2105",
   "metadata": {},
   "outputs": [],
   "source": [
    "df.replace('?', np.nan,inplace=True)\n",
    "headers = [\"symboling\",\"normalized-losses\",\"make\",\"fuel-type\",\"aspiration\", \"num-of-doors\",\"body-style\",\n",
    "         \"drive-wheels\",\"engine-location\",\"wheel-base\", \"length\",\"width\",\"height\",\"curb-weight\",\"engine-type\",\n",
    "         \"num-of-cylinders\", \"engine-size\",\"fuel-system\",\"bore\",\"stroke\",\"compression-ratio\",\"horsepower\",\n",
    "         \"peak-rpm\",\"city-mpg\",\"highway-mpg\",\"price\"]\n",
    "# changing the column names:\n",
    "df.columns = headers"
   ]
  },
  {
   "cell_type": "code",
   "execution_count": 5,
   "id": "58869212-adc3-4489-8894-ab2eb9276073",
   "metadata": {},
   "outputs": [
    {
     "name": "stdout",
     "output_type": "stream",
     "text": [
      "symboling\n",
      "False    204\n",
      "Name: symboling, dtype: int64\n",
      "\n",
      "normalized-losses\n",
      "False    164\n",
      "True      40\n",
      "Name: normalized-losses, dtype: int64\n",
      "\n",
      "make\n",
      "False    204\n",
      "Name: make, dtype: int64\n",
      "\n",
      "fuel-type\n",
      "False    204\n",
      "Name: fuel-type, dtype: int64\n",
      "\n",
      "aspiration\n",
      "False    204\n",
      "Name: aspiration, dtype: int64\n",
      "\n",
      "num-of-doors\n",
      "False    202\n",
      "True       2\n",
      "Name: num-of-doors, dtype: int64\n",
      "\n",
      "body-style\n",
      "False    204\n",
      "Name: body-style, dtype: int64\n",
      "\n",
      "drive-wheels\n",
      "False    204\n",
      "Name: drive-wheels, dtype: int64\n",
      "\n",
      "engine-location\n",
      "False    204\n",
      "Name: engine-location, dtype: int64\n",
      "\n",
      "wheel-base\n",
      "False    204\n",
      "Name: wheel-base, dtype: int64\n",
      "\n",
      "length\n",
      "False    204\n",
      "Name: length, dtype: int64\n",
      "\n",
      "width\n",
      "False    204\n",
      "Name: width, dtype: int64\n",
      "\n",
      "height\n",
      "False    204\n",
      "Name: height, dtype: int64\n",
      "\n",
      "curb-weight\n",
      "False    204\n",
      "Name: curb-weight, dtype: int64\n",
      "\n",
      "engine-type\n",
      "False    204\n",
      "Name: engine-type, dtype: int64\n",
      "\n",
      "num-of-cylinders\n",
      "False    204\n",
      "Name: num-of-cylinders, dtype: int64\n",
      "\n",
      "engine-size\n",
      "False    204\n",
      "Name: engine-size, dtype: int64\n",
      "\n",
      "fuel-system\n",
      "False    204\n",
      "Name: fuel-system, dtype: int64\n",
      "\n",
      "bore\n",
      "False    200\n",
      "True       4\n",
      "Name: bore, dtype: int64\n",
      "\n",
      "stroke\n",
      "False    200\n",
      "True       4\n",
      "Name: stroke, dtype: int64\n",
      "\n",
      "compression-ratio\n",
      "False    204\n",
      "Name: compression-ratio, dtype: int64\n",
      "\n",
      "horsepower\n",
      "False    202\n",
      "True       2\n",
      "Name: horsepower, dtype: int64\n",
      "\n",
      "peak-rpm\n",
      "False    202\n",
      "True       2\n",
      "Name: peak-rpm, dtype: int64\n",
      "\n",
      "city-mpg\n",
      "False    204\n",
      "Name: city-mpg, dtype: int64\n",
      "\n",
      "highway-mpg\n",
      "False    204\n",
      "Name: highway-mpg, dtype: int64\n",
      "\n",
      "price\n",
      "False    200\n",
      "True       4\n",
      "Name: price, dtype: int64\n",
      "\n"
     ]
    }
   ],
   "source": [
    "# Missing values count:\n",
    "missing = df.isnull()   # This creates a nul or not boolean mask\n",
    "\n",
    "for column in missing.columns.values:\n",
    "    print(column)\n",
    "    print(missing[column].value_counts())\n",
    "    print('')"
   ]
  },
  {
   "cell_type": "markdown",
   "id": "14a496ea-67ba-46ce-b0e4-d771ff8a915a",
   "metadata": {},
   "source": [
    "<h3 id=\"deal_missing_values\">Deal with missing data</h3>\n",
    "<b>How to deal with missing data?</b>\n",
    "\n",
    "<ol>\n",
    "    <li>Drop data<br>\n",
    "        a. Drop the whole row<br>\n",
    "        b. Drop the whole column\n",
    "    </li>\n",
    "    <li>Replace data<br>\n",
    "        a. Replace it by mean<br>\n",
    "        b. Replace it by frequency<br>\n",
    "        c. Replace it based on other functions\n",
    "    </li>\n",
    "</ol>\n"
   ]
  },
  {
   "cell_type": "markdown",
   "id": "5110fae2-8aee-4035-a255-cb11db6fbc21",
   "metadata": {},
   "source": [
    "Whole columns should be dropped only if most entries in the column are empty. In our dataset, none of the columns are empty enough to drop entirely.\n",
    "We have some freedom in choosing which method to replace data; however, some methods may seem more reasonable than others. We will apply each method to many different columns:\n",
    "\n",
    "<b>Replace by mean:</b>\n",
    "\n",
    "<ul>\n",
    "    <li>\"normalized-losses\": 41 missing data, replace them with mean</li>\n",
    "    <li>\"stroke\": 4 missing data, replace them with mean</li>\n",
    "    <li>\"bore\": 4 missing data, replace them with mean</li>\n",
    "    <li>\"horsepower\": 2 missing data, replace them with mean</li>\n",
    "    <li>\"peak-rpm\": 2 missing data, replace them with mean</li>\n",
    "</ul>\n",
    "\n",
    "<b>Replace by frequency:</b>\n",
    "\n",
    "<ul>\n",
    "    <li>\"num-of-doors\": 2 missing data, replace them with \"four\". \n",
    "        <ul>\n",
    "            <li>Reason: 84% sedans is four doors. Since four doors is most frequent, it is most likely to occur</li>\n",
    "        </ul>\n",
    "    </li>\n",
    "</ul>\n",
    "\n",
    "<b>Drop the whole row:</b>\n",
    "\n",
    "<ul>\n",
    "    <li>\"price\": 4 missing data, simply delete the whole row\n",
    "        <ul>\n",
    "            <li>Reason: price is what we want to predict. Any data entry without price data cannot be used for prediction; therefore any row now without price data is not useful to us</li>\n",
    "        </ul>\n",
    "    </li>\n",
    "</ul>\n"
   ]
  },
  {
   "cell_type": "code",
   "execution_count": 6,
   "id": "02428d36-0208-4ac9-894a-b5f6837b3f13",
   "metadata": {},
   "outputs": [],
   "source": [
    "# replacing by mean:\n",
    "\n",
    "mean1 = df['normalized-losses'].astype('float').mean()\n",
    "df['normalized-losses'].replace(np.nan, mean1, inplace=True)\n",
    "\n",
    "mean2 = df['stroke'].astype('float').mean()\n",
    "df['stroke'].replace(np.nan, mean2, inplace=True)\n",
    "\n",
    "mean3 = df['bore'].astype('float').mean()\n",
    "df['bore'].replace(np.nan, mean3, inplace=True)\n",
    "\n",
    "mean4 = df['horsepower'].astype('float').mean()\n",
    "df['horsepower'].replace(np.nan, mean4, inplace=True)\n",
    "\n",
    "mean5 = df['peak-rpm'].astype('float').mean()\n",
    "df['peak-rpm'].replace(np.nan, mean5, inplace=True)    # Note that, for obvious reasons, data formatting took place."
   ]
  },
  {
   "cell_type": "code",
   "execution_count": 7,
   "id": "b6cfb799-4238-44e7-aff4-247b9d45dbfd",
   "metadata": {},
   "outputs": [
    {
     "data": {
      "text/plain": [
       "count      202\n",
       "unique       2\n",
       "top       four\n",
       "freq       114\n",
       "Name: num-of-doors, dtype: object"
      ]
     },
     "execution_count": 7,
     "metadata": {},
     "output_type": "execute_result"
    }
   ],
   "source": [
    "# Replacing by frequency:\n",
    "df['num-of-doors'].describe()"
   ]
  },
  {
   "cell_type": "code",
   "execution_count": 8,
   "id": "0c554e4a-0cbe-410e-970e-ea2a5c98d6d6",
   "metadata": {},
   "outputs": [],
   "source": [
    "df['num-of-doors'].replace(np.nan,'four',inplace = True)"
   ]
  },
  {
   "cell_type": "code",
   "execution_count": 9,
   "id": "a1f35258-e0a3-4d34-82f5-b01ad83fd959",
   "metadata": {},
   "outputs": [],
   "source": [
    "# Dropping rows:\n",
    "df.dropna(subset='price', axis=0, inplace=True)"
   ]
  },
  {
   "cell_type": "markdown",
   "id": "67762e32-5d3d-4021-8868-c1432ab5c0b6",
   "metadata": {},
   "source": [
    "<h3 id=\"correct_data_format\">Correct data format</h3>\n",
    "<b>We are almost there!</b>\n",
    "<p>The last step in data cleaning is checking and making sure that all data is in the correct format (int, float, text or other).</p>\n",
    "\n",
    "In Pandas, we use:\n",
    "\n",
    "<p><b>.dtype()</b> to check the data type</p>\n",
    "<p><b>.astype()</b> to change the data type</p>\n"
   ]
  },
  {
   "cell_type": "code",
   "execution_count": 10,
   "id": "bc8968c1-82b7-4b35-b773-8bc2bb84f86d",
   "metadata": {},
   "outputs": [
    {
     "data": {
      "text/plain": [
       "symboling              int64\n",
       "normalized-losses     object\n",
       "make                  object\n",
       "fuel-type             object\n",
       "aspiration            object\n",
       "num-of-doors          object\n",
       "body-style            object\n",
       "drive-wheels          object\n",
       "engine-location       object\n",
       "wheel-base           float64\n",
       "length               float64\n",
       "width                float64\n",
       "height               float64\n",
       "curb-weight            int64\n",
       "engine-type           object\n",
       "num-of-cylinders      object\n",
       "engine-size            int64\n",
       "fuel-system           object\n",
       "bore                  object\n",
       "stroke                object\n",
       "compression-ratio    float64\n",
       "horsepower            object\n",
       "peak-rpm              object\n",
       "city-mpg               int64\n",
       "highway-mpg            int64\n",
       "price                 object\n",
       "dtype: object"
      ]
     },
     "execution_count": 10,
     "metadata": {},
     "output_type": "execute_result"
    }
   ],
   "source": [
    "# Listing all the data types:\n",
    "df.dtypes"
   ]
  },
  {
   "cell_type": "markdown",
   "id": "b7270628-2ef5-4bd3-bef4-26c200acae39",
   "metadata": {},
   "source": [
    "<p>As we can see above, some columns are not of the correct data type. Numerical variables should have type 'float' or 'int', and variables with strings such as categories should have type 'object'. For example, 'bore' and 'stroke' variables are numerical values that describe the engines, so we should expect them to be of the type 'float' or 'int'; however, they are shown as type 'object'. We have to convert data types into a proper format for each column using the \"astype()\" method.</p> \n"
   ]
  },
  {
   "cell_type": "code",
   "execution_count": 11,
   "id": "da4e912f-e7f1-40e4-8cd2-d8ccfd97cbc2",
   "metadata": {},
   "outputs": [],
   "source": [
    "# Converting the data types to a proper format:\n",
    "df[[\"bore\", \"stroke\"]] = df[[\"bore\", \"stroke\"]].astype(\"float\")\n",
    "df[[\"normalized-losses\"]] = df[[\"normalized-losses\"]].astype(\"int\")\n",
    "df[[\"price\"]] = df[[\"price\"]].astype(\"float\")\n",
    "df[[\"peak-rpm\"]] = df[[\"peak-rpm\"]].astype(\"float\")"
   ]
  },
  {
   "cell_type": "markdown",
   "id": "c87c1255-13ab-402f-9cc2-d32f17b8e43a",
   "metadata": {},
   "source": [
    "<h2 id=\"data_standardization\">Data Standardization</h2>\n",
    "<p>\n",
    "Data is usually collected from different agencies in different formats.\n",
    "(Data standardization is also a term for a particular type of data normalization where we subtract the mean and divide by the standard deviation.)\n",
    "</p>\n",
    "\n",
    "<b>What is standardization?</b>\n",
    "\n",
    "<p>Standardization is the process of transforming data into a common format, allowing the researcher to make the meaningful comparison.\n",
    "</p>\n",
    "\n",
    "<b>Example</b>\n",
    "\n",
    "<p>Transform mpg to L/100km:</p>\n",
    "<p>In our dataset, the fuel consumption columns \"city-mpg\" and \"highway-mpg\" are represented by mpg (miles per gallon) unit. Assume we are developing an application in a country that accepts the fuel consumption with L/100km standard.</p>\n",
    "<p>We will need to apply <b>data transformation</b> to transform mpg into L/100km.</p>\n"
   ]
  },
  {
   "cell_type": "code",
   "execution_count": 12,
   "id": "f1469e73-e3db-442b-9953-cd2b794c28e4",
   "metadata": {},
   "outputs": [
    {
     "data": {
      "text/html": [
       "<div>\n",
       "<style scoped>\n",
       "    .dataframe tbody tr th:only-of-type {\n",
       "        vertical-align: middle;\n",
       "    }\n",
       "\n",
       "    .dataframe tbody tr th {\n",
       "        vertical-align: top;\n",
       "    }\n",
       "\n",
       "    .dataframe thead th {\n",
       "        text-align: right;\n",
       "    }\n",
       "</style>\n",
       "<table border=\"1\" class=\"dataframe\">\n",
       "  <thead>\n",
       "    <tr style=\"text-align: right;\">\n",
       "      <th></th>\n",
       "      <th>symboling</th>\n",
       "      <th>normalized-losses</th>\n",
       "      <th>make</th>\n",
       "      <th>fuel-type</th>\n",
       "      <th>aspiration</th>\n",
       "      <th>num-of-doors</th>\n",
       "      <th>body-style</th>\n",
       "      <th>drive-wheels</th>\n",
       "      <th>engine-location</th>\n",
       "      <th>wheel-base</th>\n",
       "      <th>...</th>\n",
       "      <th>fuel-system</th>\n",
       "      <th>bore</th>\n",
       "      <th>stroke</th>\n",
       "      <th>compression-ratio</th>\n",
       "      <th>horsepower</th>\n",
       "      <th>peak-rpm</th>\n",
       "      <th>city-mpg</th>\n",
       "      <th>highway-mpg</th>\n",
       "      <th>price</th>\n",
       "      <th>city-L/100km</th>\n",
       "    </tr>\n",
       "  </thead>\n",
       "  <tbody>\n",
       "    <tr>\n",
       "      <th>0</th>\n",
       "      <td>3</td>\n",
       "      <td>122</td>\n",
       "      <td>alfa-romero</td>\n",
       "      <td>gas</td>\n",
       "      <td>std</td>\n",
       "      <td>two</td>\n",
       "      <td>convertible</td>\n",
       "      <td>rwd</td>\n",
       "      <td>front</td>\n",
       "      <td>88.6</td>\n",
       "      <td>...</td>\n",
       "      <td>mpfi</td>\n",
       "      <td>3.47</td>\n",
       "      <td>2.68</td>\n",
       "      <td>9.0</td>\n",
       "      <td>111</td>\n",
       "      <td>5000.0</td>\n",
       "      <td>21</td>\n",
       "      <td>27</td>\n",
       "      <td>16500.0</td>\n",
       "      <td>11.190476</td>\n",
       "    </tr>\n",
       "    <tr>\n",
       "      <th>1</th>\n",
       "      <td>1</td>\n",
       "      <td>122</td>\n",
       "      <td>alfa-romero</td>\n",
       "      <td>gas</td>\n",
       "      <td>std</td>\n",
       "      <td>two</td>\n",
       "      <td>hatchback</td>\n",
       "      <td>rwd</td>\n",
       "      <td>front</td>\n",
       "      <td>94.5</td>\n",
       "      <td>...</td>\n",
       "      <td>mpfi</td>\n",
       "      <td>2.68</td>\n",
       "      <td>3.47</td>\n",
       "      <td>9.0</td>\n",
       "      <td>154</td>\n",
       "      <td>5000.0</td>\n",
       "      <td>19</td>\n",
       "      <td>26</td>\n",
       "      <td>16500.0</td>\n",
       "      <td>12.368421</td>\n",
       "    </tr>\n",
       "    <tr>\n",
       "      <th>2</th>\n",
       "      <td>2</td>\n",
       "      <td>164</td>\n",
       "      <td>audi</td>\n",
       "      <td>gas</td>\n",
       "      <td>std</td>\n",
       "      <td>four</td>\n",
       "      <td>sedan</td>\n",
       "      <td>fwd</td>\n",
       "      <td>front</td>\n",
       "      <td>99.8</td>\n",
       "      <td>...</td>\n",
       "      <td>mpfi</td>\n",
       "      <td>3.19</td>\n",
       "      <td>3.40</td>\n",
       "      <td>10.0</td>\n",
       "      <td>102</td>\n",
       "      <td>5500.0</td>\n",
       "      <td>24</td>\n",
       "      <td>30</td>\n",
       "      <td>13950.0</td>\n",
       "      <td>9.791667</td>\n",
       "    </tr>\n",
       "    <tr>\n",
       "      <th>3</th>\n",
       "      <td>2</td>\n",
       "      <td>164</td>\n",
       "      <td>audi</td>\n",
       "      <td>gas</td>\n",
       "      <td>std</td>\n",
       "      <td>four</td>\n",
       "      <td>sedan</td>\n",
       "      <td>4wd</td>\n",
       "      <td>front</td>\n",
       "      <td>99.4</td>\n",
       "      <td>...</td>\n",
       "      <td>mpfi</td>\n",
       "      <td>3.19</td>\n",
       "      <td>3.40</td>\n",
       "      <td>8.0</td>\n",
       "      <td>115</td>\n",
       "      <td>5500.0</td>\n",
       "      <td>18</td>\n",
       "      <td>22</td>\n",
       "      <td>17450.0</td>\n",
       "      <td>13.055556</td>\n",
       "    </tr>\n",
       "    <tr>\n",
       "      <th>4</th>\n",
       "      <td>2</td>\n",
       "      <td>122</td>\n",
       "      <td>audi</td>\n",
       "      <td>gas</td>\n",
       "      <td>std</td>\n",
       "      <td>two</td>\n",
       "      <td>sedan</td>\n",
       "      <td>fwd</td>\n",
       "      <td>front</td>\n",
       "      <td>99.8</td>\n",
       "      <td>...</td>\n",
       "      <td>mpfi</td>\n",
       "      <td>3.19</td>\n",
       "      <td>3.40</td>\n",
       "      <td>8.5</td>\n",
       "      <td>110</td>\n",
       "      <td>5500.0</td>\n",
       "      <td>19</td>\n",
       "      <td>25</td>\n",
       "      <td>15250.0</td>\n",
       "      <td>12.368421</td>\n",
       "    </tr>\n",
       "  </tbody>\n",
       "</table>\n",
       "<p>5 rows × 27 columns</p>\n",
       "</div>"
      ],
      "text/plain": [
       "   symboling  normalized-losses         make fuel-type aspiration  \\\n",
       "0          3                122  alfa-romero       gas        std   \n",
       "1          1                122  alfa-romero       gas        std   \n",
       "2          2                164         audi       gas        std   \n",
       "3          2                164         audi       gas        std   \n",
       "4          2                122         audi       gas        std   \n",
       "\n",
       "  num-of-doors   body-style drive-wheels engine-location  wheel-base  ...  \\\n",
       "0          two  convertible          rwd           front        88.6  ...   \n",
       "1          two    hatchback          rwd           front        94.5  ...   \n",
       "2         four        sedan          fwd           front        99.8  ...   \n",
       "3         four        sedan          4wd           front        99.4  ...   \n",
       "4          two        sedan          fwd           front        99.8  ...   \n",
       "\n",
       "   fuel-system  bore  stroke  compression-ratio horsepower peak-rpm  city-mpg  \\\n",
       "0         mpfi  3.47    2.68                9.0        111   5000.0        21   \n",
       "1         mpfi  2.68    3.47                9.0        154   5000.0        19   \n",
       "2         mpfi  3.19    3.40               10.0        102   5500.0        24   \n",
       "3         mpfi  3.19    3.40                8.0        115   5500.0        18   \n",
       "4         mpfi  3.19    3.40                8.5        110   5500.0        19   \n",
       "\n",
       "  highway-mpg    price  city-L/100km  \n",
       "0          27  16500.0     11.190476  \n",
       "1          26  16500.0     12.368421  \n",
       "2          30  13950.0      9.791667  \n",
       "3          22  17450.0     13.055556  \n",
       "4          25  15250.0     12.368421  \n",
       "\n",
       "[5 rows x 27 columns]"
      ]
     },
     "execution_count": 12,
     "metadata": {},
     "output_type": "execute_result"
    }
   ],
   "source": [
    "# Convert mpg to L/100km by mathematical operation (235 divided by mpg)\n",
    "df['city-L/100km'] = 235/df[\"city-mpg\"]\n",
    "\n",
    "# check your transformed data \n",
    "df.head()"
   ]
  },
  {
   "cell_type": "code",
   "execution_count": 13,
   "id": "980f2dd2-9a96-4aeb-a2ec-538a18313ff5",
   "metadata": {},
   "outputs": [
    {
     "data": {
      "text/html": [
       "<div>\n",
       "<style scoped>\n",
       "    .dataframe tbody tr th:only-of-type {\n",
       "        vertical-align: middle;\n",
       "    }\n",
       "\n",
       "    .dataframe tbody tr th {\n",
       "        vertical-align: top;\n",
       "    }\n",
       "\n",
       "    .dataframe thead th {\n",
       "        text-align: right;\n",
       "    }\n",
       "</style>\n",
       "<table border=\"1\" class=\"dataframe\">\n",
       "  <thead>\n",
       "    <tr style=\"text-align: right;\">\n",
       "      <th></th>\n",
       "      <th>symboling</th>\n",
       "      <th>normalized-losses</th>\n",
       "      <th>make</th>\n",
       "      <th>fuel-type</th>\n",
       "      <th>aspiration</th>\n",
       "      <th>num-of-doors</th>\n",
       "      <th>body-style</th>\n",
       "      <th>drive-wheels</th>\n",
       "      <th>engine-location</th>\n",
       "      <th>wheel-base</th>\n",
       "      <th>...</th>\n",
       "      <th>fuel-system</th>\n",
       "      <th>bore</th>\n",
       "      <th>stroke</th>\n",
       "      <th>compression-ratio</th>\n",
       "      <th>horsepower</th>\n",
       "      <th>peak-rpm</th>\n",
       "      <th>city-mpg</th>\n",
       "      <th>highway-L/100km</th>\n",
       "      <th>price</th>\n",
       "      <th>city-L/100km</th>\n",
       "    </tr>\n",
       "  </thead>\n",
       "  <tbody>\n",
       "    <tr>\n",
       "      <th>0</th>\n",
       "      <td>3</td>\n",
       "      <td>122</td>\n",
       "      <td>alfa-romero</td>\n",
       "      <td>gas</td>\n",
       "      <td>std</td>\n",
       "      <td>two</td>\n",
       "      <td>convertible</td>\n",
       "      <td>rwd</td>\n",
       "      <td>front</td>\n",
       "      <td>88.6</td>\n",
       "      <td>...</td>\n",
       "      <td>mpfi</td>\n",
       "      <td>3.47</td>\n",
       "      <td>2.68</td>\n",
       "      <td>9.0</td>\n",
       "      <td>111</td>\n",
       "      <td>5000.0</td>\n",
       "      <td>21</td>\n",
       "      <td>8.703704</td>\n",
       "      <td>16500.0</td>\n",
       "      <td>11.190476</td>\n",
       "    </tr>\n",
       "    <tr>\n",
       "      <th>1</th>\n",
       "      <td>1</td>\n",
       "      <td>122</td>\n",
       "      <td>alfa-romero</td>\n",
       "      <td>gas</td>\n",
       "      <td>std</td>\n",
       "      <td>two</td>\n",
       "      <td>hatchback</td>\n",
       "      <td>rwd</td>\n",
       "      <td>front</td>\n",
       "      <td>94.5</td>\n",
       "      <td>...</td>\n",
       "      <td>mpfi</td>\n",
       "      <td>2.68</td>\n",
       "      <td>3.47</td>\n",
       "      <td>9.0</td>\n",
       "      <td>154</td>\n",
       "      <td>5000.0</td>\n",
       "      <td>19</td>\n",
       "      <td>9.038462</td>\n",
       "      <td>16500.0</td>\n",
       "      <td>12.368421</td>\n",
       "    </tr>\n",
       "    <tr>\n",
       "      <th>2</th>\n",
       "      <td>2</td>\n",
       "      <td>164</td>\n",
       "      <td>audi</td>\n",
       "      <td>gas</td>\n",
       "      <td>std</td>\n",
       "      <td>four</td>\n",
       "      <td>sedan</td>\n",
       "      <td>fwd</td>\n",
       "      <td>front</td>\n",
       "      <td>99.8</td>\n",
       "      <td>...</td>\n",
       "      <td>mpfi</td>\n",
       "      <td>3.19</td>\n",
       "      <td>3.40</td>\n",
       "      <td>10.0</td>\n",
       "      <td>102</td>\n",
       "      <td>5500.0</td>\n",
       "      <td>24</td>\n",
       "      <td>7.833333</td>\n",
       "      <td>13950.0</td>\n",
       "      <td>9.791667</td>\n",
       "    </tr>\n",
       "    <tr>\n",
       "      <th>3</th>\n",
       "      <td>2</td>\n",
       "      <td>164</td>\n",
       "      <td>audi</td>\n",
       "      <td>gas</td>\n",
       "      <td>std</td>\n",
       "      <td>four</td>\n",
       "      <td>sedan</td>\n",
       "      <td>4wd</td>\n",
       "      <td>front</td>\n",
       "      <td>99.4</td>\n",
       "      <td>...</td>\n",
       "      <td>mpfi</td>\n",
       "      <td>3.19</td>\n",
       "      <td>3.40</td>\n",
       "      <td>8.0</td>\n",
       "      <td>115</td>\n",
       "      <td>5500.0</td>\n",
       "      <td>18</td>\n",
       "      <td>10.681818</td>\n",
       "      <td>17450.0</td>\n",
       "      <td>13.055556</td>\n",
       "    </tr>\n",
       "    <tr>\n",
       "      <th>4</th>\n",
       "      <td>2</td>\n",
       "      <td>122</td>\n",
       "      <td>audi</td>\n",
       "      <td>gas</td>\n",
       "      <td>std</td>\n",
       "      <td>two</td>\n",
       "      <td>sedan</td>\n",
       "      <td>fwd</td>\n",
       "      <td>front</td>\n",
       "      <td>99.8</td>\n",
       "      <td>...</td>\n",
       "      <td>mpfi</td>\n",
       "      <td>3.19</td>\n",
       "      <td>3.40</td>\n",
       "      <td>8.5</td>\n",
       "      <td>110</td>\n",
       "      <td>5500.0</td>\n",
       "      <td>19</td>\n",
       "      <td>9.400000</td>\n",
       "      <td>15250.0</td>\n",
       "      <td>12.368421</td>\n",
       "    </tr>\n",
       "  </tbody>\n",
       "</table>\n",
       "<p>5 rows × 27 columns</p>\n",
       "</div>"
      ],
      "text/plain": [
       "   symboling  normalized-losses         make fuel-type aspiration  \\\n",
       "0          3                122  alfa-romero       gas        std   \n",
       "1          1                122  alfa-romero       gas        std   \n",
       "2          2                164         audi       gas        std   \n",
       "3          2                164         audi       gas        std   \n",
       "4          2                122         audi       gas        std   \n",
       "\n",
       "  num-of-doors   body-style drive-wheels engine-location  wheel-base  ...  \\\n",
       "0          two  convertible          rwd           front        88.6  ...   \n",
       "1          two    hatchback          rwd           front        94.5  ...   \n",
       "2         four        sedan          fwd           front        99.8  ...   \n",
       "3         four        sedan          4wd           front        99.4  ...   \n",
       "4          two        sedan          fwd           front        99.8  ...   \n",
       "\n",
       "   fuel-system  bore  stroke  compression-ratio horsepower peak-rpm  city-mpg  \\\n",
       "0         mpfi  3.47    2.68                9.0        111   5000.0        21   \n",
       "1         mpfi  2.68    3.47                9.0        154   5000.0        19   \n",
       "2         mpfi  3.19    3.40               10.0        102   5500.0        24   \n",
       "3         mpfi  3.19    3.40                8.0        115   5500.0        18   \n",
       "4         mpfi  3.19    3.40                8.5        110   5500.0        19   \n",
       "\n",
       "  highway-L/100km    price  city-L/100km  \n",
       "0        8.703704  16500.0     11.190476  \n",
       "1        9.038462  16500.0     12.368421  \n",
       "2        7.833333  13950.0      9.791667  \n",
       "3       10.681818  17450.0     13.055556  \n",
       "4        9.400000  15250.0     12.368421  \n",
       "\n",
       "[5 rows x 27 columns]"
      ]
     },
     "execution_count": 13,
     "metadata": {},
     "output_type": "execute_result"
    }
   ],
   "source": [
    "# transform mpg to L/100km by mathematical operation (235 divided by mpg)\n",
    "df[\"highway-mpg\"] = 235/df[\"highway-mpg\"]\n",
    "\n",
    "# rename column name from \"highway-mpg\" to \"highway-L/100km\"\n",
    "df.rename(columns={'highway-mpg':'highway-L/100km'}, inplace=True)\n",
    "\n",
    "# check your transformed data \n",
    "df.head()"
   ]
  },
  {
   "cell_type": "markdown",
   "id": "8c9838f3-81a0-4a70-bc85-498f6134102f",
   "metadata": {},
   "source": [
    "<h2 id=\"data_normalization\">Data Normalization</h2>\n",
    "\n",
    "<b>Why normalization?</b>\n",
    "\n",
    "<p>Normalization is the process of transforming values of several variables into a similar range. Typical normalizations include scaling the variable so the variable average is 0, scaling the variable so the variance is 1, or scaling the variable so the variable values range from 0 to 1.\n",
    "</p>\n",
    "\n",
    "<b>Example</b>\n",
    "\n",
    "<p>To demonstrate normalization, let's say we want to scale the columns \"length\", \"width\" and \"height\".</p>\n",
    "<p><b>Target:</b> would like to normalize those variables so their value ranges from 0 to 1</p>\n",
    "<p><b>Approach:</b> replace original value by (original value)/(maximum value)</p>\n"
   ]
  },
  {
   "cell_type": "code",
   "execution_count": 14,
   "id": "80b53386-1ce4-4a2e-a892-4facaeff7a5a",
   "metadata": {},
   "outputs": [],
   "source": [
    "# replace (original value) by (original value)/(maximum value)\n",
    "df['length'] = df['length']/df['length'].max()\n",
    "df['width'] = df['width']/df['width'].max()\n",
    "df['height'] = df['height'] / df['height'].max()"
   ]
  },
  {
   "cell_type": "markdown",
   "id": "225e9858-a86f-41a0-9fdc-bf21b73e5900",
   "metadata": {},
   "source": [
    "<h2 id=\"binning\">Binning</h2>\n",
    "<b>Why binning?</b>\n",
    "<p>\n",
    "    Binning is a process of transforming continuous numerical variables into discrete categorical 'bins' for grouped analysis.\n",
    "</p>\n",
    "\n",
    "<b>Example: </b>\n",
    "\n",
    "<p>In our dataset, \"horsepower\" is a real valued variable ranging from 48 to 288 and it has 59 unique values. What if we only care about the price difference between cars with high horsepower, medium horsepower, and little horsepower (3 types)? Can we rearrange them into three ‘bins' to simplify analysis? </p>\n",
    "\n",
    "<p>We will use the pandas method 'cut' to segment the 'horsepower' column into 3 bins.</p>\n"
   ]
  },
  {
   "cell_type": "code",
   "execution_count": 15,
   "id": "5c14c281-7395-4362-beb4-eafd356899ac",
   "metadata": {},
   "outputs": [
    {
     "data": {
      "text/plain": [
       "(array([44., 45., 47., 24., 14., 16.,  5.,  4.,  0.,  1.]),\n",
       " array([ 48. ,  69.4,  90.8, 112.2, 133.6, 155. , 176.4, 197.8, 219.2,\n",
       "        240.6, 262. ]),\n",
       " <BarContainer object of 10 artists>)"
      ]
     },
     "execution_count": 15,
     "metadata": {},
     "output_type": "execute_result"
    },
    {
     "data": {
      "image/png": "[encoded data removed]",
      "text/plain": [
       "<Figure size 640x480 with 1 Axes>"
      ]
     },
     "metadata": {},
     "output_type": "display_data"
    }
   ],
   "source": [
    "df['horsepower'] = df['horsepower'].astype('int')\n",
    "plt.hist(df['horsepower'])"
   ]
  },
  {
   "cell_type": "markdown",
   "id": "2b8a6627-fb5f-4f30-b00e-ece9f9bdea68",
   "metadata": {},
   "source": [
    "<p>We would like 3 bins of equal size bandwidth so we use numpy's <code>linspace(start_value, end_value, numbers_generated</code> function.</p>\n",
    "<p>Since we want to include the minimum value of horsepower, we want to set start_value = min(df[\"horsepower\"]).</p>\n",
    "<p>Since we want to include the maximum value of horsepower, we want to set end_value = max(df[\"horsepower\"]).</p>\n",
    "<p>Since we are building 3 bins of equal length, there should be 4 dividers, so numbers_generated = 4.</p>\n"
   ]
  },
  {
   "cell_type": "code",
   "execution_count": 16,
   "id": "73332a02-66a4-4f88-8572-b13a8786a8c6",
   "metadata": {},
   "outputs": [
    {
     "data": {
      "text/plain": [
       "array([ 48.        , 119.33333333, 190.66666667, 262.        ])"
      ]
     },
     "execution_count": 16,
     "metadata": {},
     "output_type": "execute_result"
    }
   ],
   "source": [
    "bins = np.linspace(df.horsepower.min(), df.horsepower.max(),4)\n",
    "bins"
   ]
  },
  {
   "cell_type": "code",
   "execution_count": 17,
   "id": "0bc7c6e9-eb2d-43fd-9f95-0f5c7afee728",
   "metadata": {},
   "outputs": [
    {
     "data": {
      "text/html": [
       "<div>\n",
       "<style scoped>\n",
       "    .dataframe tbody tr th:only-of-type {\n",
       "        vertical-align: middle;\n",
       "    }\n",
       "\n",
       "    .dataframe tbody tr th {\n",
       "        vertical-align: top;\n",
       "    }\n",
       "\n",
       "    .dataframe thead th {\n",
       "        text-align: right;\n",
       "    }\n",
       "</style>\n",
       "<table border=\"1\" class=\"dataframe\">\n",
       "  <thead>\n",
       "    <tr style=\"text-align: right;\">\n",
       "      <th></th>\n",
       "      <th>horsepower-binned</th>\n",
       "      <th>horsepower</th>\n",
       "    </tr>\n",
       "  </thead>\n",
       "  <tbody>\n",
       "    <tr>\n",
       "      <th>0</th>\n",
       "      <td>low</td>\n",
       "      <td>111</td>\n",
       "    </tr>\n",
       "    <tr>\n",
       "      <th>1</th>\n",
       "      <td>medium</td>\n",
       "      <td>154</td>\n",
       "    </tr>\n",
       "    <tr>\n",
       "      <th>2</th>\n",
       "      <td>low</td>\n",
       "      <td>102</td>\n",
       "    </tr>\n",
       "    <tr>\n",
       "      <th>3</th>\n",
       "      <td>low</td>\n",
       "      <td>115</td>\n",
       "    </tr>\n",
       "    <tr>\n",
       "      <th>4</th>\n",
       "      <td>low</td>\n",
       "      <td>110</td>\n",
       "    </tr>\n",
       "    <tr>\n",
       "      <th>5</th>\n",
       "      <td>low</td>\n",
       "      <td>110</td>\n",
       "    </tr>\n",
       "    <tr>\n",
       "      <th>6</th>\n",
       "      <td>low</td>\n",
       "      <td>110</td>\n",
       "    </tr>\n",
       "    <tr>\n",
       "      <th>7</th>\n",
       "      <td>medium</td>\n",
       "      <td>140</td>\n",
       "    </tr>\n",
       "    <tr>\n",
       "      <th>9</th>\n",
       "      <td>low</td>\n",
       "      <td>101</td>\n",
       "    </tr>\n",
       "    <tr>\n",
       "      <th>10</th>\n",
       "      <td>low</td>\n",
       "      <td>101</td>\n",
       "    </tr>\n",
       "  </tbody>\n",
       "</table>\n",
       "</div>"
      ],
      "text/plain": [
       "   horsepower-binned  horsepower\n",
       "0                low         111\n",
       "1             medium         154\n",
       "2                low         102\n",
       "3                low         115\n",
       "4                low         110\n",
       "5                low         110\n",
       "6                low         110\n",
       "7             medium         140\n",
       "9                low         101\n",
       "10               low         101"
      ]
     },
     "execution_count": 17,
     "metadata": {},
     "output_type": "execute_result"
    }
   ],
   "source": [
    "df['horsepower-binned'] = pd.cut(df.horsepower, bins, labels=['low','medium','high'])\n",
    "df[['horsepower-binned','horsepower']].head(10)"
   ]
  },
  {
   "cell_type": "code",
   "execution_count": 18,
   "id": "e4a7032d-7a51-437d-b9f8-be044a28f000",
   "metadata": {},
   "outputs": [
    {
     "data": {
      "text/plain": [
       "Text(0.5, 1.0, 'horsepower bins')"
      ]
     },
     "execution_count": 18,
     "metadata": {},
     "output_type": "execute_result"
    },
    {
     "data": {
      "image/png": "[encoded data removed]",
      "text/plain": [
       "<Figure size 640x480 with 1 Axes>"
      ]
     },
     "metadata": {},
     "output_type": "display_data"
    }
   ],
   "source": [
    "plt.bar(['low','medium','high'], df['horsepower-binned'].value_counts())\n",
    "plt.xlabel(\"horsepower\")\n",
    "plt.ylabel(\"count\")\n",
    "plt.title(\"horsepower bins\")"
   ]
  },
  {
   "cell_type": "markdown",
   "id": "861bff0b-1e81-44f3-9427-015cd9c629e3",
   "metadata": {},
   "source": [
    "<h3>Bins Visualization</h3>\n",
    "Normally, a histogram is used to visualize the distribution of bins we created above. \n"
   ]
  },
  {
   "cell_type": "code",
   "execution_count": 19,
   "id": "e67a0adf-f29d-42b9-b75d-f31abe131536",
   "metadata": {},
   "outputs": [
    {
     "data": {
      "text/plain": [
       "(array([152.,  43.,   5.]),\n",
       " array([ 48.        , 119.33333333, 190.66666667, 262.        ]),\n",
       " <BarContainer object of 3 artists>)"
      ]
     },
     "execution_count": 19,
     "metadata": {},
     "output_type": "execute_result"
    },
    {
     "data": {
      "image/png": "[encoded data removed]",
      "text/plain": [
       "<Figure size 640x480 with 1 Axes>"
      ]
     },
     "metadata": {},
     "output_type": "display_data"
    }
   ],
   "source": [
    "plt.hist(df['horsepower'], bins=3)"
   ]
  },
  {
   "cell_type": "markdown",
   "id": "52a5dd68-144f-49a3-b330-7ea871234071",
   "metadata": {},
   "source": [
    "<h2 id=\"indicator\">Indicator Variable (or Dummy Variable)</h2>\n",
    "<b>What is an indicator variable?</b>\n",
    "<p>\n",
    "    An indicator variable (or dummy variable) is a numerical variable used to label categories. They are called 'dummies' because the numbers themselves don't have inherent meaning. \n",
    "</p>\n",
    "\n",
    "<b>Why we use indicator variables?</b>\n",
    "\n",
    "<p>\n",
    "    We use indicator variables so we can use categorical variables for regression analysis in the later modules.\n",
    "</p>\n",
    "<b>Example</b>\n",
    "<p>\n",
    "    We see the column \"fuel-type\" has two unique values: \"gas\" or \"diesel\". Regression doesn't understand words, only numbers. To use this attribute in regression analysis, we convert \"fuel-type\" to indicator variables.\n",
    "</p>\n",
    "\n",
    "<p>\n",
    "    We will use pandas' method 'get_dummies' to assign numerical values to different categories of fuel type. \n",
    "</p>\n"
   ]
  },
  {
   "cell_type": "code",
   "execution_count": 20,
   "id": "0f841e6e-2ed8-4094-b102-02e38d137370",
   "metadata": {},
   "outputs": [
    {
     "data": {
      "text/html": [
       "<div>\n",
       "<style scoped>\n",
       "    .dataframe tbody tr th:only-of-type {\n",
       "        vertical-align: middle;\n",
       "    }\n",
       "\n",
       "    .dataframe tbody tr th {\n",
       "        vertical-align: top;\n",
       "    }\n",
       "\n",
       "    .dataframe thead th {\n",
       "        text-align: right;\n",
       "    }\n",
       "</style>\n",
       "<table border=\"1\" class=\"dataframe\">\n",
       "  <thead>\n",
       "    <tr style=\"text-align: right;\">\n",
       "      <th></th>\n",
       "      <th>diesel</th>\n",
       "      <th>gas</th>\n",
       "    </tr>\n",
       "  </thead>\n",
       "  <tbody>\n",
       "    <tr>\n",
       "      <th>0</th>\n",
       "      <td>0</td>\n",
       "      <td>1</td>\n",
       "    </tr>\n",
       "    <tr>\n",
       "      <th>1</th>\n",
       "      <td>0</td>\n",
       "      <td>1</td>\n",
       "    </tr>\n",
       "    <tr>\n",
       "      <th>2</th>\n",
       "      <td>0</td>\n",
       "      <td>1</td>\n",
       "    </tr>\n",
       "    <tr>\n",
       "      <th>3</th>\n",
       "      <td>0</td>\n",
       "      <td>1</td>\n",
       "    </tr>\n",
       "    <tr>\n",
       "      <th>4</th>\n",
       "      <td>0</td>\n",
       "      <td>1</td>\n",
       "    </tr>\n",
       "  </tbody>\n",
       "</table>\n",
       "</div>"
      ],
      "text/plain": [
       "   diesel  gas\n",
       "0       0    1\n",
       "1       0    1\n",
       "2       0    1\n",
       "3       0    1\n",
       "4       0    1"
      ]
     },
     "execution_count": 20,
     "metadata": {},
     "output_type": "execute_result"
    }
   ],
   "source": [
    "dummy = pd.get_dummies(df['fuel-type'])\n",
    "dummy.head()"
   ]
  },
  {
   "cell_type": "code",
   "execution_count": 21,
   "id": "044cde40-bdea-4a3f-8df0-452899bb41eb",
   "metadata": {},
   "outputs": [],
   "source": [
    "dummy.rename(columns={'gas':'fuel-type-gas', 'diesel':'fuel-type-diesel'}, inplace=True)"
   ]
  },
  {
   "cell_type": "code",
   "execution_count": 22,
   "id": "2f0caee5-fa9a-46d7-ab0c-c4e9e974f917",
   "metadata": {},
   "outputs": [],
   "source": [
    "# Merging the dataframes:\n",
    "df = pd.concat([df,dummy],axis = 1)\n",
    "# drop original column \"fuel-type\" from \"df\"\n",
    "df.drop('fuel-type', axis= 1, inplace=True)"
   ]
  },
  {
   "cell_type": "code",
   "execution_count": 23,
   "id": "7995ba7b-5379-4daf-8f5f-74917713978a",
   "metadata": {},
   "outputs": [],
   "source": [
    "# Doing the same with the column Aspiration:\n",
    "dummy_aspiration = pd.get_dummies(df.aspiration)\n",
    "dummy_aspiration.rename(columns={'std':'aspiration-std', 'turbo': 'aspiration-turbo'}, inplace=True)\n",
    "pd.concat([df,dummy_aspiration], axis=1)\n",
    "df.drop('aspiration',axis = 1,inplace=True)"
   ]
  },
  {
   "cell_type": "markdown",
   "id": "f89531ce-941a-4fcf-9a4c-9bc1eac5befd",
   "metadata": {},
   "source": [
    "Now that we have finished cleaning the data, lets save it into a new csv file:"
   ]
  },
  {
   "cell_type": "code",
   "execution_count": 24,
   "id": "225c06e9-c0ca-41db-9051-e1012ce26a21",
   "metadata": {},
   "outputs": [],
   "source": [
    "# df.to_csv('clean.csv')     #Commented because I don't want to resave it everytime I run the notebook"
   ]
  },
  {
   "cell_type": "markdown",
   "id": "b1eb5549-1f68-4c27-8078-bf7d69246036",
   "metadata": {},
   "source": [
    "### **End Of Week Two**\n",
    "---"
   ]
  },
  {
   "cell_type": "markdown",
   "id": "c93f69eb-e73f-441e-98a4-9910dd8aabaa",
   "metadata": {},
   "source": [
    "## Analyzing Individual Feature Patterns Using Visualization"
   ]
  },
  {
   "cell_type": "markdown",
   "id": "6a7fb3a9-beea-43cc-a568-8e506c53679b",
   "metadata": {},
   "source": [
    "<h4>How to choose the right visualization method?</h4>\n",
    "<p>When visualizing individual variables, it is important to first understand what type of variable you are dealing with. This will help us find the right visualization method for that variable.</p>\n"
   ]
  },
  {
   "cell_type": "markdown",
   "id": "4d153f67-c723-47be-aca4-a5363ad080a9",
   "metadata": {},
   "source": [
    "For example, we can calculate the correlation between variables  of type \"int64\" or \"float64\" using the method \"corr\":\n"
   ]
  },
  {
   "cell_type": "code",
   "execution_count": 25,
   "id": "5ff89c00-559c-4d87-9f5b-adad6e3f013a",
   "metadata": {},
   "outputs": [
    {
     "data": {
      "text/html": [
       "<div>\n",
       "<style scoped>\n",
       "    .dataframe tbody tr th:only-of-type {\n",
       "        vertical-align: middle;\n",
       "    }\n",
       "\n",
       "    .dataframe tbody tr th {\n",
       "        vertical-align: top;\n",
       "    }\n",
       "\n",
       "    .dataframe thead th {\n",
       "        text-align: right;\n",
       "    }\n",
       "</style>\n",
       "<table border=\"1\" class=\"dataframe\">\n",
       "  <thead>\n",
       "    <tr style=\"text-align: right;\">\n",
       "      <th></th>\n",
       "      <th>symboling</th>\n",
       "      <th>normalized-losses</th>\n",
       "      <th>wheel-base</th>\n",
       "      <th>length</th>\n",
       "      <th>width</th>\n",
       "      <th>height</th>\n",
       "      <th>curb-weight</th>\n",
       "      <th>engine-size</th>\n",
       "      <th>bore</th>\n",
       "      <th>stroke</th>\n",
       "      <th>compression-ratio</th>\n",
       "      <th>horsepower</th>\n",
       "      <th>peak-rpm</th>\n",
       "      <th>city-mpg</th>\n",
       "      <th>highway-L/100km</th>\n",
       "      <th>price</th>\n",
       "      <th>city-L/100km</th>\n",
       "      <th>fuel-type-diesel</th>\n",
       "      <th>fuel-type-gas</th>\n",
       "    </tr>\n",
       "  </thead>\n",
       "  <tbody>\n",
       "    <tr>\n",
       "      <th>symboling</th>\n",
       "      <td>1.000000</td>\n",
       "      <td>0.469772</td>\n",
       "      <td>-0.529145</td>\n",
       "      <td>-0.364511</td>\n",
       "      <td>-0.237262</td>\n",
       "      <td>-0.542261</td>\n",
       "      <td>-0.234743</td>\n",
       "      <td>-0.112069</td>\n",
       "      <td>-0.145790</td>\n",
       "      <td>0.008072</td>\n",
       "      <td>-0.181073</td>\n",
       "      <td>0.074617</td>\n",
       "      <td>0.284033</td>\n",
       "      <td>-0.030158</td>\n",
       "      <td>-0.033159</td>\n",
       "      <td>-0.083327</td>\n",
       "      <td>0.062423</td>\n",
       "      <td>-0.195381</td>\n",
       "      <td>0.195381</td>\n",
       "    </tr>\n",
       "    <tr>\n",
       "      <th>normalized-losses</th>\n",
       "      <td>0.469772</td>\n",
       "      <td>1.000000</td>\n",
       "      <td>-0.057068</td>\n",
       "      <td>0.019433</td>\n",
       "      <td>0.086961</td>\n",
       "      <td>-0.377664</td>\n",
       "      <td>0.099404</td>\n",
       "      <td>0.112362</td>\n",
       "      <td>-0.029929</td>\n",
       "      <td>0.055673</td>\n",
       "      <td>-0.114738</td>\n",
       "      <td>0.217322</td>\n",
       "      <td>0.239580</td>\n",
       "      <td>-0.225255</td>\n",
       "      <td>0.181247</td>\n",
       "      <td>0.133999</td>\n",
       "      <td>0.238712</td>\n",
       "      <td>-0.101574</td>\n",
       "      <td>0.101574</td>\n",
       "    </tr>\n",
       "    <tr>\n",
       "      <th>wheel-base</th>\n",
       "      <td>-0.529145</td>\n",
       "      <td>-0.057068</td>\n",
       "      <td>1.000000</td>\n",
       "      <td>0.879005</td>\n",
       "      <td>0.814593</td>\n",
       "      <td>0.583789</td>\n",
       "      <td>0.787584</td>\n",
       "      <td>0.576779</td>\n",
       "      <td>0.501576</td>\n",
       "      <td>0.144733</td>\n",
       "      <td>0.249689</td>\n",
       "      <td>0.375610</td>\n",
       "      <td>-0.365045</td>\n",
       "      <td>-0.480029</td>\n",
       "      <td>0.584953</td>\n",
       "      <td>0.589147</td>\n",
       "      <td>0.484047</td>\n",
       "      <td>0.306706</td>\n",
       "      <td>-0.306706</td>\n",
       "    </tr>\n",
       "    <tr>\n",
       "      <th>length</th>\n",
       "      <td>-0.364511</td>\n",
       "      <td>0.019433</td>\n",
       "      <td>0.879005</td>\n",
       "      <td>1.000000</td>\n",
       "      <td>0.857271</td>\n",
       "      <td>0.492955</td>\n",
       "      <td>0.881058</td>\n",
       "      <td>0.685531</td>\n",
       "      <td>0.610847</td>\n",
       "      <td>0.120929</td>\n",
       "      <td>0.159203</td>\n",
       "      <td>0.580583</td>\n",
       "      <td>-0.286688</td>\n",
       "      <td>-0.667658</td>\n",
       "      <td>0.708466</td>\n",
       "      <td>0.691044</td>\n",
       "      <td>0.659174</td>\n",
       "      <td>0.210616</td>\n",
       "      <td>-0.210616</td>\n",
       "    </tr>\n",
       "    <tr>\n",
       "      <th>width</th>\n",
       "      <td>-0.237262</td>\n",
       "      <td>0.086961</td>\n",
       "      <td>0.814593</td>\n",
       "      <td>0.857271</td>\n",
       "      <td>1.000000</td>\n",
       "      <td>0.300995</td>\n",
       "      <td>0.867720</td>\n",
       "      <td>0.731100</td>\n",
       "      <td>0.548485</td>\n",
       "      <td>0.182864</td>\n",
       "      <td>0.189008</td>\n",
       "      <td>0.617115</td>\n",
       "      <td>-0.247337</td>\n",
       "      <td>-0.638155</td>\n",
       "      <td>0.739845</td>\n",
       "      <td>0.752795</td>\n",
       "      <td>0.677111</td>\n",
       "      <td>0.243448</td>\n",
       "      <td>-0.243448</td>\n",
       "    </tr>\n",
       "    <tr>\n",
       "      <th>height</th>\n",
       "      <td>-0.542261</td>\n",
       "      <td>-0.377664</td>\n",
       "      <td>0.583789</td>\n",
       "      <td>0.492955</td>\n",
       "      <td>0.300995</td>\n",
       "      <td>1.000000</td>\n",
       "      <td>0.310660</td>\n",
       "      <td>0.076255</td>\n",
       "      <td>0.187917</td>\n",
       "      <td>-0.081103</td>\n",
       "      <td>0.259526</td>\n",
       "      <td>-0.085829</td>\n",
       "      <td>-0.315820</td>\n",
       "      <td>-0.057087</td>\n",
       "      <td>0.088903</td>\n",
       "      <td>0.137284</td>\n",
       "      <td>0.008923</td>\n",
       "      <td>0.281198</td>\n",
       "      <td>-0.281198</td>\n",
       "    </tr>\n",
       "    <tr>\n",
       "      <th>curb-weight</th>\n",
       "      <td>-0.234743</td>\n",
       "      <td>0.099404</td>\n",
       "      <td>0.787584</td>\n",
       "      <td>0.881058</td>\n",
       "      <td>0.867720</td>\n",
       "      <td>0.310660</td>\n",
       "      <td>1.000000</td>\n",
       "      <td>0.849090</td>\n",
       "      <td>0.644552</td>\n",
       "      <td>0.168669</td>\n",
       "      <td>0.156444</td>\n",
       "      <td>0.758076</td>\n",
       "      <td>-0.279422</td>\n",
       "      <td>-0.750390</td>\n",
       "      <td>0.837217</td>\n",
       "      <td>0.834420</td>\n",
       "      <td>0.785868</td>\n",
       "      <td>0.221082</td>\n",
       "      <td>-0.221082</td>\n",
       "    </tr>\n",
       "    <tr>\n",
       "      <th>engine-size</th>\n",
       "      <td>-0.112069</td>\n",
       "      <td>0.112362</td>\n",
       "      <td>0.576779</td>\n",
       "      <td>0.685531</td>\n",
       "      <td>0.731100</td>\n",
       "      <td>0.076255</td>\n",
       "      <td>0.849090</td>\n",
       "      <td>1.000000</td>\n",
       "      <td>0.572878</td>\n",
       "      <td>0.208133</td>\n",
       "      <td>0.029005</td>\n",
       "      <td>0.822689</td>\n",
       "      <td>-0.256681</td>\n",
       "      <td>-0.651002</td>\n",
       "      <td>0.783593</td>\n",
       "      <td>0.872337</td>\n",
       "      <td>0.745337</td>\n",
       "      <td>0.070925</td>\n",
       "      <td>-0.070925</td>\n",
       "    </tr>\n",
       "    <tr>\n",
       "      <th>bore</th>\n",
       "      <td>-0.145790</td>\n",
       "      <td>-0.029929</td>\n",
       "      <td>0.501576</td>\n",
       "      <td>0.610847</td>\n",
       "      <td>0.548485</td>\n",
       "      <td>0.187917</td>\n",
       "      <td>0.644552</td>\n",
       "      <td>0.572878</td>\n",
       "      <td>1.000000</td>\n",
       "      <td>-0.051087</td>\n",
       "      <td>0.002034</td>\n",
       "      <td>0.566807</td>\n",
       "      <td>-0.267061</td>\n",
       "      <td>-0.581272</td>\n",
       "      <td>0.558675</td>\n",
       "      <td>0.543433</td>\n",
       "      <td>0.553954</td>\n",
       "      <td>0.055395</td>\n",
       "      <td>-0.055395</td>\n",
       "    </tr>\n",
       "    <tr>\n",
       "      <th>stroke</th>\n",
       "      <td>0.008072</td>\n",
       "      <td>0.055673</td>\n",
       "      <td>0.144733</td>\n",
       "      <td>0.120929</td>\n",
       "      <td>0.182864</td>\n",
       "      <td>-0.081103</td>\n",
       "      <td>0.168669</td>\n",
       "      <td>0.208133</td>\n",
       "      <td>-0.051087</td>\n",
       "      <td>1.000000</td>\n",
       "      <td>0.186780</td>\n",
       "      <td>0.100881</td>\n",
       "      <td>-0.066021</td>\n",
       "      <td>-0.040547</td>\n",
       "      <td>0.051032</td>\n",
       "      <td>0.083298</td>\n",
       "      <td>0.041310</td>\n",
       "      <td>0.240046</td>\n",
       "      <td>-0.240046</td>\n",
       "    </tr>\n",
       "    <tr>\n",
       "      <th>compression-ratio</th>\n",
       "      <td>-0.181073</td>\n",
       "      <td>-0.114738</td>\n",
       "      <td>0.249689</td>\n",
       "      <td>0.159203</td>\n",
       "      <td>0.189008</td>\n",
       "      <td>0.259526</td>\n",
       "      <td>0.156444</td>\n",
       "      <td>0.029005</td>\n",
       "      <td>0.002034</td>\n",
       "      <td>0.186780</td>\n",
       "      <td>1.000000</td>\n",
       "      <td>-0.214260</td>\n",
       "      <td>-0.436303</td>\n",
       "      <td>0.330897</td>\n",
       "      <td>-0.222957</td>\n",
       "      <td>0.071176</td>\n",
       "      <td>-0.298898</td>\n",
       "      <td>0.985228</td>\n",
       "      <td>-0.985228</td>\n",
       "    </tr>\n",
       "    <tr>\n",
       "      <th>horsepower</th>\n",
       "      <td>0.074617</td>\n",
       "      <td>0.217322</td>\n",
       "      <td>0.375610</td>\n",
       "      <td>0.580583</td>\n",
       "      <td>0.617115</td>\n",
       "      <td>-0.085829</td>\n",
       "      <td>0.758076</td>\n",
       "      <td>0.822689</td>\n",
       "      <td>0.566807</td>\n",
       "      <td>0.100881</td>\n",
       "      <td>-0.214260</td>\n",
       "      <td>1.000000</td>\n",
       "      <td>0.108163</td>\n",
       "      <td>-0.822488</td>\n",
       "      <td>0.840619</td>\n",
       "      <td>0.809657</td>\n",
       "      <td>0.889613</td>\n",
       "      <td>-0.168755</td>\n",
       "      <td>0.168755</td>\n",
       "    </tr>\n",
       "    <tr>\n",
       "      <th>peak-rpm</th>\n",
       "      <td>0.284033</td>\n",
       "      <td>0.239580</td>\n",
       "      <td>-0.365045</td>\n",
       "      <td>-0.286688</td>\n",
       "      <td>-0.247337</td>\n",
       "      <td>-0.315820</td>\n",
       "      <td>-0.279422</td>\n",
       "      <td>-0.256681</td>\n",
       "      <td>-0.267061</td>\n",
       "      <td>-0.066021</td>\n",
       "      <td>-0.436303</td>\n",
       "      <td>0.108163</td>\n",
       "      <td>1.000000</td>\n",
       "      <td>-0.116364</td>\n",
       "      <td>0.018142</td>\n",
       "      <td>-0.101593</td>\n",
       "      <td>0.116528</td>\n",
       "      <td>-0.476430</td>\n",
       "      <td>0.476430</td>\n",
       "    </tr>\n",
       "    <tr>\n",
       "      <th>city-mpg</th>\n",
       "      <td>-0.030158</td>\n",
       "      <td>-0.225255</td>\n",
       "      <td>-0.480029</td>\n",
       "      <td>-0.667658</td>\n",
       "      <td>-0.638155</td>\n",
       "      <td>-0.057087</td>\n",
       "      <td>-0.750390</td>\n",
       "      <td>-0.651002</td>\n",
       "      <td>-0.581272</td>\n",
       "      <td>-0.040547</td>\n",
       "      <td>0.330897</td>\n",
       "      <td>-0.822488</td>\n",
       "      <td>-0.116364</td>\n",
       "      <td>1.000000</td>\n",
       "      <td>-0.909113</td>\n",
       "      <td>-0.687186</td>\n",
       "      <td>-0.949692</td>\n",
       "      <td>0.264947</td>\n",
       "      <td>-0.264947</td>\n",
       "    </tr>\n",
       "    <tr>\n",
       "      <th>highway-L/100km</th>\n",
       "      <td>-0.033159</td>\n",
       "      <td>0.181247</td>\n",
       "      <td>0.584953</td>\n",
       "      <td>0.708466</td>\n",
       "      <td>0.739845</td>\n",
       "      <td>0.088903</td>\n",
       "      <td>0.837217</td>\n",
       "      <td>0.783593</td>\n",
       "      <td>0.558675</td>\n",
       "      <td>0.051032</td>\n",
       "      <td>-0.222957</td>\n",
       "      <td>0.840619</td>\n",
       "      <td>0.018142</td>\n",
       "      <td>-0.909113</td>\n",
       "      <td>1.000000</td>\n",
       "      <td>0.801313</td>\n",
       "      <td>0.958312</td>\n",
       "      <td>-0.157589</td>\n",
       "      <td>0.157589</td>\n",
       "    </tr>\n",
       "    <tr>\n",
       "      <th>price</th>\n",
       "      <td>-0.083327</td>\n",
       "      <td>0.133999</td>\n",
       "      <td>0.589147</td>\n",
       "      <td>0.691044</td>\n",
       "      <td>0.752795</td>\n",
       "      <td>0.137284</td>\n",
       "      <td>0.834420</td>\n",
       "      <td>0.872337</td>\n",
       "      <td>0.543433</td>\n",
       "      <td>0.083298</td>\n",
       "      <td>0.071176</td>\n",
       "      <td>0.809657</td>\n",
       "      <td>-0.101593</td>\n",
       "      <td>-0.687186</td>\n",
       "      <td>0.801313</td>\n",
       "      <td>1.000000</td>\n",
       "      <td>0.790291</td>\n",
       "      <td>0.110417</td>\n",
       "      <td>-0.110417</td>\n",
       "    </tr>\n",
       "    <tr>\n",
       "      <th>city-L/100km</th>\n",
       "      <td>0.062423</td>\n",
       "      <td>0.238712</td>\n",
       "      <td>0.484047</td>\n",
       "      <td>0.659174</td>\n",
       "      <td>0.677111</td>\n",
       "      <td>0.008923</td>\n",
       "      <td>0.785868</td>\n",
       "      <td>0.745337</td>\n",
       "      <td>0.553954</td>\n",
       "      <td>0.041310</td>\n",
       "      <td>-0.298898</td>\n",
       "      <td>0.889613</td>\n",
       "      <td>0.116528</td>\n",
       "      <td>-0.949692</td>\n",
       "      <td>0.958312</td>\n",
       "      <td>0.790291</td>\n",
       "      <td>1.000000</td>\n",
       "      <td>-0.240676</td>\n",
       "      <td>0.240676</td>\n",
       "    </tr>\n",
       "    <tr>\n",
       "      <th>fuel-type-diesel</th>\n",
       "      <td>-0.195381</td>\n",
       "      <td>-0.101574</td>\n",
       "      <td>0.306706</td>\n",
       "      <td>0.210616</td>\n",
       "      <td>0.243448</td>\n",
       "      <td>0.281198</td>\n",
       "      <td>0.221082</td>\n",
       "      <td>0.070925</td>\n",
       "      <td>0.055395</td>\n",
       "      <td>0.240046</td>\n",
       "      <td>0.985228</td>\n",
       "      <td>-0.168755</td>\n",
       "      <td>-0.476430</td>\n",
       "      <td>0.264947</td>\n",
       "      <td>-0.157589</td>\n",
       "      <td>0.110417</td>\n",
       "      <td>-0.240676</td>\n",
       "      <td>1.000000</td>\n",
       "      <td>-1.000000</td>\n",
       "    </tr>\n",
       "    <tr>\n",
       "      <th>fuel-type-gas</th>\n",
       "      <td>0.195381</td>\n",
       "      <td>0.101574</td>\n",
       "      <td>-0.306706</td>\n",
       "      <td>-0.210616</td>\n",
       "      <td>-0.243448</td>\n",
       "      <td>-0.281198</td>\n",
       "      <td>-0.221082</td>\n",
       "      <td>-0.070925</td>\n",
       "      <td>-0.055395</td>\n",
       "      <td>-0.240046</td>\n",
       "      <td>-0.985228</td>\n",
       "      <td>0.168755</td>\n",
       "      <td>0.476430</td>\n",
       "      <td>-0.264947</td>\n",
       "      <td>0.157589</td>\n",
       "      <td>-0.110417</td>\n",
       "      <td>0.240676</td>\n",
       "      <td>-1.000000</td>\n",
       "      <td>1.000000</td>\n",
       "    </tr>\n",
       "  </tbody>\n",
       "</table>\n",
       "</div>"
      ],
      "text/plain": [
       "                   symboling  normalized-losses  wheel-base    length  \\\n",
       "symboling           1.000000           0.469772   -0.529145 -0.364511   \n",
       "normalized-losses   0.469772           1.000000   -0.057068  0.019433   \n",
       "wheel-base         -0.529145          -0.057068    1.000000  0.879005   \n",
       "length             -0.364511           0.019433    0.879005  1.000000   \n",
       "width              -0.237262           0.086961    0.814593  0.857271   \n",
       "height             -0.542261          -0.377664    0.583789  0.492955   \n",
       "curb-weight        -0.234743           0.099404    0.787584  0.881058   \n",
       "engine-size        -0.112069           0.112362    0.576779  0.685531   \n",
       "bore               -0.145790          -0.029929    0.501576  0.610847   \n",
       "stroke              0.008072           0.055673    0.144733  0.120929   \n",
       "compression-ratio  -0.181073          -0.114738    0.249689  0.159203   \n",
       "horsepower          0.074617           0.217322    0.375610  0.580583   \n",
       "peak-rpm            0.284033           0.239580   -0.365045 -0.286688   \n",
       "city-mpg           -0.030158          -0.225255   -0.480029 -0.667658   \n",
       "highway-L/100km    -0.033159           0.181247    0.584953  0.708466   \n",
       "price              -0.083327           0.133999    0.589147  0.691044   \n",
       "city-L/100km        0.062423           0.238712    0.484047  0.659174   \n",
       "fuel-type-diesel   -0.195381          -0.101574    0.306706  0.210616   \n",
       "fuel-type-gas       0.195381           0.101574   -0.306706 -0.210616   \n",
       "\n",
       "                      width    height  curb-weight  engine-size      bore  \\\n",
       "symboling         -0.237262 -0.542261    -0.234743    -0.112069 -0.145790   \n",
       "normalized-losses  0.086961 -0.377664     0.099404     0.112362 -0.029929   \n",
       "wheel-base         0.814593  0.583789     0.787584     0.576779  0.501576   \n",
       "length             0.857271  0.492955     0.881058     0.685531  0.610847   \n",
       "width              1.000000  0.300995     0.867720     0.731100  0.548485   \n",
       "height             0.300995  1.000000     0.310660     0.076255  0.187917   \n",
       "curb-weight        0.867720  0.310660     1.000000     0.849090  0.644552   \n",
       "engine-size        0.731100  0.076255     0.849090     1.000000  0.572878   \n",
       "bore               0.548485  0.187917     0.644552     0.572878  1.000000   \n",
       "stroke             0.182864 -0.081103     0.168669     0.208133 -0.051087   \n",
       "compression-ratio  0.189008  0.259526     0.156444     0.029005  0.002034   \n",
       "horsepower         0.617115 -0.085829     0.758076     0.822689  0.566807   \n",
       "peak-rpm          -0.247337 -0.315820    -0.279422    -0.256681 -0.267061   \n",
       "city-mpg          -0.638155 -0.057087    -0.750390    -0.651002 -0.581272   \n",
       "highway-L/100km    0.739845  0.088903     0.837217     0.783593  0.558675   \n",
       "price              0.752795  0.137284     0.834420     0.872337  0.543433   \n",
       "city-L/100km       0.677111  0.008923     0.785868     0.745337  0.553954   \n",
       "fuel-type-diesel   0.243448  0.281198     0.221082     0.070925  0.055395   \n",
       "fuel-type-gas     -0.243448 -0.281198    -0.221082    -0.070925 -0.055395   \n",
       "\n",
       "                     stroke  compression-ratio  horsepower  peak-rpm  \\\n",
       "symboling          0.008072          -0.181073    0.074617  0.284033   \n",
       "normalized-losses  0.055673          -0.114738    0.217322  0.239580   \n",
       "wheel-base         0.144733           0.249689    0.375610 -0.365045   \n",
       "length             0.120929           0.159203    0.580583 -0.286688   \n",
       "width              0.182864           0.189008    0.617115 -0.247337   \n",
       "height            -0.081103           0.259526   -0.085829 -0.315820   \n",
       "curb-weight        0.168669           0.156444    0.758076 -0.279422   \n",
       "engine-size        0.208133           0.029005    0.822689 -0.256681   \n",
       "bore              -0.051087           0.002034    0.566807 -0.267061   \n",
       "stroke             1.000000           0.186780    0.100881 -0.066021   \n",
       "compression-ratio  0.186780           1.000000   -0.214260 -0.436303   \n",
       "horsepower         0.100881          -0.214260    1.000000  0.108163   \n",
       "peak-rpm          -0.066021          -0.436303    0.108163  1.000000   \n",
       "city-mpg          -0.040547           0.330897   -0.822488 -0.116364   \n",
       "highway-L/100km    0.051032          -0.222957    0.840619  0.018142   \n",
       "price              0.083298           0.071176    0.809657 -0.101593   \n",
       "city-L/100km       0.041310          -0.298898    0.889613  0.116528   \n",
       "fuel-type-diesel   0.240046           0.985228   -0.168755 -0.476430   \n",
       "fuel-type-gas     -0.240046          -0.985228    0.168755  0.476430   \n",
       "\n",
       "                   city-mpg  highway-L/100km     price  city-L/100km  \\\n",
       "symboling         -0.030158        -0.033159 -0.083327      0.062423   \n",
       "normalized-losses -0.225255         0.181247  0.133999      0.238712   \n",
       "wheel-base        -0.480029         0.584953  0.589147      0.484047   \n",
       "length            -0.667658         0.708466  0.691044      0.659174   \n",
       "width             -0.638155         0.739845  0.752795      0.677111   \n",
       "height            -0.057087         0.088903  0.137284      0.008923   \n",
       "curb-weight       -0.750390         0.837217  0.834420      0.785868   \n",
       "engine-size       -0.651002         0.783593  0.872337      0.745337   \n",
       "bore              -0.581272         0.558675  0.543433      0.553954   \n",
       "stroke            -0.040547         0.051032  0.083298      0.041310   \n",
       "compression-ratio  0.330897        -0.222957  0.071176     -0.298898   \n",
       "horsepower        -0.822488         0.840619  0.809657      0.889613   \n",
       "peak-rpm          -0.116364         0.018142 -0.101593      0.116528   \n",
       "city-mpg           1.000000        -0.909113 -0.687186     -0.949692   \n",
       "highway-L/100km   -0.909113         1.000000  0.801313      0.958312   \n",
       "price             -0.687186         0.801313  1.000000      0.790291   \n",
       "city-L/100km      -0.949692         0.958312  0.790291      1.000000   \n",
       "fuel-type-diesel   0.264947        -0.157589  0.110417     -0.240676   \n",
       "fuel-type-gas     -0.264947         0.157589 -0.110417      0.240676   \n",
       "\n",
       "                   fuel-type-diesel  fuel-type-gas  \n",
       "symboling                 -0.195381       0.195381  \n",
       "normalized-losses         -0.101574       0.101574  \n",
       "wheel-base                 0.306706      -0.306706  \n",
       "length                     0.210616      -0.210616  \n",
       "width                      0.243448      -0.243448  \n",
       "height                     0.281198      -0.281198  \n",
       "curb-weight                0.221082      -0.221082  \n",
       "engine-size                0.070925      -0.070925  \n",
       "bore                       0.055395      -0.055395  \n",
       "stroke                     0.240046      -0.240046  \n",
       "compression-ratio          0.985228      -0.985228  \n",
       "horsepower                -0.168755       0.168755  \n",
       "peak-rpm                  -0.476430       0.476430  \n",
       "city-mpg                   0.264947      -0.264947  \n",
       "highway-L/100km           -0.157589       0.157589  \n",
       "price                      0.110417      -0.110417  \n",
       "city-L/100km              -0.240676       0.240676  \n",
       "fuel-type-diesel           1.000000      -1.000000  \n",
       "fuel-type-gas             -1.000000       1.000000  "
      ]
     },
     "execution_count": 25,
     "metadata": {},
     "output_type": "execute_result"
    }
   ],
   "source": [
    "df.corr()"
   ]
  },
  {
   "cell_type": "code",
   "execution_count": 26,
   "id": "3437b9d8-4e69-4650-b5ec-e6c04dec8dee",
   "metadata": {},
   "outputs": [
    {
     "data": {
      "text/html": [
       "<div>\n",
       "<style scoped>\n",
       "    .dataframe tbody tr th:only-of-type {\n",
       "        vertical-align: middle;\n",
       "    }\n",
       "\n",
       "    .dataframe tbody tr th {\n",
       "        vertical-align: top;\n",
       "    }\n",
       "\n",
       "    .dataframe thead th {\n",
       "        text-align: right;\n",
       "    }\n",
       "</style>\n",
       "<table border=\"1\" class=\"dataframe\">\n",
       "  <thead>\n",
       "    <tr style=\"text-align: right;\">\n",
       "      <th></th>\n",
       "      <th>bore</th>\n",
       "      <th>stroke</th>\n",
       "      <th>compression-ratio</th>\n",
       "      <th>horsepower</th>\n",
       "    </tr>\n",
       "  </thead>\n",
       "  <tbody>\n",
       "    <tr>\n",
       "      <th>bore</th>\n",
       "      <td>1.000000</td>\n",
       "      <td>-0.051087</td>\n",
       "      <td>0.002034</td>\n",
       "      <td>0.566807</td>\n",
       "    </tr>\n",
       "    <tr>\n",
       "      <th>stroke</th>\n",
       "      <td>-0.051087</td>\n",
       "      <td>1.000000</td>\n",
       "      <td>0.186780</td>\n",
       "      <td>0.100881</td>\n",
       "    </tr>\n",
       "    <tr>\n",
       "      <th>compression-ratio</th>\n",
       "      <td>0.002034</td>\n",
       "      <td>0.186780</td>\n",
       "      <td>1.000000</td>\n",
       "      <td>-0.214260</td>\n",
       "    </tr>\n",
       "    <tr>\n",
       "      <th>horsepower</th>\n",
       "      <td>0.566807</td>\n",
       "      <td>0.100881</td>\n",
       "      <td>-0.214260</td>\n",
       "      <td>1.000000</td>\n",
       "    </tr>\n",
       "  </tbody>\n",
       "</table>\n",
       "</div>"
      ],
      "text/plain": [
       "                       bore    stroke  compression-ratio  horsepower\n",
       "bore               1.000000 -0.051087           0.002034    0.566807\n",
       "stroke            -0.051087  1.000000           0.186780    0.100881\n",
       "compression-ratio  0.002034  0.186780           1.000000   -0.214260\n",
       "horsepower         0.566807  0.100881          -0.214260    1.000000"
      ]
     },
     "execution_count": 26,
     "metadata": {},
     "output_type": "execute_result"
    }
   ],
   "source": [
    "# Find the correlation between the following columns: bore, stroke, compression-ratio, and horsepower:\n",
    "df[['bore', 'stroke', 'compression-ratio', 'horsepower']].corr()"
   ]
  },
  {
   "cell_type": "markdown",
   "id": "9d354dd8-0a99-43a5-8bb3-65fef70b0254",
   "metadata": {},
   "source": [
    "<h2>Continuous Numerical Variables:</h2> \n",
    "\n",
    "<p>Continuous numerical variables are variables that may contain any value within some range. They can be of type \"int64\" or \"float64\". A great way to visualize these variables is by using scatterplots with fitted lines.</p>\n",
    "\n",
    "<p>In order to start understanding the (linear) relationship between an individual variable and the price, we can use \"regplot\" which plots the scatterplot plus the fitted regression line for the data.</p>\n"
   ]
  },
  {
   "cell_type": "code",
   "execution_count": 27,
   "id": "8cc5265d-6cc2-4ebb-a987-55cdb2e87ede",
   "metadata": {},
   "outputs": [
    {
     "data": {
      "text/plain": [
       "<AxesSubplot:xlabel='engine-size', ylabel='price'>"
      ]
     },
     "execution_count": 27,
     "metadata": {},
     "output_type": "execute_result"
    },
    {
     "data": {
      "image/png": "[encoded data removed]",
      "text/plain": [
       "<Figure size 640x480 with 1 Axes>"
      ]
     },
     "metadata": {},
     "output_type": "display_data"
    }
   ],
   "source": [
    "sns.regplot(x='engine-size', y='price', data=df)"
   ]
  },
  {
   "cell_type": "code",
   "execution_count": 28,
   "id": "9e336502-ad5f-4000-a121-6ec5dfb21206",
   "metadata": {},
   "outputs": [
    {
     "data": {
      "text/html": [
       "<div>\n",
       "<style scoped>\n",
       "    .dataframe tbody tr th:only-of-type {\n",
       "        vertical-align: middle;\n",
       "    }\n",
       "\n",
       "    .dataframe tbody tr th {\n",
       "        vertical-align: top;\n",
       "    }\n",
       "\n",
       "    .dataframe thead th {\n",
       "        text-align: right;\n",
       "    }\n",
       "</style>\n",
       "<table border=\"1\" class=\"dataframe\">\n",
       "  <thead>\n",
       "    <tr style=\"text-align: right;\">\n",
       "      <th></th>\n",
       "      <th>engine-size</th>\n",
       "      <th>price</th>\n",
       "    </tr>\n",
       "  </thead>\n",
       "  <tbody>\n",
       "    <tr>\n",
       "      <th>engine-size</th>\n",
       "      <td>1.000000</td>\n",
       "      <td>0.872337</td>\n",
       "    </tr>\n",
       "    <tr>\n",
       "      <th>price</th>\n",
       "      <td>0.872337</td>\n",
       "      <td>1.000000</td>\n",
       "    </tr>\n",
       "  </tbody>\n",
       "</table>\n",
       "</div>"
      ],
      "text/plain": [
       "             engine-size     price\n",
       "engine-size     1.000000  0.872337\n",
       "price           0.872337  1.000000"
      ]
     },
     "execution_count": 28,
     "metadata": {},
     "output_type": "execute_result"
    }
   ],
   "source": [
    "# Note the strong positive correlation:\n",
    "df[['engine-size', 'price']].corr()"
   ]
  },
  {
   "cell_type": "markdown",
   "id": "797b5ac6-7e4f-44e8-a40e-041007eb8a4e",
   "metadata": {},
   "source": [
    "From now on, I will go through the analysis in the week lab, and right here only the analysis to be saved."
   ]
  },
  {
   "cell_type": "markdown",
   "id": "8f4079b7-7207-4ba0-854d-a5ebf6548780",
   "metadata": {},
   "source": [
    "<h3>Categorical Variables</h3>\n",
    "\n",
    "<p>These are variables that describe a 'characteristic' of a data unit, and are selected from a small group of categories. The categorical variables can have the type \"object\" or \"int64\". A good way to visualize categorical variables is by using boxplots.</p>\n"
   ]
  },
  {
   "cell_type": "code",
   "execution_count": 29,
   "id": "fa6f5c80-a542-461b-a56c-bd9586c21c6c",
   "metadata": {},
   "outputs": [
    {
     "data": {
      "text/plain": [
       "<AxesSubplot:xlabel='body-style', ylabel='price'>"
      ]
     },
     "execution_count": 29,
     "metadata": {},
     "output_type": "execute_result"
    },
    {
     "data": {
      "image/png": "[encoded data removed]",
      "text/plain": [
       "<Figure size 640x480 with 1 Axes>"
      ]
     },
     "metadata": {},
     "output_type": "display_data"
    }
   ],
   "source": [
    "sns.boxplot(x='body-style', y='price', data=df)"
   ]
  },
  {
   "cell_type": "markdown",
   "id": "b9051ab9-94c6-4fcb-b5dd-36bb357c8b8e",
   "metadata": {},
   "source": [
    "<p>We see that the distributions of price between the different body-style categories have a significant overlap, so body-style would not be a good predictor of price. Let's examine engine \"engine-location\" and \"price\":</p>\n"
   ]
  },
  {
   "cell_type": "markdown",
   "id": "720a0f5d-7e6c-42be-8c15-041673ef99a3",
   "metadata": {},
   "source": [
    "<h2 id=\"discriptive_statistics\">Descriptive Statistical Analysis</h2>\n"
   ]
  },
  {
   "cell_type": "markdown",
   "id": "91c16a7f-a162-4a3f-9066-304d16a2ef3d",
   "metadata": {},
   "source": [
    "<p>Let's first take a look at the variables by utilizing a description method.</p>\n",
    "\n",
    "<p>The <b>describe</b> function automatically computes basic statistics for all continuous variables. Any NaN values are automatically skipped in these statistics.</p>\n",
    "\n",
    "This will show:\n",
    "\n",
    "<ul>\n",
    "    <li>the count of that variable</li>\n",
    "    <li>the mean</li>\n",
    "    <li>the standard deviation (std)</li> \n",
    "    <li>the minimum value</li>\n",
    "    <li>the IQR (Interquartile Range: 25%, 50% and 75%)</li>\n",
    "    <li>the maximum value</li>\n",
    "<ul>\n"
   ]
  },
  {
   "cell_type": "code",
   "execution_count": 30,
   "id": "5cbdae69-1fad-4e5b-99f7-cded05a4f69d",
   "metadata": {},
   "outputs": [
    {
     "data": {
      "text/plain": [
       "front    197\n",
       "rear       3\n",
       "Name: engine-location, dtype: int64"
      ]
     },
     "execution_count": 30,
     "metadata": {},
     "output_type": "execute_result"
    }
   ],
   "source": [
    "df['engine-location'].value_counts()"
   ]
  },
  {
   "cell_type": "markdown",
   "id": "4158595a-5fa6-4d87-b0bc-fb2457c69d50",
   "metadata": {},
   "source": [
    "<p>After examining the value counts of the engine location, we see that engine location would not be a good predictor variable for the price. This is because we only have three cars with a rear engine and 198 with an engine in the front, so this result is skewed. Thus, we are not able to draw any conclusions about the engine location.</p>\n"
   ]
  },
  {
   "cell_type": "markdown",
   "id": "4d3c9a24-16e0-449f-b498-9517140dd476",
   "metadata": {},
   "source": [
    "<h2 id=\"basic_grouping\">Basics of Grouping</h2>"
   ]
  },
  {
   "cell_type": "markdown",
   "id": "1aab78ff-93b3-4a47-989c-5f66c1d2c6e5",
   "metadata": {},
   "source": [
    "<p>The \"groupby\" method groups data by different categories. The data is grouped based on one or several variables, and analysis is performed on the individual groups.</p>\n",
    "\n",
    "<p>For example, let's group by the variable \"drive-wheels\". We see that there are 3 different categories of drive wheels.</p>\n"
   ]
  },
  {
   "cell_type": "code",
   "execution_count": 31,
   "id": "d1a3df9a-269d-42be-964f-32bb21d8a048",
   "metadata": {},
   "outputs": [
    {
     "data": {
      "text/html": [
       "<div>\n",
       "<style scoped>\n",
       "    .dataframe tbody tr th:only-of-type {\n",
       "        vertical-align: middle;\n",
       "    }\n",
       "\n",
       "    .dataframe tbody tr th {\n",
       "        vertical-align: top;\n",
       "    }\n",
       "\n",
       "    .dataframe thead th {\n",
       "        text-align: right;\n",
       "    }\n",
       "</style>\n",
       "<table border=\"1\" class=\"dataframe\">\n",
       "  <thead>\n",
       "    <tr style=\"text-align: right;\">\n",
       "      <th></th>\n",
       "      <th>drive-wheels</th>\n",
       "      <th>body-style</th>\n",
       "      <th>price</th>\n",
       "    </tr>\n",
       "  </thead>\n",
       "  <tbody>\n",
       "    <tr>\n",
       "      <th>0</th>\n",
       "      <td>4wd</td>\n",
       "      <td>hatchback</td>\n",
       "      <td>7603.000000</td>\n",
       "    </tr>\n",
       "    <tr>\n",
       "      <th>1</th>\n",
       "      <td>4wd</td>\n",
       "      <td>sedan</td>\n",
       "      <td>12647.333333</td>\n",
       "    </tr>\n",
       "    <tr>\n",
       "      <th>2</th>\n",
       "      <td>4wd</td>\n",
       "      <td>wagon</td>\n",
       "      <td>9095.750000</td>\n",
       "    </tr>\n",
       "    <tr>\n",
       "      <th>3</th>\n",
       "      <td>fwd</td>\n",
       "      <td>convertible</td>\n",
       "      <td>11595.000000</td>\n",
       "    </tr>\n",
       "    <tr>\n",
       "      <th>4</th>\n",
       "      <td>fwd</td>\n",
       "      <td>hardtop</td>\n",
       "      <td>8249.000000</td>\n",
       "    </tr>\n",
       "    <tr>\n",
       "      <th>5</th>\n",
       "      <td>fwd</td>\n",
       "      <td>hatchback</td>\n",
       "      <td>8396.387755</td>\n",
       "    </tr>\n",
       "    <tr>\n",
       "      <th>6</th>\n",
       "      <td>fwd</td>\n",
       "      <td>sedan</td>\n",
       "      <td>9811.800000</td>\n",
       "    </tr>\n",
       "    <tr>\n",
       "      <th>7</th>\n",
       "      <td>fwd</td>\n",
       "      <td>wagon</td>\n",
       "      <td>9997.333333</td>\n",
       "    </tr>\n",
       "    <tr>\n",
       "      <th>8</th>\n",
       "      <td>rwd</td>\n",
       "      <td>convertible</td>\n",
       "      <td>26563.250000</td>\n",
       "    </tr>\n",
       "    <tr>\n",
       "      <th>9</th>\n",
       "      <td>rwd</td>\n",
       "      <td>hardtop</td>\n",
       "      <td>24202.714286</td>\n",
       "    </tr>\n",
       "    <tr>\n",
       "      <th>10</th>\n",
       "      <td>rwd</td>\n",
       "      <td>hatchback</td>\n",
       "      <td>14337.777778</td>\n",
       "    </tr>\n",
       "    <tr>\n",
       "      <th>11</th>\n",
       "      <td>rwd</td>\n",
       "      <td>sedan</td>\n",
       "      <td>21711.833333</td>\n",
       "    </tr>\n",
       "    <tr>\n",
       "      <th>12</th>\n",
       "      <td>rwd</td>\n",
       "      <td>wagon</td>\n",
       "      <td>16994.222222</td>\n",
       "    </tr>\n",
       "  </tbody>\n",
       "</table>\n",
       "</div>"
      ],
      "text/plain": [
       "   drive-wheels   body-style         price\n",
       "0           4wd    hatchback   7603.000000\n",
       "1           4wd        sedan  12647.333333\n",
       "2           4wd        wagon   9095.750000\n",
       "3           fwd  convertible  11595.000000\n",
       "4           fwd      hardtop   8249.000000\n",
       "5           fwd    hatchback   8396.387755\n",
       "6           fwd        sedan   9811.800000\n",
       "7           fwd        wagon   9997.333333\n",
       "8           rwd  convertible  26563.250000\n",
       "9           rwd      hardtop  24202.714286\n",
       "10          rwd    hatchback  14337.777778\n",
       "11          rwd        sedan  21711.833333\n",
       "12          rwd        wagon  16994.222222"
      ]
     },
     "execution_count": 31,
     "metadata": {},
     "output_type": "execute_result"
    }
   ],
   "source": [
    "temp = df.groupby(['drive-wheels', 'body-style'],as_index=False)['price'].mean()\n",
    "temp"
   ]
  },
  {
   "cell_type": "code",
   "execution_count": 32,
   "id": "06f0c781-38d7-44d7-9805-6bc341107609",
   "metadata": {},
   "outputs": [
    {
     "data": {
      "text/html": [
       "<div>\n",
       "<style scoped>\n",
       "    .dataframe tbody tr th:only-of-type {\n",
       "        vertical-align: middle;\n",
       "    }\n",
       "\n",
       "    .dataframe tbody tr th {\n",
       "        vertical-align: top;\n",
       "    }\n",
       "\n",
       "    .dataframe thead tr th {\n",
       "        text-align: left;\n",
       "    }\n",
       "\n",
       "    .dataframe thead tr:last-of-type th {\n",
       "        text-align: right;\n",
       "    }\n",
       "</style>\n",
       "<table border=\"1\" class=\"dataframe\">\n",
       "  <thead>\n",
       "    <tr>\n",
       "      <th></th>\n",
       "      <th colspan=\"5\" halign=\"left\">price</th>\n",
       "    </tr>\n",
       "    <tr>\n",
       "      <th>body-style</th>\n",
       "      <th>convertible</th>\n",
       "      <th>hardtop</th>\n",
       "      <th>hatchback</th>\n",
       "      <th>sedan</th>\n",
       "      <th>wagon</th>\n",
       "    </tr>\n",
       "    <tr>\n",
       "      <th>drive-wheels</th>\n",
       "      <th></th>\n",
       "      <th></th>\n",
       "      <th></th>\n",
       "      <th></th>\n",
       "      <th></th>\n",
       "    </tr>\n",
       "  </thead>\n",
       "  <tbody>\n",
       "    <tr>\n",
       "      <th>4wd</th>\n",
       "      <td>0.00</td>\n",
       "      <td>0.000000</td>\n",
       "      <td>7603.000000</td>\n",
       "      <td>12647.333333</td>\n",
       "      <td>9095.750000</td>\n",
       "    </tr>\n",
       "    <tr>\n",
       "      <th>fwd</th>\n",
       "      <td>11595.00</td>\n",
       "      <td>8249.000000</td>\n",
       "      <td>8396.387755</td>\n",
       "      <td>9811.800000</td>\n",
       "      <td>9997.333333</td>\n",
       "    </tr>\n",
       "    <tr>\n",
       "      <th>rwd</th>\n",
       "      <td>26563.25</td>\n",
       "      <td>24202.714286</td>\n",
       "      <td>14337.777778</td>\n",
       "      <td>21711.833333</td>\n",
       "      <td>16994.222222</td>\n",
       "    </tr>\n",
       "  </tbody>\n",
       "</table>\n",
       "</div>"
      ],
      "text/plain": [
       "                   price                                            \\\n",
       "body-style   convertible       hardtop     hatchback         sedan   \n",
       "drive-wheels                                                         \n",
       "4wd                 0.00      0.000000   7603.000000  12647.333333   \n",
       "fwd             11595.00   8249.000000   8396.387755   9811.800000   \n",
       "rwd             26563.25  24202.714286  14337.777778  21711.833333   \n",
       "\n",
       "                            \n",
       "body-style           wagon  \n",
       "drive-wheels                \n",
       "4wd            9095.750000  \n",
       "fwd            9997.333333  \n",
       "rwd           16994.222222  "
      ]
     },
     "execution_count": 32,
     "metadata": {},
     "output_type": "execute_result"
    }
   ],
   "source": [
    "pivot = pd.pivot(index='drive-wheels', columns='body-style', data = temp)\n",
    "pivot.fillna(0, inplace=True)\n",
    "pivot"
   ]
  },
  {
   "cell_type": "code",
   "execution_count": 33,
   "id": "591eb5e9-27b8-43e4-a805-fbef0f66d7b8",
   "metadata": {},
   "outputs": [
    {
     "data": {
      "text/plain": [
       "<matplotlib.colorbar.Colorbar at 0x7f1e64864fd0>"
      ]
     },
     "execution_count": 33,
     "metadata": {},
     "output_type": "execute_result"
    },
    {
     "data": {
      "image/png": "[encoded data removed]",
      "text/plain": [
       "<Figure size 640x480 with 2 Axes>"
      ]
     },
     "metadata": {},
     "output_type": "display_data"
    }
   ],
   "source": [
    "plt.pcolor(pivot, cmap='RdBu')\n",
    "plt.colorbar()"
   ]
  },
  {
   "cell_type": "code",
   "execution_count": 34,
   "id": "0f6be560-c71b-4ae9-b9a4-61470724109c",
   "metadata": {},
   "outputs": [
    {
     "data": {
      "image/png": "[encoded data removed]",
      "text/plain": [
       "<Figure size 640x480 with 2 Axes>"
      ]
     },
     "metadata": {},
     "output_type": "display_data"
    }
   ],
   "source": [
    "# Prettying the plot:\n",
    "fig, ax = plt.subplots()\n",
    "im = ax.pcolor(pivot, cmap='RdBu')\n",
    "\n",
    "#label names\n",
    "row_labels = pivot.columns.levels[1]\n",
    "col_labels = pivot.index\n",
    "\n",
    "#move ticks and labels to the center\n",
    "ax.set_xticks(np.arange(pivot.shape[1]) + 0.5, minor=False)\n",
    "ax.set_yticks(np.arange(pivot.shape[0]) + 0.5, minor=False)\n",
    "\n",
    "#insert labels\n",
    "ax.set_xticklabels(row_labels, minor=False)\n",
    "ax.set_yticklabels(col_labels, minor=False)\n",
    "\n",
    "#rotate label if too long\n",
    "plt.xticks(rotation=90)\n",
    "\n",
    "fig.colorbar(im)\n",
    "plt.show()"
   ]
  },
  {
   "cell_type": "markdown",
   "id": "d0ef508a-6618-4d70-b22b-9b675ccfffe3",
   "metadata": {},
   "source": [
    "<p>Visualization is very important in data science, and Python visualization packages provide great freedom. We will go more in-depth in a separate Python visualizations course.</p>\n",
    "\n",
    "<p>The main question we want to answer in this module is, \"What are the main characteristics which have the most impact on the car price?\".</p>\n",
    "\n",
    "<p>To get a better measure of the important characteristics, we look at the correlation of these variables with the car price. In other words: how is the car price dependent on this variable?</p>\n"
   ]
  },
  {
   "cell_type": "markdown",
   "id": "681be536-a6fa-4953-b1e4-1050000f8f4c",
   "metadata": {},
   "source": [
    "<h2 id=\"correlation_causation\">Correlation and Causation</h2>\n",
    "<p><b>Correlation</b>: a measure of the extent of interdependence between variables.</p>\n",
    "\n",
    "<p><b>Causation</b>: the relationship between cause and effect between two variables.</p>\n",
    "\n",
    "<p>It is important to know the difference between these two. Correlation does not imply causation. Determining correlation is much simpler  the determining causation as causation may require independent experimentation.</p>\n"
   ]
  },
  {
   "cell_type": "markdown",
   "id": "bed19ac9-9e4a-4725-8770-5f1553080be7",
   "metadata": {},
   "source": [
    "<p><b>Pearson Correlation</b></p>\n",
    "<p>The Pearson Correlation measures the linear dependence between two variables X and Y.</p>\n",
    "<p>The resulting coefficient is a value between -1 and 1 inclusive, where:</p>\n",
    "<ul>\n",
    "    <li><b>1</b>: Perfect positive linear correlation.</li>\n",
    "    <li><b>0</b>: No linear correlation, the two variables most likely do not affect each other.</li>\n",
    "    <li><b>-1</b>: Perfect negative linear correlation.</li>\n",
    "</ul>\n"
   ]
  },
  {
   "cell_type": "markdown",
   "id": "7ed5c8ee-42fd-4db6-b924-45cb83488f20",
   "metadata": {},
   "source": [
    "<p>Pearson Correlation is the default method of the function \"corr\". Like before, we can calculate the Pearson Correlation of the of the 'int64' or 'float64'  variables.</p>\n"
   ]
  },
  {
   "cell_type": "code",
   "execution_count": 35,
   "id": "8f1b8931-1cd2-4198-960d-bcaf835cb973",
   "metadata": {},
   "outputs": [
    {
     "data": {
      "text/plain": [
       "<matplotlib.colorbar.Colorbar at 0x7f1e647082b0>"
      ]
     },
     "execution_count": 35,
     "metadata": {},
     "output_type": "execute_result"
    },
    {
     "data": {
      "image/png": "[encoded data removed]",
      "text/plain": [
       "<Figure size 640x480 with 2 Axes>"
      ]
     },
     "metadata": {},
     "output_type": "display_data"
    }
   ],
   "source": [
    "plt.pcolor(df.corr(),cmap='RdBu')\n",
    "plt.colorbar()"
   ]
  },
  {
   "cell_type": "markdown",
   "id": "f198bed1-3659-4096-ad1e-d04fb6c2e640",
   "metadata": {},
   "source": [
    "<b>P-value</b>\n",
    "\n",
    "<p>What is this P-value? The P-value is the probability value that the correlation between these two variables is statistically significant. Normally, we choose a significance level of 0.05, which means that we are 95% confident that the correlation between the variables is significant.</p>\n",
    "\n",
    "By convention, when the\n",
    "\n",
    "<ul>\n",
    "    <li>p-value is $<$ 0.001: we say there is strong evidence that the correlation is significant.</li>\n",
    "    <li>the p-value is $<$ 0.05: there is moderate evidence that the correlation is significant.</li>\n",
    "    <li>the p-value is $<$ 0.1: there is weak evidence that the correlation is significant.</li>\n",
    "    <li>the p-value is $>$ 0.1: there is no evidence that the correlation is significant.</li>\n",
    "</ul>\n"
   ]
  },
  {
   "cell_type": "code",
   "execution_count": 36,
   "id": "bdbea581-fdc2-4bc4-862c-affd51aba68e",
   "metadata": {},
   "outputs": [],
   "source": [
    "from scipy import stats"
   ]
  },
  {
   "cell_type": "code",
   "execution_count": 37,
   "id": "d0b84218-5493-44c0-8309-f06f79b90a27",
   "metadata": {},
   "outputs": [
    {
     "name": "stdout",
     "output_type": "stream",
     "text": [
      "The Pearson Correlation Coefficient is 0.5891470005448702  with a P-value of P = 4.4570195020504053e-20\n"
     ]
    }
   ],
   "source": [
    "# Example for the correlation between wheel base and price:\n",
    "pearson_coef, p_value = stats.pearsonr(df['wheel-base'], df['price'])\n",
    "print(\"The Pearson Correlation Coefficient is\", pearson_coef, \" with a P-value of P =\", p_value)  "
   ]
  },
  {
   "cell_type": "markdown",
   "id": "669d3f9f-8e0b-442a-911c-354dd75b540d",
   "metadata": {},
   "source": [
    "<h4>Conclusion:</h4>\n",
    "<p>Since the p-value is $<$ 0.001, the correlation between wheel-base and price is statistically significant, although the linear relationship isn't extremely strong (~0.585).</p>"
   ]
  },
  {
   "cell_type": "code",
   "execution_count": 38,
   "id": "9545814b-0446-43d2-ba13-9d6f35a75239",
   "metadata": {},
   "outputs": [
    {
     "data": {
      "text/plain": [
       "<AxesSubplot:xlabel='wheel-base', ylabel='price'>"
      ]
     },
     "execution_count": 38,
     "metadata": {},
     "output_type": "execute_result"
    },
    {
     "data": {
      "image/png": "[encoded data removed]",
      "text/plain": [
       "<Figure size 640x480 with 1 Axes>"
      ]
     },
     "metadata": {},
     "output_type": "display_data"
    }
   ],
   "source": [
    "# To see it:\n",
    "sns.regplot(x='wheel-base', y='price', data=df)"
   ]
  },
  {
   "cell_type": "code",
   "execution_count": 39,
   "id": "eb98251e-206f-4358-afab-fa71a296ec2a",
   "metadata": {},
   "outputs": [
    {
     "name": "stdout",
     "output_type": "stream",
     "text": [
      "The pearson coefficient is 0.8096565575365611, and the p value is 1.0468839625927006e-47\n"
     ]
    }
   ],
   "source": [
    "# Horsepwer vs price:\n",
    "pearson_coef, p_value = stats.pearsonr(x=df['horsepower'],y=df['price'])\n",
    "print(f'The pearson coefficient is {pearson_coef}, and the p value is {p_value}')"
   ]
  },
  {
   "cell_type": "markdown",
   "id": "aa69cc3a-4631-4fe6-b578-b955bb252d75",
   "metadata": {},
   "source": [
    "Conclusion:\n",
    "The p value is extremely small, and hence this is statistically significant, and the pearson coefficient is close to one, so we expect a strop positive linear relationship."
   ]
  },
  {
   "cell_type": "code",
   "execution_count": 40,
   "id": "8110dcd6-2023-4dfd-adb4-647597d8dbe0",
   "metadata": {},
   "outputs": [
    {
     "data": {
      "text/plain": [
       "<AxesSubplot:xlabel='horsepower', ylabel='price'>"
      ]
     },
     "execution_count": 40,
     "metadata": {},
     "output_type": "execute_result"
    },
    {
     "data": {
      "image/png": "[encoded data removed]",
      "text/plain": [
       "<Figure size 640x480 with 1 Axes>"
      ]
     },
     "metadata": {},
     "output_type": "display_data"
    }
   ],
   "source": [
    "# Lets try it:\n",
    "sns.regplot(x='horsepower',y='price',data=df)"
   ]
  },
  {
   "cell_type": "markdown",
   "id": "57296c29-be54-4473-9be0-852c66e3f89e",
   "metadata": {},
   "source": [
    "* You can do the same for the other columns."
   ]
  },
  {
   "cell_type": "markdown",
   "id": "2dcd2616-2a46-4010-af62-332aa7512b71",
   "metadata": {},
   "source": [
    "<h3>ANOVA: Analysis of Variance</h3>\n",
    "<p>The Analysis of Variance  (ANOVA) is a statistical method used to test whether there are significant differences between the means of two or more groups. ANOVA returns two parameters:</p>\n",
    "\n",
    "<p><b>F-test score</b>: ANOVA assumes the means of all groups are the same, calculates how much the actual means deviate from the assumption, and reports it as the F-test score. A larger score means there is a larger difference between the means.</p>\n",
    "\n",
    "<p><b>P-value</b>:  P-value tells how statistically significant our calculated score value is.</p>\n",
    "\n",
    "<p>If our price variable is strongly correlated with the variable we are analyzing, we expect ANOVA to return a sizeable F-test score and a small p-value.</p>\n"
   ]
  },
  {
   "cell_type": "markdown",
   "id": "46ddc033-1ac4-4304-ab85-3de22b2e90b3",
   "metadata": {},
   "source": [
    "<h3>Drive Wheels</h3>\n",
    "<p>Since ANOVA analyzes the difference between different groups of the same variable, the groupby function will come in handy. Because the ANOVA algorithm averages the data automatically, we do not need to take the average before hand.</p>\n",
    "\n",
    "<p>To see if different types of 'drive-wheels' impact  'price', we group the data.</p>\n"
   ]
  },
  {
   "cell_type": "code",
   "execution_count": 41,
   "id": "3163e290-e342-4017-bd00-9d118a633169",
   "metadata": {},
   "outputs": [
    {
     "data": {
      "text/html": [
       "<div>\n",
       "<style scoped>\n",
       "    .dataframe tbody tr th:only-of-type {\n",
       "        vertical-align: middle;\n",
       "    }\n",
       "\n",
       "    .dataframe tbody tr th {\n",
       "        vertical-align: top;\n",
       "    }\n",
       "\n",
       "    .dataframe thead th {\n",
       "        text-align: right;\n",
       "    }\n",
       "</style>\n",
       "<table border=\"1\" class=\"dataframe\">\n",
       "  <thead>\n",
       "    <tr style=\"text-align: right;\">\n",
       "      <th></th>\n",
       "      <th>drive-wheels</th>\n",
       "      <th>price</th>\n",
       "    </tr>\n",
       "  </thead>\n",
       "  <tbody>\n",
       "    <tr>\n",
       "      <th>0</th>\n",
       "      <td>4wd</td>\n",
       "      <td>7603.000000</td>\n",
       "    </tr>\n",
       "    <tr>\n",
       "      <th>1</th>\n",
       "      <td>4wd</td>\n",
       "      <td>12647.333333</td>\n",
       "    </tr>\n",
       "    <tr>\n",
       "      <th>3</th>\n",
       "      <td>fwd</td>\n",
       "      <td>11595.000000</td>\n",
       "    </tr>\n",
       "    <tr>\n",
       "      <th>4</th>\n",
       "      <td>fwd</td>\n",
       "      <td>8249.000000</td>\n",
       "    </tr>\n",
       "    <tr>\n",
       "      <th>8</th>\n",
       "      <td>rwd</td>\n",
       "      <td>26563.250000</td>\n",
       "    </tr>\n",
       "    <tr>\n",
       "      <th>9</th>\n",
       "      <td>rwd</td>\n",
       "      <td>24202.714286</td>\n",
       "    </tr>\n",
       "  </tbody>\n",
       "</table>\n",
       "</div>"
      ],
      "text/plain": [
       "  drive-wheels         price\n",
       "0          4wd   7603.000000\n",
       "1          4wd  12647.333333\n",
       "3          fwd  11595.000000\n",
       "4          fwd   8249.000000\n",
       "8          rwd  26563.250000\n",
       "9          rwd  24202.714286"
      ]
     },
     "execution_count": 41,
     "metadata": {},
     "output_type": "execute_result"
    }
   ],
   "source": [
    "grouped_test2=temp[['drive-wheels', 'price']].groupby(['drive-wheels'])\n",
    "grouped_test2.head(2)"
   ]
  },
  {
   "cell_type": "code",
   "execution_count": 42,
   "id": "6ada7c5d-bdf8-4634-8e1b-b9b21d4bb893",
   "metadata": {},
   "outputs": [
    {
     "name": "stdout",
     "output_type": "stream",
     "text": [
      "ANOVA results: F= 15.410141563686233 , P = 0.0008823074307056802\n"
     ]
    }
   ],
   "source": [
    "# ANOVA\n",
    "f_val, p_val = stats.f_oneway(grouped_test2.get_group('fwd')['price'], grouped_test2.get_group('rwd')['price'], grouped_test2.get_group('4wd')['price'])  \n",
    " \n",
    "print( \"ANOVA results: F=\", f_val, \", P =\", p_val)   "
   ]
  },
  {
   "cell_type": "markdown",
   "id": "e8c59c0f-b6cf-4f0b-ae61-5eb57cbb9b6c",
   "metadata": {},
   "source": [
    "This is a great result with a large F-test score showing a strong correlation and a P-value of almost 0 implying almost certain statistical significance. But does this mean all three tested groups are all this highly correlated?\n",
    "\n",
    "Let's examine them separately.\n"
   ]
  },
  {
   "cell_type": "code",
   "execution_count": 43,
   "id": "88e82c2e-f61a-4bbc-b7a7-6f946834bb64",
   "metadata": {},
   "outputs": [
    {
     "name": "stdout",
     "output_type": "stream",
     "text": [
      "ANOVA results: F= 22.753469372233333 , P = 0.001408503348067567\n"
     ]
    }
   ],
   "source": [
    "# fwd and rwd\n",
    "f_val, p_val = stats.f_oneway(grouped_test2.get_group('fwd')['price'], grouped_test2.get_group('rwd')['price'])  \n",
    " \n",
    "print( \"ANOVA results: F=\", f_val, \", P =\", p_val )"
   ]
  },
  {
   "cell_type": "code",
   "execution_count": 44,
   "id": "74f34655-3ca7-444a-8004-3d8c318ad87e",
   "metadata": {},
   "outputs": [
    {
     "name": "stdout",
     "output_type": "stream",
     "text": [
      "ANOVA results: F= 11.764027680541242 , P = 0.013973361361845411\n"
     ]
    }
   ],
   "source": [
    "# 4wd and rwd\n",
    "f_val, p_val = stats.f_oneway(grouped_test2.get_group('4wd')['price'], grouped_test2.get_group('rwd')['price'])  \n",
    "   \n",
    "print( \"ANOVA results: F=\", f_val, \", P =\", p_val)   "
   ]
  },
  {
   "cell_type": "code",
   "execution_count": 45,
   "id": "db8c6de3-8b96-4eea-b59b-3d83a93a26b2",
   "metadata": {},
   "outputs": [
    {
     "name": "stdout",
     "output_type": "stream",
     "text": [
      "ANOVA results: F= 0.015958539708919313 , P = 0.9035999352040226\n"
     ]
    }
   ],
   "source": [
    "# 4wd and fwd\n",
    "f_val, p_val = stats.f_oneway(grouped_test2.get_group('4wd')['price'], grouped_test2.get_group('fwd')['price'])  \n",
    " \n",
    "print(\"ANOVA results: F=\", f_val, \", P =\", p_val)   "
   ]
  },
  {
   "cell_type": "markdown",
   "id": "100d0ffd-7e72-4395-87b7-c7e51bbf2d6f",
   "metadata": {},
   "source": [
    "<h3>Conclusion: Important Variables</h3>\n",
    "<p>We now have a better idea of what our data looks like and which variables are important to take into account when predicting the car price. We have narrowed it down to the following variables:</p>\n",
    "\n",
    "Continuous numerical variables:\n",
    "\n",
    "<ul>\n",
    "    <li>Length</li>\n",
    "    <li>Width</li>\n",
    "    <li>Curb-weight</li>\n",
    "    <li>Engine-size</li>\n",
    "    <li>Horsepower</li>\n",
    "    <li>City-mpg</li>\n",
    "    <li>Highway-mpg</li>\n",
    "    <li>Wheel-base</li>\n",
    "    <li>Bore</li>\n",
    "</ul>\n",
    "\n",
    "Categorical variables:\n",
    "\n",
    "<ul>\n",
    "    <li>Drive-wheels</li>\n",
    "</ul>\n",
    "\n",
    "<p>As we now move into building machine learning models to automate our analysis, feeding the model with variables that meaningfully affect our target variable will improve our model's prediction performance.</p>\n"
   ]
  },
  {
   "cell_type": "markdown",
   "id": "078db0ea-c64e-4b40-85c0-797961026938",
   "metadata": {},
   "source": [
    "### **End Of Week Three**\n",
    "---"
   ]
  },
  {
   "cell_type": "code",
   "execution_count": 46,
   "id": "0a27ef38-3b81-4302-a004-9b72e37609d2",
   "metadata": {},
   "outputs": [],
   "source": [
    "from sklearn.linear_model import LinearRegression "
   ]
  },
  {
   "cell_type": "code",
   "execution_count": 47,
   "id": "a4bc95a8-0254-43be-9f35-8b034be7f45c",
   "metadata": {},
   "outputs": [],
   "source": [
    "# creating the linear regression object:\n",
    "lr = LinearRegression()"
   ]
  },
  {
   "cell_type": "markdown",
   "id": "3c52179f-5795-4d29-9b0f-3c1893f210ff",
   "metadata": {},
   "source": [
    "For this example, we want to look at how highway-mpg can help us predict car price.\n",
    "Using simple linear regression, we will create a linear function with \"highway-mpg\" as the predictor variable and the \"price\" as the response variable.\n"
   ]
  },
  {
   "cell_type": "code",
   "execution_count": 48,
   "id": "c6ed5737-cb62-4982-b35c-b696a3d8791b",
   "metadata": {},
   "outputs": [
    {
     "data": {
      "text/plain": [
       "Index(['symboling', 'normalized-losses', 'make', 'num-of-doors', 'body-style',\n",
       "       'drive-wheels', 'engine-location', 'wheel-base', 'length', 'width',\n",
       "       'height', 'curb-weight', 'engine-type', 'num-of-cylinders',\n",
       "       'engine-size', 'fuel-system', 'bore', 'stroke', 'compression-ratio',\n",
       "       'horsepower', 'peak-rpm', 'city-mpg', 'highway-L/100km', 'price',\n",
       "       'city-L/100km', 'horsepower-binned', 'fuel-type-diesel',\n",
       "       'fuel-type-gas'],\n",
       "      dtype='object')"
      ]
     },
     "execution_count": 48,
     "metadata": {},
     "output_type": "execute_result"
    }
   ],
   "source": [
    "df.columns"
   ]
  },
  {
   "cell_type": "code",
   "execution_count": 49,
   "id": "07c9968c-2879-4c1d-9479-f8c17ee2dae5",
   "metadata": {},
   "outputs": [],
   "source": [
    "x = df[['highway-L/100km']]\n",
    "y = df.price"
   ]
  },
  {
   "cell_type": "code",
   "execution_count": 50,
   "id": "8e2cc210-c80e-4ab9-a23e-f14901c655e8",
   "metadata": {},
   "outputs": [
    {
     "data": {
      "text/plain": [
       "LinearRegression()"
      ]
     },
     "execution_count": 50,
     "metadata": {},
     "output_type": "execute_result"
    }
   ],
   "source": [
    "lr.fit(x, y)"
   ]
  },
  {
   "cell_type": "code",
   "execution_count": 51,
   "id": "3032da72-8487-47d0-8339-25f6a490e5bf",
   "metadata": {},
   "outputs": [
    {
     "name": "stdout",
     "output_type": "stream",
     "text": [
      "15496.768269294631\n"
     ]
    },
    {
     "data": {
      "text/plain": [
       "16500.0"
      ]
     },
     "execution_count": 51,
     "metadata": {},
     "output_type": "execute_result"
    }
   ],
   "source": [
    "# getting predictions:\n",
    "yhat = lr.predict(x)\n",
    "print(yhat[0])  # Predicted value\n",
    "\n",
    "# The real value:\n",
    "df.price[0]"
   ]
  },
  {
   "cell_type": "markdown",
   "id": "2807f57b-e1de-495f-9e03-2c2af899212d",
   "metadata": {},
   "source": [
    "<h3>What is the final estimated linear model we get?</h3>\n",
    "$$\n",
    "Yhat = a + b  X\n",
    "$$\n"
   ]
  },
  {
   "cell_type": "code",
   "execution_count": 52,
   "id": "bc319388-8091-4554-ac63-cad008b401a6",
   "metadata": {},
   "outputs": [
    {
     "data": {
      "text/plain": [
       "-14623.538605502386"
      ]
     },
     "execution_count": 52,
     "metadata": {},
     "output_type": "execute_result"
    }
   ],
   "source": [
    "a = lr.intercept_\n",
    "a"
   ]
  },
  {
   "cell_type": "code",
   "execution_count": 53,
   "id": "7af73d4a-58b2-4eed-b852-70b87908b5fd",
   "metadata": {},
   "outputs": [
    {
     "data": {
      "text/plain": [
       "3460.631002636253"
      ]
     },
     "execution_count": 53,
     "metadata": {},
     "output_type": "execute_result"
    }
   ],
   "source": [
    "b = lr.coef_\n",
    "b[0]"
   ]
  },
  {
   "cell_type": "markdown",
   "id": "cf756521-2d61-42f0-aebe-e9d02a7f8b03",
   "metadata": {},
   "source": [
    "Plugging the values, we get the following model:\n",
    "<b>Price</b> = 3460.63 *  <b>highway-mpg</b>  - 14623.54 \n"
   ]
  },
  {
   "cell_type": "code",
   "execution_count": 54,
   "id": "d8aad782-73fe-4e9d-9117-4c1cd20422bf",
   "metadata": {},
   "outputs": [],
   "source": [
    "price = 3460.63 * df['highway-L/100km'] - 14623.54"
   ]
  },
  {
   "cell_type": "code",
   "execution_count": 55,
   "id": "8f69718a-5532-4843-aca2-4df93e9ffed1",
   "metadata": {},
   "outputs": [
    {
     "data": {
      "text/html": [
       "<div>\n",
       "<style scoped>\n",
       "    .dataframe tbody tr th:only-of-type {\n",
       "        vertical-align: middle;\n",
       "    }\n",
       "\n",
       "    .dataframe tbody tr th {\n",
       "        vertical-align: top;\n",
       "    }\n",
       "\n",
       "    .dataframe thead th {\n",
       "        text-align: right;\n",
       "    }\n",
       "</style>\n",
       "<table border=\"1\" class=\"dataframe\">\n",
       "  <thead>\n",
       "    <tr style=\"text-align: right;\">\n",
       "      <th></th>\n",
       "      <th>predicted price</th>\n",
       "    </tr>\n",
       "  </thead>\n",
       "  <tbody>\n",
       "    <tr>\n",
       "      <th>0</th>\n",
       "      <td>15496.758148</td>\n",
       "    </tr>\n",
       "    <tr>\n",
       "      <th>1</th>\n",
       "      <td>16655.231154</td>\n",
       "    </tr>\n",
       "    <tr>\n",
       "      <th>2</th>\n",
       "      <td>12484.728333</td>\n",
       "    </tr>\n",
       "    <tr>\n",
       "      <th>3</th>\n",
       "      <td>22342.280455</td>\n",
       "    </tr>\n",
       "    <tr>\n",
       "      <th>4</th>\n",
       "      <td>17906.382000</td>\n",
       "    </tr>\n",
       "    <tr>\n",
       "      <th>...</th>\n",
       "      <td>...</td>\n",
       "    </tr>\n",
       "    <tr>\n",
       "      <th>199</th>\n",
       "      <td>14421.033214</td>\n",
       "    </tr>\n",
       "    <tr>\n",
       "      <th>200</th>\n",
       "      <td>17906.382000</td>\n",
       "    </tr>\n",
       "    <tr>\n",
       "      <th>201</th>\n",
       "      <td>20735.070870</td>\n",
       "    </tr>\n",
       "    <tr>\n",
       "      <th>202</th>\n",
       "      <td>15496.758148</td>\n",
       "    </tr>\n",
       "    <tr>\n",
       "      <th>203</th>\n",
       "      <td>17906.382000</td>\n",
       "    </tr>\n",
       "  </tbody>\n",
       "</table>\n",
       "<p>200 rows × 1 columns</p>\n",
       "</div>"
      ],
      "text/plain": [
       "     predicted price\n",
       "0       15496.758148\n",
       "1       16655.231154\n",
       "2       12484.728333\n",
       "3       22342.280455\n",
       "4       17906.382000\n",
       "..               ...\n",
       "199     14421.033214\n",
       "200     17906.382000\n",
       "201     20735.070870\n",
       "202     15496.758148\n",
       "203     17906.382000\n",
       "\n",
       "[200 rows x 1 columns]"
      ]
     },
     "execution_count": 55,
     "metadata": {},
     "output_type": "execute_result"
    }
   ],
   "source": [
    "temp1 = price.to_frame()\n",
    "temp1.rename(columns={'highway-L/100km': 'predicted price'}, inplace=True)\n",
    "temp1"
   ]
  },
  {
   "cell_type": "code",
   "execution_count": 56,
   "id": "b4bac95c-395e-46a0-8d13-109c754329ab",
   "metadata": {},
   "outputs": [
    {
     "data": {
      "text/html": [
       "<div>\n",
       "<style scoped>\n",
       "    .dataframe tbody tr th:only-of-type {\n",
       "        vertical-align: middle;\n",
       "    }\n",
       "\n",
       "    .dataframe tbody tr th {\n",
       "        vertical-align: top;\n",
       "    }\n",
       "\n",
       "    .dataframe thead th {\n",
       "        text-align: right;\n",
       "    }\n",
       "</style>\n",
       "<table border=\"1\" class=\"dataframe\">\n",
       "  <thead>\n",
       "    <tr style=\"text-align: right;\">\n",
       "      <th></th>\n",
       "      <th>price</th>\n",
       "      <th>predicted price</th>\n",
       "    </tr>\n",
       "  </thead>\n",
       "  <tbody>\n",
       "    <tr>\n",
       "      <th>0</th>\n",
       "      <td>16500.0</td>\n",
       "      <td>15496.758148</td>\n",
       "    </tr>\n",
       "    <tr>\n",
       "      <th>1</th>\n",
       "      <td>16500.0</td>\n",
       "      <td>16655.231154</td>\n",
       "    </tr>\n",
       "    <tr>\n",
       "      <th>2</th>\n",
       "      <td>13950.0</td>\n",
       "      <td>12484.728333</td>\n",
       "    </tr>\n",
       "    <tr>\n",
       "      <th>3</th>\n",
       "      <td>17450.0</td>\n",
       "      <td>22342.280455</td>\n",
       "    </tr>\n",
       "    <tr>\n",
       "      <th>4</th>\n",
       "      <td>15250.0</td>\n",
       "      <td>17906.382000</td>\n",
       "    </tr>\n",
       "    <tr>\n",
       "      <th>...</th>\n",
       "      <td>...</td>\n",
       "      <td>...</td>\n",
       "    </tr>\n",
       "    <tr>\n",
       "      <th>199</th>\n",
       "      <td>16845.0</td>\n",
       "      <td>14421.033214</td>\n",
       "    </tr>\n",
       "    <tr>\n",
       "      <th>200</th>\n",
       "      <td>19045.0</td>\n",
       "      <td>17906.382000</td>\n",
       "    </tr>\n",
       "    <tr>\n",
       "      <th>201</th>\n",
       "      <td>21485.0</td>\n",
       "      <td>20735.070870</td>\n",
       "    </tr>\n",
       "    <tr>\n",
       "      <th>202</th>\n",
       "      <td>22470.0</td>\n",
       "      <td>15496.758148</td>\n",
       "    </tr>\n",
       "    <tr>\n",
       "      <th>203</th>\n",
       "      <td>22625.0</td>\n",
       "      <td>17906.382000</td>\n",
       "    </tr>\n",
       "  </tbody>\n",
       "</table>\n",
       "<p>200 rows × 2 columns</p>\n",
       "</div>"
      ],
      "text/plain": [
       "       price  predicted price\n",
       "0    16500.0     15496.758148\n",
       "1    16500.0     16655.231154\n",
       "2    13950.0     12484.728333\n",
       "3    17450.0     22342.280455\n",
       "4    15250.0     17906.382000\n",
       "..       ...              ...\n",
       "199  16845.0     14421.033214\n",
       "200  19045.0     17906.382000\n",
       "201  21485.0     20735.070870\n",
       "202  22470.0     15496.758148\n",
       "203  22625.0     17906.382000\n",
       "\n",
       "[200 rows x 2 columns]"
      ]
     },
     "execution_count": 56,
     "metadata": {},
     "output_type": "execute_result"
    }
   ],
   "source": [
    "# comparing the actual with the predicted:\n",
    "pd.concat([df.price.to_frame(), temp1], axis =1)"
   ]
  },
  {
   "cell_type": "code",
   "execution_count": 57,
   "id": "f3d794dd-d99b-414a-869f-aa5b9622bf1e",
   "metadata": {},
   "outputs": [
    {
     "data": {
      "text/plain": [
       "<matplotlib.collections.PathCollection at 0x7f1e5fd01520>"
      ]
     },
     "execution_count": 57,
     "metadata": {},
     "output_type": "execute_result"
    },
    {
     "data": {
      "image/png": "[encoded data removed]",
      "text/plain": [
       "<Figure size 640x480 with 1 Axes>"
      ]
     },
     "metadata": {},
     "output_type": "display_data"
    }
   ],
   "source": [
    "plt.scatter(df['highway-L/100km'],df.price)\n",
    "plt.scatter(df['highway-L/100km'],temp1['predicted price'])"
   ]
  },
  {
   "cell_type": "markdown",
   "id": "64f69afd-7fa9-40b2-9d0b-d164eee50047",
   "metadata": {},
   "source": [
    "<h4>Multiple Linear Regression</h4>\n",
    "<p>From the previous section  we know that other good predictors of price could be:</p>\n",
    "<ul>\n",
    "    <li>Horsepower</li>\n",
    "    <li>Curb-weight</li>\n",
    "    <li>Engine-size</li>\n",
    "    <li>Highway-mpg</li>\n",
    "</ul>\n",
    "Let's develop a model using these variables as the predictor variables.\n"
   ]
  },
  {
   "cell_type": "code",
   "execution_count": 58,
   "id": "f2e5628e-1dd9-46d3-a540-9b290209be89",
   "metadata": {},
   "outputs": [],
   "source": [
    "x = df[['horsepower', 'curb-weight', 'engine-size', 'highway-L/100km']]\n",
    "y = df.price"
   ]
  },
  {
   "cell_type": "code",
   "execution_count": 59,
   "id": "9d8c1137-ae70-445a-9ca7-12e3a6b40519",
   "metadata": {},
   "outputs": [],
   "source": [
    "lr_multiple = LinearRegression()"
   ]
  },
  {
   "cell_type": "code",
   "execution_count": 60,
   "id": "84975e22-146b-4eaa-bbdf-3b4cfd1ce78c",
   "metadata": {},
   "outputs": [
    {
     "data": {
      "text/plain": [
       "LinearRegression()"
      ]
     },
     "execution_count": 60,
     "metadata": {},
     "output_type": "execute_result"
    }
   ],
   "source": [
    "lr_multiple.fit(x,y)"
   ]
  },
  {
   "cell_type": "code",
   "execution_count": 61,
   "id": "93cf9f95-0b96-4e82-a0a4-0bbafb5ac07e",
   "metadata": {},
   "outputs": [
    {
     "data": {
      "text/plain": [
       "-14383.74892984982"
      ]
     },
     "execution_count": 61,
     "metadata": {},
     "output_type": "execute_result"
    }
   ],
   "source": [
    "# The parameters:\n",
    "lr_multiple.intercept_"
   ]
  },
  {
   "cell_type": "code",
   "execution_count": 62,
   "id": "6629676c-3170-4bb2-9157-0212534cb146",
   "metadata": {},
   "outputs": [
    {
     "data": {
      "text/plain": [
       "array([ 36.62425112,   3.4945574 ,  85.37910132, 502.57298307])"
      ]
     },
     "execution_count": 62,
     "metadata": {},
     "output_type": "execute_result"
    }
   ],
   "source": [
    "lr_multiple.coef_"
   ]
  },
  {
   "cell_type": "code",
   "execution_count": 63,
   "id": "95375e08-b916-47cd-ae30-cc729d0a92db",
   "metadata": {},
   "outputs": [
    {
     "data": {
      "text/html": [
       "<div>\n",
       "<style scoped>\n",
       "    .dataframe tbody tr th:only-of-type {\n",
       "        vertical-align: middle;\n",
       "    }\n",
       "\n",
       "    .dataframe tbody tr th {\n",
       "        vertical-align: top;\n",
       "    }\n",
       "\n",
       "    .dataframe thead th {\n",
       "        text-align: right;\n",
       "    }\n",
       "</style>\n",
       "<table border=\"1\" class=\"dataframe\">\n",
       "  <thead>\n",
       "    <tr style=\"text-align: right;\">\n",
       "      <th></th>\n",
       "      <th>price</th>\n",
       "      <th>predicted price</th>\n",
       "    </tr>\n",
       "  </thead>\n",
       "  <tbody>\n",
       "    <tr>\n",
       "      <th>0</th>\n",
       "      <td>16500.0</td>\n",
       "      <td>16616.141481</td>\n",
       "    </tr>\n",
       "    <tr>\n",
       "      <th>1</th>\n",
       "      <td>16500.0</td>\n",
       "      <td>21281.238077</td>\n",
       "    </tr>\n",
       "    <tr>\n",
       "      <th>2</th>\n",
       "      <td>13950.0</td>\n",
       "      <td>13062.078333</td>\n",
       "    </tr>\n",
       "    <tr>\n",
       "      <th>3</th>\n",
       "      <td>17450.0</td>\n",
       "      <td>19824.196818</td>\n",
       "    </tr>\n",
       "    <tr>\n",
       "      <th>4</th>\n",
       "      <td>15250.0</td>\n",
       "      <td>17507.918000</td>\n",
       "    </tr>\n",
       "    <tr>\n",
       "      <th>...</th>\n",
       "      <td>...</td>\n",
       "      <td>...</td>\n",
       "    </tr>\n",
       "    <tr>\n",
       "      <th>199</th>\n",
       "      <td>16845.0</td>\n",
       "      <td>18824.525357</td>\n",
       "    </tr>\n",
       "    <tr>\n",
       "      <th>200</th>\n",
       "      <td>19045.0</td>\n",
       "      <td>21638.398000</td>\n",
       "    </tr>\n",
       "    <tr>\n",
       "      <th>201</th>\n",
       "      <td>21485.0</td>\n",
       "      <td>23955.201739</td>\n",
       "    </tr>\n",
       "    <tr>\n",
       "      <th>202</th>\n",
       "      <td>22470.0</td>\n",
       "      <td>20050.451481</td>\n",
       "    </tr>\n",
       "    <tr>\n",
       "      <th>203</th>\n",
       "      <td>22625.0</td>\n",
       "      <td>20016.728000</td>\n",
       "    </tr>\n",
       "  </tbody>\n",
       "</table>\n",
       "<p>200 rows × 2 columns</p>\n",
       "</div>"
      ],
      "text/plain": [
       "       price  predicted price\n",
       "0    16500.0     16616.141481\n",
       "1    16500.0     21281.238077\n",
       "2    13950.0     13062.078333\n",
       "3    17450.0     19824.196818\n",
       "4    15250.0     17507.918000\n",
       "..       ...              ...\n",
       "199  16845.0     18824.525357\n",
       "200  19045.0     21638.398000\n",
       "201  21485.0     23955.201739\n",
       "202  22470.0     20050.451481\n",
       "203  22625.0     20016.728000\n",
       "\n",
       "[200 rows x 2 columns]"
      ]
     },
     "execution_count": 63,
     "metadata": {},
     "output_type": "execute_result"
    }
   ],
   "source": [
    "temp2 = -14383.75 + 36.24 * df.horsepower + 3.49 * df['curb-weight'] + 85.38 * df['engine-size'] + 802.57 * df['highway-L/100km']\n",
    "price_multiple = temp2.to_frame()\n",
    "price_multiple.rename(columns={0:'predicted price'},inplace=True)\n",
    "\n",
    "pd.concat([df.price, price_multiple], axis = 1)"
   ]
  },
  {
   "cell_type": "markdown",
   "id": "c79f9678-2012-4507-b9b1-d5fc3e993121",
   "metadata": {},
   "source": [
    "<h3>Residual Plot</h3>\n",
    "\n",
    "<p>A good way to visualize the variance of the data is to use a residual plot.</p>\n",
    "\n",
    "<p>What is a <b>residual</b>?</p>\n",
    "\n",
    "<p>The difference between the observed value (y) and the predicted value (Yhat) is called the residual (e). When we look at a regression plot, the residual is the distance from the data point to the fitted regression line.</p>\n",
    "\n",
    "<p>So what is a <b>residual plot</b>?</p>\n",
    "\n",
    "<p>A residual plot is a graph that shows the residuals on the vertical y-axis and the independent variable on the horizontal x-axis.</p>\n",
    "\n",
    "<p>What do we pay attention to when looking at a residual plot?</p>\n",
    "\n",
    "<p>We look at the spread of the residuals:</p>\n",
    "\n",
    "<p>- If the points in a residual plot are <b>randomly spread out around the x-axis</b>, then a <b>linear model is appropriate</b> for the data.\n",
    "\n",
    "Why is that? Randomly spread out residuals means that the variance is constant, and thus the linear model is a good fit for this data.</p>\n"
   ]
  },
  {
   "cell_type": "code",
   "execution_count": 64,
   "id": "071bd453-b2b4-4580-aba3-2615ec35c8e1",
   "metadata": {},
   "outputs": [
    {
     "data": {
      "text/plain": [
       "<AxesSubplot:xlabel='highway-L/100km', ylabel='price'>"
      ]
     },
     "execution_count": 64,
     "metadata": {},
     "output_type": "execute_result"
    },
    {
     "data": {
      "image/png": "[encoded data removed]",
      "text/plain": [
       "<Figure size 640x480 with 1 Axes>"
      ]
     },
     "metadata": {},
     "output_type": "display_data"
    }
   ],
   "source": [
    "sns.residplot(x=df['highway-L/100km'], y=df.price, data=df)"
   ]
  },
  {
   "cell_type": "markdown",
   "id": "6b52a24c-15ed-4a2c-90cd-e75e651567be",
   "metadata": {},
   "source": [
    "<i>What is this plot telling us?</i>\n",
    "\n",
    "<p>We can see from this residual plot that the residuals are not randomly spread around the x-axis, leading us to believe that maybe a non-linear model is more appropriate for this data.</p>\n"
   ]
  },
  {
   "cell_type": "markdown",
   "id": "c4ab1afe-3bbe-4145-972f-c9e76c05ca22",
   "metadata": {},
   "source": [
    "<h3>Multiple Linear Regression Visualization</h3>\n",
    "<p>How do we visualize a model for Multiple Linear Regression? This gets a bit more complicated because you can't visualize it with regression or residual plot.</p>\n",
    "\n",
    "<p>One way to look at the fit of the model is by looking at the <b>distribution plot</b>. We can look at the distribution of the fitted values that result from the model and compare it to the distribution of the actual values.</p>"
   ]
  },
  {
   "cell_type": "markdown",
   "id": "a0bca6c0-31e8-467b-b86b-22eadebbd9bf",
   "metadata": {},
   "source": [
    "* **Check the lab for details.**"
   ]
  },
  {
   "cell_type": "markdown",
   "id": "9788dd6a-e423-4f0b-bb27-e7acd33bfd09",
   "metadata": {},
   "source": [
    "<h2>Polynomial Regression and Pipelines</h2>\n",
    "<p><b>Polynomial regression</b> is a particular case of the general linear regression model or multiple linear regression models.</p> \n",
    "<p>We get non-linear relationships by squaring or setting higher-order terms of the predictor variables.</p>\n"
   ]
  },
  {
   "cell_type": "markdown",
   "id": "c00c9f5e-a751-45aa-b64c-a7dd64a0827e",
   "metadata": {},
   "source": [
    "<h2>Pipeline</h2>\n",
    "<p>Data Pipelines simplify the steps of processing the data. We use the module <b>Pipeline</b> to create a pipeline. We also use <b>StandardScaler</b> as a step in our pipeline.</p>\n",
    "\n",
    "* **Check the lab for details.**"
   ]
  },
  {
   "cell_type": "markdown",
   "id": "29d87fd2-41c4-418e-8617-bf0630eaf2fb",
   "metadata": {},
   "source": [
    "### Question:\n",
    "Create a pipeline that standardizes the data, then produce a prediction using a linear regression model using the features Z and target y."
   ]
  },
  {
   "cell_type": "code",
   "execution_count": 66,
   "id": "b254aabd-f536-431e-8664-15919d0eeb1a",
   "metadata": {},
   "outputs": [],
   "source": [
    "from sklearn.preprocessing import StandardScaler\n",
    "from sklearn.pipeline import Pipeline"
   ]
  },
  {
   "cell_type": "code",
   "execution_count": 70,
   "id": "41320f71-96f7-4bfb-9afb-92d5d5976234",
   "metadata": {},
   "outputs": [
    {
     "data": {
      "text/plain": [
       "array([14059.20469631, 18641.63125102, 10761.84906446, 16676.62104429,\n",
       "       14741.51790658])"
      ]
     },
     "execution_count": 70,
     "metadata": {},
     "output_type": "execute_result"
    }
   ],
   "source": [
    "inputs = [('scale',StandardScaler()), ('model',LinearRegression())]\n",
    "pipe = Pipeline(inputs)\n",
    "pipe.fit(x,y)\n",
    "pipe.predict(x)[:5]"
   ]
  },
  {
   "cell_type": "markdown",
   "id": "1fb81cb7-93e5-4d95-b5b5-a3235346e232",
   "metadata": {},
   "source": [
    "### Measures for In-Sample Evaluation\n",
    "<p>When evaluating our models, not only do we want to visualize the results, but we also want a quantitative measure to determine how accurate the model is.</p>\n",
    "\n",
    "<p>Two very important measures that are often used in Statistics to determine the accuracy of a model are:</p>\n",
    "<ul>\n",
    "    <li><b>R^2 / R-squared</b></li>\n",
    "    <li><b>Mean Squared Error (MSE)</b></li>\n",
    "</ul>\n",
    "\n",
    "<b>R-squared</b>\n",
    "\n",
    "<p>R squared, also known as the coefficient of determination, is a measure to indicate how close the data is to the fitted regression line.</p>\n",
    "\n",
    "<p>The value of the R-squared is the percentage of variation of the response variable (y) that is explained by a linear model.</p>\n",
    "\n",
    "<b>Mean Squared Error (MSE)</b>\n",
    "\n",
    "<p>The Mean Squared Error measures the average of the squares of errors. That is, the difference between actual value (y) and the estimated value (ŷ).</p>\n"
   ]
  },
  {
   "cell_type": "markdown",
   "id": "b32160f0-8d36-41d9-a007-5a5fccf5a66b",
   "metadata": {},
   "source": [
    "Let's calculate the R^2:\n"
   ]
  },
  {
   "cell_type": "code",
   "execution_count": 71,
   "id": "463f2479-18b9-4f4c-818d-e5b018de6e85",
   "metadata": {},
   "outputs": [
    {
     "data": {
      "text/plain": [
       "LinearRegression()"
      ]
     },
     "execution_count": 71,
     "metadata": {},
     "output_type": "execute_result"
    }
   ],
   "source": [
    "lr.fit(x,y)"
   ]
  },
  {
   "cell_type": "code",
   "execution_count": 73,
   "id": "7d166dbb-96a1-4446-a45a-34d06753c0c8",
   "metadata": {},
   "outputs": [
    {
     "data": {
      "text/plain": [
       "0.8118353385939377"
      ]
     },
     "execution_count": 73,
     "metadata": {},
     "output_type": "execute_result"
    }
   ],
   "source": [
    "lr.score(x,y)"
   ]
  },
  {
   "cell_type": "markdown",
   "id": "d7c7aed2-c20d-4283-a401-e476e0a95bc4",
   "metadata": {},
   "source": [
    "We can say that \\~81.18% of the variation of the price is explained by this simple linear model \"highway-L/100km\".\n"
   ]
  },
  {
   "cell_type": "markdown",
   "id": "96b11938-fd6e-437c-9587-625f31584e58",
   "metadata": {},
   "source": [
    "Let's calculate the MSE:\n"
   ]
  },
  {
   "cell_type": "code",
   "execution_count": 74,
   "id": "c5bb7831-06f6-490e-9433-d4cd9f656e71",
   "metadata": {},
   "outputs": [
    {
     "data": {
      "text/plain": [
       "22603173.623282965"
      ]
     },
     "execution_count": 74,
     "metadata": {},
     "output_type": "execute_result"
    }
   ],
   "source": [
    "from sklearn.metrics import mean_squared_error\n",
    "mean_squared_error(y,yhat)"
   ]
  },
  {
   "cell_type": "markdown",
   "id": "e1c508fb-a154-4aa7-b582-81a49cddcdaf",
   "metadata": {},
   "source": [
    "###  Prediction and Decision Making\n",
    "* **This is an important section, so here is a very quixk summary, and you should check the entire section out if need be:**\n",
    "1. We want to determine the best model, and for that we want to minimizae the MSE and maximize the R^2.\n",
    "2. Comparing the models, we find that the MLR is the best, which makes sense since we have more than one good predicators(highly correlated)."
   ]
  },
  {
   "cell_type": "markdown",
   "id": "27dcb6fc-f6c6-4585-998b-c5b17e00bea7",
   "metadata": {},
   "source": [
    "### **End Of Week Four**\n",
    "---"
   ]
  },
  {
   "cell_type": "code",
   "execution_count": null,
   "id": "4680f8a3-9a8e-4743-b135-726530b4b630",
   "metadata": {},
   "outputs": [],
   "source": []
  }
 ],
 "metadata": {
  "kernelspec": {
   "display_name": "Python 3 (ipykernel)",
   "language": "python",
   "name": "python3"
  },
  "language_info": {
   "codemirror_mode": {
    "name": "ipython",
    "version": 3
   },
   "file_extension": ".py",
   "mimetype": "text/x-python",
   "name": "python",
   "nbconvert_exporter": "python",
   "pygments_lexer": "ipython3",
   "version": "3.9.13"
  }
 },
 "nbformat": 4,
 "nbformat_minor": 5
}
