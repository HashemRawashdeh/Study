{
 "cells": [
  {
   "cell_type": "markdown",
   "id": "50a9dab2-5cb1-41a5-9387-0bd0f6ab24ed",
   "metadata": {},
   "source": [
    "# **Course Six | Data Analysis**\n",
    "---"
   ]
  },
  {
   "cell_type": "markdown",
   "id": "72a6dbc0-8740-4aa0-887d-dacff0f4066a",
   "metadata": {},
   "source": [
    "Placeholder"
   ]
  },
  {
   "cell_type": "markdown",
   "id": "92d54b17-0eb1-4d30-a9b6-e89ee19879cf",
   "metadata": {},
   "source": [
    "## **Week One| Importing Datasets**\n",
    "---\n",
    "In this module, you will learn how to understand data and learn about how to use the libraries in Python to help you import data from multiple sources. You will then learn how to perform some basic tasks to start exploring and analyzing the imported data set.\n",
    "\n",
    "**Learning Objectives:**\n",
    "* Analyze Python data using a dataset\n",
    "* Identify three Python libraries and describe their uses\n",
    "* Read data using Python's Pandas package\n",
    "* Demonstrate how to import and export data in Python"
   ]
  },
  {
   "cell_type": "markdown",
   "id": "f47ba8c6-80dc-45cf-a778-a62eafd77614",
   "metadata": {},
   "source": [
    "* _**Since the weeks are too short in this course, I will right all the sections of a certain week at once when I finsish the week_**"
   ]
  },
  {
   "cell_type": "markdown",
   "id": "f52aac6c-8174-49d8-83c5-19423d3da862",
   "metadata": {},
   "source": [
    "**Videos:**\n",
    "The videos covered the very basic importing and exploring datasets, with functions like describe and head, and importing CSV files using the pandas library. THe videos also gave a brief introduction to the libraries that will be covered in this course. In conclusion, very basic already known stuff.\n",
    "\n",
    "**Quizes:**\n",
    "There were a one or two question quiz after each topic in the videos. Conceptual and good."
   ]
  },
  {
   "cell_type": "markdown",
   "id": "76a55851-fe74-4076-a093-f3faeef678b2",
   "metadata": {},
   "source": [
    "## **Week Two | Data Wrangling**\n",
    "---\n",
    "n this module, you will learn how to perform some fundamental data wrangling tasks that, together, form the pre-processing phase of data analysis. These tasks include handling missing values in data, formatting data to standardize it and make it consistent, normalizing data, grouping data values into bins, and converting categorical variables into numerical quantitative variables.\n",
    "\n",
    "**Learning Objectives:**\n",
    "* Describe how to handle missing values\n",
    "* Describe data formatting techniques\n",
    "* Describe data normalization\n",
    "* Demonstrate the use of binning\n",
    "* Demonstrate the use of categotical variables"
   ]
  },
  {
   "cell_type": "markdown",
   "id": "60ec7275-9384-437f-8bff-92de85f8ecd1",
   "metadata": {},
   "source": [
    "**Videos:**\n",
    "The videos covered data wrangling, first they covered how to deal with \n",
    "missing values, then data formatting, then data normalization, then binning and finally turning categorical variables into quantitative variables. Everything is summarized in the seperate automobile notebook.\n",
    "\n",
    "**Quizes:**\n",
    "There were a one or two question quiz after each topic in the videos. Conceptual and good. The final quiz were great too."
   ]
  },
  {
   "cell_type": "markdown",
   "id": "0d489547-7532-4632-aafa-8595c5af4cc3",
   "metadata": {},
   "source": [
    "## **Week Three | Exploratory Data Analysis**\n",
    "---\n",
    "In this module, you will learn what is meant by exploratory data analysis, and you will learn how to perform computations on the data to calculate basic descriptive statistical information, such as mean, median, mode, and quartile values, and use that information to better understand the distribution of the data. You will learn about putting your data into groups to help you visualize the data better, you will learn how to use the Pearson correlation method to compare two continuous numerical variables, and you will learn how to use the Chi-square test to find the association between two categorical variables and how to interpret them.\n",
    "\n",
    "**Learning Objectives:**\n",
    "* Implement descriptive statistics\n",
    "* Demonstrate the basics of grouping\n",
    "* Describe data correlation processes\n",
    "* Describe why and how to apply the Chi-Squared test"
   ]
  },
  {
   "cell_type": "markdown",
   "id": "a359c69c-ed6b-41c1-9f21-6660b57ae67b",
   "metadata": {},
   "source": [
    "_**I ended up deciding to remove the long codes from here, and only write the notes. The code will be done in a seperate notebook, since this dataset is used throughout the course.**_"
   ]
  },
  {
   "cell_type": "markdown",
   "id": "f1d36a97-c59a-41e6-9ba9-3534507ed344",
   "metadata": {},
   "source": [
    "### Week Summary:\n",
    "In this week, we have learned how to:\n",
    "\n",
    "* **Describe Exploratory Data Analysis**: By summarizing the main characteristics of the data and extracting valuable insights.\n",
    "\n",
    "* **Compute basic descriptive statistics**: Calculate the mean, median, and mode using python and use it as a basis in understanding the distribution of the data.\n",
    "\n",
    "* **Create data groups**: How and why you put continuous data in groups and how to visualize them.\n",
    "\n",
    "* **Define correlation as the linear association between two numerical variables**: Use Pearson correlation as a measure of the correlation between two continuous variables\n",
    "\n",
    "* **Define the association between two categorical variables**: Understand how to find the association of two variables using the Chi-square test for association and how to interpret them."
   ]
  },
  {
   "cell_type": "markdown",
   "id": "6e9fd91c-36f7-4901-9639-c675a039e3e5",
   "metadata": {},
   "source": [
    "* Note that all the highlights and the code is in a seperate automobile notebook.\n",
    "* I will also be writing the week summaries insted of the cideos/quizes format for this specialization."
   ]
  },
  {
   "cell_type": "markdown",
   "id": "9700596e-2712-4763-8988-a585bdb7450e",
   "metadata": {},
   "source": [
    "## **Week Four | Model Development**\n",
    "---\n",
    "In this module, you will learn how to define the explanatory variable and the response variable and understand the differences between the simple linear regression and multiple linear regression models. You will learn how to evaluate a model using visualization and learn about polynomial regression and pipelines. You will also learn how to interpret and use the R-squared and the mean square error measures to perform in-sample evaluations to numerically evaluate our model. And lastly, you will learn about prediction and decision making when determining if our model is correct.\n",
    "\n",
    "**Learning Objectives:**\n",
    "* Describe how to process linear regression in Python\n",
    "* Apply model evaluation using visualization in Python\n",
    "* Apply polynomial regression techniques to Python\n",
    "* Evaluate a data model by using visualization\n",
    "* Describe the use of R-squared and MSE for in-sample evaluation\n",
    "* Apply prediction and decision making to Python model creation"
   ]
  },
  {
   "cell_type": "markdown",
   "id": "737d649a-f0da-4077-b11e-d32ff9ba10dd",
   "metadata": {},
   "source": [
    "### Week Summary:\n",
    "In this week, we have learned how to:\n",
    "\n",
    "* **Define the explanatory variable and the response variable**: Define the response variable (y) as the focus of the experiment and the explanatory variable (x) as a variable used to explain the change of the response variable. Understand the differences between Simple Linear Regression because it concerns the study of only one explanatory variable and Multiple Linear Regression because it concerns the study of two or more explanatory variables.\n",
    "\n",
    "* **Evaluate the model using Visualization**: By visually representing the errors of a variable using scatterplots and interpreting the results of the model.\n",
    "\n",
    "* **Identify alternative regression approaches**: Use a Polynomial Regression when the Linear regression does not capture the curvilinear relationship between variables and how to pick the optimal order to use in a model.\n",
    "\n",
    "* **Interpret the R-square and the Mean Square Error**: Interpret R-square (x 100) as the percentage of the variation in the response variable y  that is explained by the variation in explanatory variable(s) x. The Mean Squared Error tells you how close a regression line is to a set of points. It does this by taking the average distances from the actual points to the predicted points and squaring them."
   ]
  },
  {
   "cell_type": "markdown",
   "id": "7998a7f3-ae1d-4d86-8df4-250de1b530ad",
   "metadata": {},
   "source": [
    "## **Week Five | Model Evaluation**\n",
    "---\n",
    "In this module, you will learn about the importance of model evaluation and discuss different data model refinement techniques. You will learn about model selection and how to identify overfitting and underfitting in a predictive model. You will also learn about using Ridge Regression to regularize and reduce standard errors to prevent overfitting a regression model and how to use the Grid Search method to tune the hyperparameters of an estimator.\n",
    "\n",
    "**Learning Objectives:**\n",
    "* Describe data model refinement techniques\n",
    "* Explain overfitting, underfitting and model selection\n",
    "* Apply ridge regression to regularize and reduce the standard errors to avoid overfitting a regression model\n",
    "* Apply grid search techniques to Python data"
   ]
  },
  {
   "cell_type": "markdown",
   "id": "308843aa-459c-4d95-9a16-1cf6647677c7",
   "metadata": {},
   "source": [
    "### Week Summary:\n",
    "In this week, we have learned how to:\n",
    "\n",
    "* **Identify over-fitting and under-fitting in a predictive model**: Overfitting occurs when a function is too closely fit to the training data points and captures the noise of the data. Underfitting refers to a model that can't model the training data or capture the trend of the data.\n",
    "\n",
    "* **Apply Ridge Regression to linear regression models**: Ridge regression is a regression that is employed in a Multiple regression model when Multicollinearity occurs.\n",
    "\n",
    "* **Tune hyper-parameters of an estimator using Grid search**: Grid search is a time-efficient tuning technique that exhaustively computes the optimum values of hyperparameters performed on specific parameter values of estimators."
   ]
  },
  {
   "cell_type": "markdown",
   "id": "d0aa98f6-2f7c-4d2d-a24f-6253b61cb153",
   "metadata": {},
   "source": [
    "# **Course Seven | Data Visualization**\n",
    "---"
   ]
  },
  {
   "cell_type": "markdown",
   "id": "4cf0db4c-f882-4d06-815c-1c60e9391f3d",
   "metadata": {},
   "source": [
    "Placeholder"
   ]
  },
  {
   "cell_type": "markdown",
   "id": "388adc6a-c2d9-4e32-9473-cce6f45cfd82",
   "metadata": {
    "tags": []
   },
   "source": [
    "## **Week One | Introduction To Data Visualization Tools**\n",
    "---\n",
    "In this module, you will learn about data visualization and some of the best practices to keep in mind when creating plots and visuals. You will also learn about the history and the architecture of Matplotlib and learn about basic plotting with Matplotlib. In addition, you will learn about the dataset on immigration to Canada, which will be used extensively throughout the course. Finally, you will briefly learn how to read csv files into a pandas dataframe and process and manipulate the data in the dataframe, and how to generate line plots using Matplotlib.\n",
    "\n",
    "**Learning Objectives:**\n",
    "* Describe the importance of data visualization\n",
    "* Relate the history of Matplotlib and its architecture\n",
    "* Apply Matplotlib to create plots using Jupyter notebooks\n",
    "* Read csv files into a Pandas DataFrame; process and manipulate the data in the DataFrame; andgenerate line plots using Matplotlib"
   ]
  },
  {
   "cell_type": "markdown",
   "id": "c4b434ae-54c6-46c3-b8e3-377661f04be8",
   "metadata": {},
   "source": [
    "* **As usual, I will do the code in a seperate notebook**"
   ]
  },
  {
   "cell_type": "markdown",
   "id": "0097c252-9950-4b44-ad77-70629ff02160",
   "metadata": {},
   "source": [
    "**Videos:**\n",
    "The videos covered the fundamentals of data visualization starting with what makes a graph good, then the libraries used to visualize in python, and then the matplotlib architecture, and finally how to plot line plots from a dataframe data.\n",
    "\n",
    "**Quizes:**\n",
    "There were a one quiz with three conceptual questions."
   ]
  },
  {
   "cell_type": "markdown",
   "id": "67e832f9-871c-41d8-811b-dd47a5fab01e",
   "metadata": {},
   "source": [
    "## **Week Two | Basic And Specialized Visualization Tools**\n",
    "---\n",
    "In this module, you learn about area plots and how to create them with Matplotlib, histograms and how to create them with Matplotlib, bar charts, and how to create them with Matplotlib, pie charts, and how to create them with Matplotlib, box plots and how to create them with Matplotlib, and scatter plots and bubble plots and how to create them with Matplotlib.\n",
    "\n",
    "**Learning Objectives:**\n",
    "* Explain how to generate an area plot using Matplotlib\n",
    "* Describe why and how to create histograms using Matplotlib\n",
    "* Explain how to create bar charts\n",
    "* Create pie charts using Matplotlib\n",
    "* Create a box plot using Matplotlib"
   ]
  },
  {
   "cell_type": "markdown",
   "id": "b93b44c1-3793-467e-8c4a-29f069de6d22",
   "metadata": {},
   "source": [
    "__All the details is in the Canada immigration notebook.__"
   ]
  },
  {
   "cell_type": "code",
   "execution_count": null,
   "id": "e539ef8e-69f0-4520-af0e-e9f95901f34c",
   "metadata": {},
   "outputs": [],
   "source": []
  }
 ],
 "metadata": {
  "kernelspec": {
   "display_name": "Python 3 (ipykernel)",
   "language": "python",
   "name": "python3"
  },
  "language_info": {
   "codemirror_mode": {
    "name": "ipython",
    "version": 3
   },
   "file_extension": ".py",
   "mimetype": "text/x-python",
   "name": "python",
   "nbconvert_exporter": "python",
   "pygments_lexer": "ipython3",
   "version": "3.9.13"
  }
 },
 "nbformat": 4,
 "nbformat_minor": 5
}
