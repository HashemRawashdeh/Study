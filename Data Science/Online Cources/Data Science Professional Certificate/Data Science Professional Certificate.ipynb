{
 "cells": [
  {
   "cell_type": "markdown",
   "id": "50a9dab2-5cb1-41a5-9387-0bd0f6ab24ed",
   "metadata": {},
   "source": [
    "# **Course Six | Data Analysis**\n",
    "---"
   ]
  },
  {
   "cell_type": "markdown",
   "id": "72a6dbc0-8740-4aa0-887d-dacff0f4066a",
   "metadata": {},
   "source": [
    "Placeholder"
   ]
  },
  {
   "cell_type": "markdown",
   "id": "92d54b17-0eb1-4d30-a9b6-e89ee19879cf",
   "metadata": {},
   "source": [
    "## **Week One| Importing Datasets**\n",
    "---\n",
    "In this module, you will learn how to understand data and learn about how to use the libraries in Python to help you import data from multiple sources. You will then learn how to perform some basic tasks to start exploring and analyzing the imported data set.\n",
    "\n",
    "**Learning Objectives:**\n",
    "* Analyze Python data using a dataset\n",
    "* Identify three Python libraries and describe their uses\n",
    "* Read data using Python's Pandas package\n",
    "* Demonstrate how to import and export data in Python"
   ]
  },
  {
   "cell_type": "markdown",
   "id": "f47ba8c6-80dc-45cf-a778-a62eafd77614",
   "metadata": {},
   "source": [
    "* _**Since the weeks are too short in this course, I will right all the sections of a certain week at once when I finsish the week_**"
   ]
  },
  {
   "cell_type": "markdown",
   "id": "f52aac6c-8174-49d8-83c5-19423d3da862",
   "metadata": {},
   "source": [
    "**Videos:**\n",
    "The videos covered the very basic importing and exploring datasets, with functions like describe and head, and importing CSV files using the pandas library. THe videos also gave a brief introduction to the libraries that will be covered in this course. In conclusion, very basic already known stuff.\n",
    "\n",
    "**Quizes:**\n",
    "There were a one or two question quiz after each topic in the videos. Conceptual and good."
   ]
  },
  {
   "cell_type": "markdown",
   "id": "76a55851-fe74-4076-a093-f3faeef678b2",
   "metadata": {},
   "source": [
    "## **Week Two | Data Wrangling**\n",
    "---\n",
    "n this module, you will learn how to perform some fundamental data wrangling tasks that, together, form the pre-processing phase of data analysis. These tasks include handling missing values in data, formatting data to standardize it and make it consistent, normalizing data, grouping data values into bins, and converting categorical variables into numerical quantitative variables.\n",
    "\n",
    "**Learning Objectives:**\n",
    "* Describe how to handle missing values\n",
    "* Describe data formatting techniques\n",
    "* Describe data normalization\n",
    "* Demonstrate the use of binning\n",
    "* Demonstrate the use of categotical variables"
   ]
  },
  {
   "cell_type": "markdown",
   "id": "60ec7275-9384-437f-8bff-92de85f8ecd1",
   "metadata": {},
   "source": [
    "**Videos:**\n",
    "The videos covered data wrangling, first they covered how to deal with \n",
    "missing values, then data formatting, then data normalization, then binning and finally turning categorical variables into quantitative variables. Everything is summarized in the seperate automobile notebook.\n",
    "\n",
    "**Quizes:**\n",
    "There were a one or two question quiz after each topic in the videos. Conceptual and good. The final quiz were great too."
   ]
  },
  {
   "cell_type": "markdown",
   "id": "0d489547-7532-4632-aafa-8595c5af4cc3",
   "metadata": {},
   "source": [
    "## **Week Three | Exploratory Data Analysis**\n",
    "---\n",
    "In this module, you will learn what is meant by exploratory data analysis, and you will learn how to perform computations on the data to calculate basic descriptive statistical information, such as mean, median, mode, and quartile values, and use that information to better understand the distribution of the data. You will learn about putting your data into groups to help you visualize the data better, you will learn how to use the Pearson correlation method to compare two continuous numerical variables, and you will learn how to use the Chi-square test to find the association between two categorical variables and how to interpret them.\n",
    "\n",
    "**Learning Objectives:**\n",
    "* Implement descriptive statistics\n",
    "* Demonstrate the basics of grouping\n",
    "* Describe data correlation processes\n",
    "* Describe why and how to apply the Chi-Squared test"
   ]
  },
  {
   "cell_type": "markdown",
   "id": "a359c69c-ed6b-41c1-9f21-6660b57ae67b",
   "metadata": {},
   "source": [
    "_**I ended up deciding to remove the long codes from here, and only write the notes. The code will be done in a seperate notebook, since this dataset is used throughout the course.**_"
   ]
  },
  {
   "cell_type": "markdown",
   "id": "f1d36a97-c59a-41e6-9ba9-3534507ed344",
   "metadata": {},
   "source": [
    "### Week Summary:\n",
    "In this week, we have learned how to:\n",
    "\n",
    "* **Describe Exploratory Data Analysis**: By summarizing the main characteristics of the data and extracting valuable insights.\n",
    "\n",
    "* **Compute basic descriptive statistics**: Calculate the mean, median, and mode using python and use it as a basis in understanding the distribution of the data.\n",
    "\n",
    "* **Create data groups**: How and why you put continuous data in groups and how to visualize them.\n",
    "\n",
    "* **Define correlation as the linear association between two numerical variables**: Use Pearson correlation as a measure of the correlation between two continuous variables\n",
    "\n",
    "* **Define the association between two categorical variables**: Understand how to find the association of two variables using the Chi-square test for association and how to interpret them."
   ]
  },
  {
   "cell_type": "markdown",
   "id": "6e9fd91c-36f7-4901-9639-c675a039e3e5",
   "metadata": {},
   "source": [
    "* Note that all the highlights and the code is in a seperate automobile notebook.\n",
    "* I will also be writing the week summaries insted of the cideos/quizes format for this specialization."
   ]
  },
  {
   "cell_type": "markdown",
   "id": "9700596e-2712-4763-8988-a585bdb7450e",
   "metadata": {},
   "source": [
    "## **Week Four | Model Development**\n",
    "---\n",
    "In this module, you will learn how to define the explanatory variable and the response variable and understand the differences between the simple linear regression and multiple linear regression models. You will learn how to evaluate a model using visualization and learn about polynomial regression and pipelines. You will also learn how to interpret and use the R-squared and the mean square error measures to perform in-sample evaluations to numerically evaluate our model. And lastly, you will learn about prediction and decision making when determining if our model is correct.\n",
    "\n",
    "**Learning Objectives:**\n",
    "* Describe how to process linear regression in Python\n",
    "* Apply model evaluation using visualization in Python\n",
    "* Apply polynomial regression techniques to Python\n",
    "* Evaluate a data model by using visualization\n",
    "* Describe the use of R-squared and MSE for in-sample evaluation\n",
    "* Apply prediction and decision making to Python model creation"
   ]
  },
  {
   "cell_type": "code",
   "execution_count": null,
   "id": "530409c5-3fd4-438c-8f0f-bc0dd2b88842",
   "metadata": {},
   "outputs": [],
   "source": []
  }
 ],
 "metadata": {
  "kernelspec": {
   "display_name": "Python 3 (ipykernel)",
   "language": "python",
   "name": "python3"
  },
  "language_info": {
   "codemirror_mode": {
    "name": "ipython",
    "version": 3
   },
   "file_extension": ".py",
   "mimetype": "text/x-python",
   "name": "python",
   "nbconvert_exporter": "python",
   "pygments_lexer": "ipython3",
   "version": "3.9.13"
  }
 },
 "nbformat": 4,
 "nbformat_minor": 5
}
