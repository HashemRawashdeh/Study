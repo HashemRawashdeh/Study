{
 "cells": [
  {
   "cell_type": "code",
   "execution_count": 19,
   "id": "cfb58984-37d4-43b2-b881-96dc7095ac6f",
   "metadata": {},
   "outputs": [],
   "source": [
    "import numpy as np"
   ]
  },
  {
   "cell_type": "code",
   "execution_count": 25,
   "id": "9c098632-755f-4619-bf3c-5c5074e528c8",
   "metadata": {},
   "outputs": [
    {
     "data": {
      "text/plain": [
       "array([3.74165739, 2.23606798, 8.36660027])"
      ]
     },
     "execution_count": 25,
     "metadata": {},
     "output_type": "execute_result"
    }
   ],
   "source": [
    "v = np.array([-4,-3,8])\n",
    "b11 = np.array([1,2,3])\n",
    "b22 = np.array([-2,1,0])\n",
    "b33 = np.array([-3,-6,5])\n",
    "\n",
    "b1 = b11 / np.linalg.norm(b11)\n",
    "b2 = b22 / np.linalg.norm(b22)\n",
    "b3 = b33 / np.linalg.norm(b33)\n",
    "\n",
    "proj_b1 = np.linalg.norm((np.dot(v,b1)* b1) / (np.linalg.norm(b1)**2))\n",
    "proj_b2 = np.linalg.norm((np.dot(v,b2)* b2) / (np.linalg.norm(b2)**2))\n",
    "proj_b3 = np.linalg.norm((np.dot(v,b3)* b3) / (np.linalg.norm(b3)**2))\n",
    "\n",
    "result = np.array([proj_b1, proj_b2, proj_b3])\n",
    "result"
   ]
  },
  {
   "cell_type": "code",
   "execution_count": 21,
   "id": "91e8ad14-e14b-45a2-b4cf-35ba2fc643d2",
   "metadata": {},
   "outputs": [
    {
     "data": {
      "text/plain": [
       "array([14, 28, 42])"
      ]
     },
     "execution_count": 21,
     "metadata": {},
     "output_type": "execute_result"
    }
   ],
   "source": [
    "(b1 / np.linalg.norm(b1))"
   ]
  },
  {
   "cell_type": "code",
   "execution_count": 24,
   "id": "126faded-e3e8-448a-b2aa-b8712882467c",
   "metadata": {},
   "outputs": [
    {
     "data": {
      "text/plain": [
       "array([0.26726124, 0.53452248, 0.80178373])"
      ]
     },
     "execution_count": 24,
     "metadata": {},
     "output_type": "execute_result"
    }
   ],
   "source": [
    "b1"
   ]
  },
  {
   "cell_type": "code",
   "execution_count": null,
   "id": "8a5139fa-8716-4a52-89ce-dd6b1640b924",
   "metadata": {},
   "outputs": [],
   "source": []
  }
 ],
 "metadata": {
  "kernelspec": {
   "display_name": "Python 3 (ipykernel)",
   "language": "python",
   "name": "python3"
  },
  "language_info": {
   "codemirror_mode": {
    "name": "ipython",
    "version": 3
   },
   "file_extension": ".py",
   "mimetype": "text/x-python",
   "name": "python",
   "nbconvert_exporter": "python",
   "pygments_lexer": "ipython3",
   "version": "3.9.13"
  },
  "widgets": {
   "application/vnd.jupyter.widget-state+json": {
    "state": {},
    "version_major": 2,
    "version_minor": 0
   }
  }
 },
 "nbformat": 4,
 "nbformat_minor": 5
}
