{
 "cells": [
  {
   "cell_type": "code",
   "execution_count": 66,
   "id": "2f05841f-2ad4-49c1-b8d5-52e9818eb834",
   "metadata": {},
   "outputs": [],
   "source": [
    "import numpy as np\n",
    "import sympy"
   ]
  },
  {
   "cell_type": "code",
   "execution_count": 73,
   "id": "ee7c61fc-d985-4bee-adb1-c92a08050158",
   "metadata": {},
   "outputs": [],
   "source": [
    "t = sympy.Matrix([[125,0],[0,64]])\n",
    "c = sympy.Matrix([[2,-1],[-1,1]])"
   ]
  },
  {
   "cell_type": "code",
   "execution_count": 74,
   "id": "e6a7b8a0-4bcf-4008-85ce-abe8e5d924a1",
   "metadata": {},
   "outputs": [
    {
     "data": {
      "text/latex": [
       "$\\displaystyle \\left[\\begin{matrix}2 & -1\\\\-1 & 1\\end{matrix}\\right]$"
      ],
      "text/plain": [
       "Matrix([\n",
       "[ 2, -1],\n",
       "[-1,  1]])"
      ]
     },
     "execution_count": 74,
     "metadata": {},
     "output_type": "execute_result"
    }
   ],
   "source": [
    "c"
   ]
  },
  {
   "cell_type": "code",
   "execution_count": 75,
   "id": "9cb4b8d6-15aa-4376-bab3-28fd7abfcec0",
   "metadata": {},
   "outputs": [
    {
     "data": {
      "text/latex": [
       "$\\displaystyle \\left[\\begin{matrix}186 & -61\\\\122 & 3\\end{matrix}\\right]$"
      ],
      "text/plain": [
       "Matrix([\n",
       "[186, -61],\n",
       "[122,   3]])"
      ]
     },
     "execution_count": 75,
     "metadata": {},
     "output_type": "execute_result"
    }
   ],
   "source": [
    "c.inv() @ t @ c"
   ]
  },
  {
   "cell_type": "code",
   "execution_count": 46,
   "id": "9d569eab-148a-476f-b7b9-df4d4c8e3e34",
   "metadata": {},
   "outputs": [
    {
     "data": {
      "text/latex": [
       "$\\displaystyle \\left[\\begin{matrix}6 & -1\\\\2 & 3\\end{matrix}\\right]$"
      ],
      "text/plain": [
       "Matrix([\n",
       "[6, -1],\n",
       "[2,  3]])"
      ]
     },
     "execution_count": 46,
     "metadata": {},
     "output_type": "execute_result"
    }
   ],
   "source": [
    "a"
   ]
  },
  {
   "cell_type": "code",
   "execution_count": 62,
   "id": "d0102c4a-aef3-4bd1-a07b-9623fd8314dc",
   "metadata": {},
   "outputs": [
    {
     "data": {
      "text/plain": [
       "[(4,\n",
       "  1,\n",
       "  [Matrix([\n",
       "   [1/2],\n",
       "   [  1]])]),\n",
       " (5,\n",
       "  1,\n",
       "  [Matrix([\n",
       "   [1],\n",
       "   [1]])])]"
      ]
     },
     "execution_count": 62,
     "metadata": {},
     "output_type": "execute_result"
    }
   ],
   "source": [
    "a.eigenvects()"
   ]
  },
  {
   "cell_type": "code",
   "execution_count": 28,
   "id": "e8a45ff0-f5e3-4691-9c3b-b74179dda77c",
   "metadata": {},
   "outputs": [
    {
     "data": {
      "text/plain": [
       "[]"
      ]
     },
     "execution_count": 28,
     "metadata": {},
     "output_type": "execute_result"
    }
   ],
   "source": [
    "a.nullspace()"
   ]
  },
  {
   "cell_type": "code",
   "execution_count": 64,
   "id": "ae04ee83-0e65-4111-9109-bd960bde7173",
   "metadata": {},
   "outputs": [
    {
     "data": {
      "text/latex": [
       "$\\displaystyle \\left[\\begin{matrix}-7 & 1\\\\3 & 0\\end{matrix}\\right]$"
      ],
      "text/plain": [
       "Matrix([\n",
       "[-7, 1],\n",
       "[ 3, 0]])"
      ]
     },
     "execution_count": 64,
     "metadata": {},
     "output_type": "execute_result"
    }
   ],
   "source": [
    "t.diagonalize()[0]"
   ]
  },
  {
   "cell_type": "code",
   "execution_count": null,
   "id": "6a76e35a-7478-411c-8409-a5f1769bb91b",
   "metadata": {},
   "outputs": [],
   "source": []
  }
 ],
 "metadata": {
  "kernelspec": {
   "display_name": "Python 3 (ipykernel)",
   "language": "python",
   "name": "python3"
  },
  "language_info": {
   "codemirror_mode": {
    "name": "ipython",
    "version": 3
   },
   "file_extension": ".py",
   "mimetype": "text/x-python",
   "name": "python",
   "nbconvert_exporter": "python",
   "pygments_lexer": "ipython3",
   "version": "3.9.13"
  },
  "widgets": {
   "application/vnd.jupyter.widget-state+json": {
    "state": {},
    "version_major": 2,
    "version_minor": 0
   }
  }
 },
 "nbformat": 4,
 "nbformat_minor": 5
}
