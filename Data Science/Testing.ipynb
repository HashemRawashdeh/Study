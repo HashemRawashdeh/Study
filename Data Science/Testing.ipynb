{
 "cells": [
  {
   "cell_type": "code",
   "execution_count": null,
   "id": "2f05841f-2ad4-49c1-b8d5-52e9818eb834",
   "metadata": {},
   "outputs": [],
   "source": [
    "import numpy as np\n",
    "import sympy"
   ]
  },
  {
   "cell_type": "code",
   "execution_count": null,
   "id": "ee7c61fc-d985-4bee-adb1-c92a08050158",
   "metadata": {},
   "outputs": [],
   "source": [
    "t = sympy.Matrix([[125,0],[0,64]])\n",
    "c = sympy.Matrix([[2,-1],[-1,1]])"
   ]
  },
  {
   "cell_type": "code",
   "execution_count": null,
   "id": "e6a7b8a0-4bcf-4008-85ce-abe8e5d924a1",
   "metadata": {},
   "outputs": [
    {
     "data": {
      "text/latex": [
       "$\\displaystyle \\left[\\begin{matrix}2 & -1\\\\-1 & 1\\end{matrix}\\right]$"
      ],
      "text/plain": [
       "Matrix([\n",
       "[ 2, -1],\n",
       "[-1,  1]])"
      ]
     },
     "execution_count": 3,
     "metadata": {},
     "output_type": "execute_result"
    }
   ],
   "source": [
    "c"
   ]
  },
  {
   "cell_type": "code",
   "execution_count": null,
   "id": "9cb4b8d6-15aa-4376-bab3-28fd7abfcec0",
   "metadata": {},
   "outputs": [
    {
     "data": {
      "text/latex": [
       "$\\displaystyle \\left[\\begin{matrix}186 & -61\\\\122 & 3\\end{matrix}\\right]$"
      ],
      "text/plain": [
       "Matrix([\n",
       "[186, -61],\n",
       "[122,   3]])"
      ]
     },
     "execution_count": 4,
     "metadata": {},
     "output_type": "execute_result"
    }
   ],
   "source": [
    "c.inv() @ t @ c"
   ]
  },
  {
   "cell_type": "code",
   "execution_count": null,
   "id": "ae04ee83-0e65-4111-9109-bd960bde7173",
   "metadata": {},
   "outputs": [
    {
     "data": {
      "text/latex": [
       "$\\displaystyle \\left[\\begin{matrix}0 & 1\\\\1 & 0\\end{matrix}\\right]$"
      ],
      "text/plain": [
       "Matrix([\n",
       "[0, 1],\n",
       "[1, 0]])"
      ]
     },
     "execution_count": 5,
     "metadata": {},
     "output_type": "execute_result"
    }
   ],
   "source": [
    "t.diagonalize()[0]"
   ]
  },
  {
   "cell_type": "code",
   "execution_count": null,
   "id": "6a76e35a-7478-411c-8409-a5f1769bb91b",
   "metadata": {},
   "outputs": [
    {
     "data": {
      "text/latex": [
       "$\\displaystyle \\left[\\begin{matrix}1\\\\0\\\\0\\end{matrix}\\right]$"
      ],
      "text/plain": [
       "Matrix([\n",
       "[1],\n",
       "[0],\n",
       "[0]])"
      ]
     },
     "execution_count": 6,
     "metadata": {},
     "output_type": "execute_result"
    }
   ],
   "source": [
    "from sympy import *\n",
    "\n",
    "x, y, z, t = symbols('x y z t')\n",
    "\n",
    "f = x*exp(y)*cos(z) + 5*x**2*sin(y)*exp(z)\n",
    "\n",
    "j = Matrix([diff(f,x), diff(f,y), diff(f,z)])\n",
    "\n",
    "j.subs([(x,0),(y,0),(z,0)])"
   ]
  },
  {
   "cell_type": "code",
   "execution_count": null,
   "id": "2bf2e1ae-1ebf-46f5-b0db-5f6d98efb072",
   "metadata": {},
   "outputs": [
    {
     "data": {
      "text/latex": [
       "$\\displaystyle \\left[\\begin{matrix}1 & 0 & 0\\end{matrix}\\right]$"
      ],
      "text/plain": [
       "Matrix([[1, 0, 0]])"
      ]
     },
     "execution_count": 7,
     "metadata": {},
     "output_type": "execute_result"
    }
   ],
   "source": [
    "# Method Two:\n",
    "v = Matrix([f])\n",
    "v.jacobian(Matrix([x,y,z])).subs([(x,0),(y,0),(z,0)])"
   ]
  },
  {
   "cell_type": "code",
   "execution_count": null,
   "id": "827f5ac4-acff-43f7-acc1-ee74270d6118",
   "metadata": {},
   "outputs": [
    {
     "data": {
      "text/latex": [
       "$\\displaystyle \\left[\\begin{matrix}2 x & - 2 y\\\\2 y & 2 x\\end{matrix}\\right]$"
      ],
      "text/plain": [
       "Matrix([\n",
       "[2*x, -2*y],\n",
       "[2*y,  2*x]])"
      ]
     },
     "execution_count": 8,
     "metadata": {},
     "output_type": "execute_result"
    }
   ],
   "source": [
    "v = Matrix([x**2-y**2, 2*x*y])\n",
    "s = Matrix([x,y])\n",
    "v.jacobian(s)"
   ]
  },
  {
   "cell_type": "code",
   "execution_count": null,
   "id": "894d2d82-fc3a-42a0-82c5-03a4a868dfe8",
   "metadata": {},
   "outputs": [
    {
     "data": {
      "text/latex": [
       "$\\displaystyle \\left[\\begin{matrix}1 & 0 & 0\\end{matrix}\\right]$"
      ],
      "text/plain": [
       "Matrix([[1, 0, 0]])"
      ]
     },
     "execution_count": 9,
     "metadata": {},
     "output_type": "execute_result"
    }
   ],
   "source": [
    "v = Matrix([f])\n",
    "v.jacobian(Matrix([x,y,z])).subs([(x,0),(y,0),(z,0)])"
   ]
  },
  {
   "cell_type": "code",
   "execution_count": null,
   "id": "37a0f219-1d2d-4aba-9244-1517f91d8de8",
   "metadata": {},
   "outputs": [
    {
     "data": {
      "text/latex": [
       "$\\displaystyle \\left[\\begin{matrix}0 & 1\\\\e^{\\pi} & e^{\\pi}\\end{matrix}\\right]$"
      ],
      "text/plain": [
       "Matrix([\n",
       "[      0,       1],\n",
       "[exp(pi), exp(pi)]])"
      ]
     },
     "execution_count": 10,
     "metadata": {},
     "output_type": "execute_result"
    }
   ],
   "source": [
    "v = Matrix([x**2*y-cos(x)*sin(y), exp(x+y)])\n",
    "v.jacobian(Matrix([x,y])).subs([(x,0), (y,pi)])"
   ]
  },
  {
   "cell_type": "code",
   "execution_count": null,
   "id": "b40cb632-3dc1-4da5-9f1f-45077795bcb9",
   "metadata": {},
   "outputs": [
    {
     "data": {
      "text/latex": [
       "$\\displaystyle \\left[\\begin{matrix}\\sin{\\left(\\phi \\right)} \\cos{\\left(\\theta \\right)} & - r \\sin{\\left(\\phi \\right)} \\sin{\\left(\\theta \\right)} & r \\cos{\\left(\\phi \\right)} \\cos{\\left(\\theta \\right)}\\\\\\sin{\\left(\\phi \\right)} \\sin{\\left(\\theta \\right)} & r \\sin{\\left(\\phi \\right)} \\cos{\\left(\\theta \\right)} & r \\sin{\\left(\\theta \\right)} \\cos{\\left(\\phi \\right)}\\\\\\cos{\\left(\\phi \\right)} & 0 & - r \\sin{\\left(\\phi \\right)}\\end{matrix}\\right]$"
      ],
      "text/plain": [
       "Matrix([\n",
       "[sin(phi)*cos(theta), -r*sin(phi)*sin(theta), r*cos(phi)*cos(theta)],\n",
       "[sin(phi)*sin(theta),  r*sin(phi)*cos(theta), r*sin(theta)*cos(phi)],\n",
       "[           cos(phi),                      0,           -r*sin(phi)]])"
      ]
     },
     "execution_count": 11,
     "metadata": {},
     "output_type": "execute_result"
    }
   ],
   "source": [
    "r,theta,phi = symbols('r theta phi')\n",
    "\n",
    "v = Matrix([r*cos(theta)*sin(phi), r*sin(theta)*sin(phi), r*cos(phi)])\n",
    "v.jacobian(Matrix([r,theta,phi]))"
   ]
  },
  {
   "cell_type": "code",
   "execution_count": null,
   "id": "3a56052b-6cb2-43b9-9599-d08876d1493b",
   "metadata": {},
   "outputs": [
    {
     "data": {
      "text/plain": [
       "<matplotlib.quiver.Quiver at 0x7f708446e760>"
      ]
     },
     "execution_count": 12,
     "metadata": {},
     "output_type": "execute_result"
    },
    {
     "data": {
      "image/png": "[encoded data removed]",
      "text/plain": [
       "<Figure size 640x480 with 1 Axes>"
      ]
     },
     "metadata": {},
     "output_type": "display_data"
    }
   ],
   "source": [
    "import numpy as np\n",
    "from matplotlib import pyplot as plt\n",
    "\n",
    "x,y = np.meshgrid(np.linspace(-10,10,10), np.linspace(-10,10,10))\n",
    "\n",
    "u = -y/np.sqrt(x**2 + y**2)\n",
    "v = x/np.sqrt(x**2 + y**2)\n",
    "\n",
    "plt.quiver(x,y,u,v)"
   ]
  },
  {
   "cell_type": "code",
   "execution_count": null,
   "id": "fcb7cdd6-c147-43e8-93ee-950433453238",
   "metadata": {},
   "outputs": [
    {
     "data": {
      "text/latex": [
       "$\\displaystyle x^{2} e^{x y}$"
      ],
      "text/plain": [
       "x**2*exp(x*y)"
      ]
     },
     "execution_count": 13,
     "metadata": {},
     "output_type": "execute_result"
    }
   ],
   "source": [
    "x,y = symbols('x y')\n",
    "\n",
    "f = exp(x*y)\n",
    "\n",
    "diff(f,y,2)"
   ]
  },
  {
   "cell_type": "code",
   "execution_count": null,
   "id": "449fac3f-159f-4377-94ed-3611201875da",
   "metadata": {},
   "outputs": [
    {
     "data": {
      "text/latex": [
       "$\\displaystyle \\left[\\begin{matrix}0 & e^{z} & y e^{z}\\\\1 & -1 & 0\\\\0 & 3 & 2 z\\end{matrix}\\right]$"
      ],
      "text/plain": [
       "Matrix([\n",
       "[0, exp(z), y*exp(z)],\n",
       "[1,     -1,        0],\n",
       "[0,      3,      2*z]])"
      ]
     },
     "execution_count": 14,
     "metadata": {},
     "output_type": "execute_result"
    }
   ],
   "source": [
    "x,y,z = symbols('x y z')\n",
    "v = Matrix([y*exp(z), x-y, 3*y+z**2])\n",
    "v.jacobian(Matrix([x,y,z]))"
   ]
  },
  {
   "cell_type": "code",
   "execution_count": null,
   "id": "22b51949-64f6-42d0-8614-b3c5069d94f8",
   "metadata": {},
   "outputs": [
    {
     "data": {
      "text/latex": [
       "$\\displaystyle \\left[\\begin{matrix}\\frac{\\sqrt{3}}{2} & -0.5\\\\0.5 & \\frac{\\sqrt{3}}{2}\\end{matrix}\\right]$"
      ],
      "text/plain": [
       "Matrix([\n",
       "[sqrt(3)/2,      -0.5],\n",
       "[      0.5, sqrt(3)/2]])"
      ]
     },
     "execution_count": 15,
     "metadata": {},
     "output_type": "execute_result"
    }
   ],
   "source": [
    "j = Matrix([[sqrt(3)/2,-1/2],[1/2, sqrt(3)/2]])\n",
    "j"
   ]
  },
  {
   "cell_type": "code",
   "execution_count": null,
   "id": "d7100d52-3df4-4779-928e-20d336f62cd5",
   "metadata": {},
   "outputs": [
    {
     "data": {
      "text/latex": [
       "$\\displaystyle 1.0$"
      ],
      "text/plain": [
       "1.00000000000000"
      ]
     },
     "execution_count": 16,
     "metadata": {},
     "output_type": "execute_result"
    }
   ],
   "source": [
    "j.det()"
   ]
  },
  {
   "cell_type": "code",
   "execution_count": null,
   "id": "e67fd31a-4a6d-4a79-9ac5-aa04776fea37",
   "metadata": {},
   "outputs": [
    {
     "data": {
      "text/latex": [
       "$\\displaystyle \\left[\\begin{matrix}0 & 1 & 0\\\\1 & 0 & 0\\\\0 & 0 & 0\\end{matrix}\\right]$"
      ],
      "text/plain": [
       "Matrix([\n",
       "[0, 1, 0],\n",
       "[1, 0, 0],\n",
       "[0, 0, 0]])"
      ]
     },
     "execution_count": 17,
     "metadata": {},
     "output_type": "execute_result"
    }
   ],
   "source": [
    "f = x*y*cos(z)-sin(x)*exp(y)*z**3\n",
    "h = hessian(f,(x,y,z))\n",
    "h.subs([(x,0),(y,0),(z,0)])"
   ]
  },
  {
   "cell_type": "code",
   "execution_count": null,
   "id": "64033944-da83-4d3f-bf21-eaa30079de0d",
   "metadata": {},
   "outputs": [
    {
     "data": {
      "text/latex": [
       "$\\displaystyle \\left[\\begin{matrix}x\\\\y\\end{matrix}\\right]^{T}$"
      ],
      "text/plain": [
       "Matrix([\n",
       "[x],\n",
       "[y]]).T"
      ]
     },
     "execution_count": 18,
     "metadata": {},
     "output_type": "execute_result"
    }
   ],
   "source": [
    "m = Matrix([[x],[y]])\n",
    "m = Transpose(m)\n",
    "m"
   ]
  },
  {
   "cell_type": "code",
   "execution_count": null,
   "id": "82b363c9-258c-4c75-98f0-16daed18e2f3",
   "metadata": {},
   "outputs": [
    {
     "ename": "ShapeError",
     "evalue": "Matrix size mismatch.",
     "output_type": "error",
     "traceback": [
      "\u001b[0;31m---------------------------------------------------------------------------\u001b[0m",
      "\u001b[0;31mShapeError\u001b[0m                                Traceback (most recent call last)",
      "\u001b[0;32m/tmp/ipykernel_6003/3687433114.py\u001b[0m in \u001b[0;36m<module>\u001b[0;34m\u001b[0m\n\u001b[0;32m----> 1\u001b[0;31m \u001b[0;36m0.5\u001b[0m\u001b[0;34m*\u001b[0m \u001b[0mm\u001b[0m \u001b[0;34m@\u001b[0m \u001b[0mh\u001b[0m\u001b[0;34m\u001b[0m\u001b[0;34m\u001b[0m\u001b[0m\n\u001b[0m",
      "\u001b[0;32m~/anaconda3/lib/python3.9/site-packages/sympy/core/decorators.py\u001b[0m in \u001b[0;36mbinary_op_wrapper\u001b[0;34m(self, other)\u001b[0m\n\u001b[1;32m    103\u001b[0m                     \u001b[0mf\u001b[0m \u001b[0;34m=\u001b[0m \u001b[0mgetattr\u001b[0m\u001b[0;34m(\u001b[0m\u001b[0mother\u001b[0m\u001b[0;34m,\u001b[0m \u001b[0mmethod_name\u001b[0m\u001b[0;34m,\u001b[0m \u001b[0;32mNone\u001b[0m\u001b[0;34m)\u001b[0m\u001b[0;34m\u001b[0m\u001b[0;34m\u001b[0m\u001b[0m\n\u001b[1;32m    104\u001b[0m                     \u001b[0;32mif\u001b[0m \u001b[0mf\u001b[0m \u001b[0;32mis\u001b[0m \u001b[0;32mnot\u001b[0m \u001b[0;32mNone\u001b[0m\u001b[0;34m:\u001b[0m\u001b[0;34m\u001b[0m\u001b[0;34m\u001b[0m\u001b[0m\n\u001b[0;32m--> 105\u001b[0;31m                         \u001b[0;32mreturn\u001b[0m \u001b[0mf\u001b[0m\u001b[0;34m(\u001b[0m\u001b[0mself\u001b[0m\u001b[0;34m)\u001b[0m\u001b[0;34m\u001b[0m\u001b[0;34m\u001b[0m\u001b[0m\n\u001b[0m\u001b[1;32m    106\u001b[0m             \u001b[0;32mreturn\u001b[0m \u001b[0mfunc\u001b[0m\u001b[0;34m(\u001b[0m\u001b[0mself\u001b[0m\u001b[0;34m,\u001b[0m \u001b[0mother\u001b[0m\u001b[0;34m)\u001b[0m\u001b[0;34m\u001b[0m\u001b[0;34m\u001b[0m\u001b[0m\n\u001b[1;32m    107\u001b[0m         \u001b[0;32mreturn\u001b[0m \u001b[0mbinary_op_wrapper\u001b[0m\u001b[0;34m\u001b[0m\u001b[0;34m\u001b[0m\u001b[0m\n",
      "\u001b[0;32m~/anaconda3/lib/python3.9/site-packages/sympy/core/decorators.py\u001b[0m in \u001b[0;36mbinary_op_wrapper\u001b[0;34m(self, other)\u001b[0m\n\u001b[1;32m    104\u001b[0m                     \u001b[0;32mif\u001b[0m \u001b[0mf\u001b[0m \u001b[0;32mis\u001b[0m \u001b[0;32mnot\u001b[0m \u001b[0;32mNone\u001b[0m\u001b[0;34m:\u001b[0m\u001b[0;34m\u001b[0m\u001b[0;34m\u001b[0m\u001b[0m\n\u001b[1;32m    105\u001b[0m                         \u001b[0;32mreturn\u001b[0m \u001b[0mf\u001b[0m\u001b[0;34m(\u001b[0m\u001b[0mself\u001b[0m\u001b[0;34m)\u001b[0m\u001b[0;34m\u001b[0m\u001b[0;34m\u001b[0m\u001b[0m\n\u001b[0;32m--> 106\u001b[0;31m             \u001b[0;32mreturn\u001b[0m \u001b[0mfunc\u001b[0m\u001b[0;34m(\u001b[0m\u001b[0mself\u001b[0m\u001b[0;34m,\u001b[0m \u001b[0mother\u001b[0m\u001b[0;34m)\u001b[0m\u001b[0;34m\u001b[0m\u001b[0;34m\u001b[0m\u001b[0m\n\u001b[0m\u001b[1;32m    107\u001b[0m         \u001b[0;32mreturn\u001b[0m \u001b[0mbinary_op_wrapper\u001b[0m\u001b[0;34m\u001b[0m\u001b[0;34m\u001b[0m\u001b[0m\n\u001b[1;32m    108\u001b[0m     \u001b[0;32mreturn\u001b[0m \u001b[0mpriority_decorator\u001b[0m\u001b[0;34m\u001b[0m\u001b[0;34m\u001b[0m\u001b[0m\n",
      "\u001b[0;32m~/anaconda3/lib/python3.9/site-packages/sympy/matrices/common.py\u001b[0m in \u001b[0;36m__rmatmul__\u001b[0;34m(self, other)\u001b[0m\n\u001b[1;32m   2955\u001b[0m             \u001b[0;32mreturn\u001b[0m \u001b[0mNotImplemented\u001b[0m\u001b[0;34m\u001b[0m\u001b[0;34m\u001b[0m\u001b[0m\n\u001b[1;32m   2956\u001b[0m \u001b[0;34m\u001b[0m\u001b[0m\n\u001b[0;32m-> 2957\u001b[0;31m         \u001b[0;32mreturn\u001b[0m \u001b[0mself\u001b[0m\u001b[0;34m.\u001b[0m\u001b[0m__rmul__\u001b[0m\u001b[0;34m(\u001b[0m\u001b[0mother\u001b[0m\u001b[0;34m)\u001b[0m\u001b[0;34m\u001b[0m\u001b[0;34m\u001b[0m\u001b[0m\n\u001b[0m\u001b[1;32m   2958\u001b[0m \u001b[0;34m\u001b[0m\u001b[0m\n\u001b[1;32m   2959\u001b[0m     \u001b[0;34m@\u001b[0m\u001b[0mcall_highest_priority\u001b[0m\u001b[0;34m(\u001b[0m\u001b[0;34m'__mul__'\u001b[0m\u001b[0;34m)\u001b[0m\u001b[0;34m\u001b[0m\u001b[0;34m\u001b[0m\u001b[0m\n",
      "\u001b[0;32m~/anaconda3/lib/python3.9/site-packages/sympy/core/decorators.py\u001b[0m in \u001b[0;36mbinary_op_wrapper\u001b[0;34m(self, other)\u001b[0m\n\u001b[1;32m    104\u001b[0m                     \u001b[0;32mif\u001b[0m \u001b[0mf\u001b[0m \u001b[0;32mis\u001b[0m \u001b[0;32mnot\u001b[0m \u001b[0;32mNone\u001b[0m\u001b[0;34m:\u001b[0m\u001b[0;34m\u001b[0m\u001b[0;34m\u001b[0m\u001b[0m\n\u001b[1;32m    105\u001b[0m                         \u001b[0;32mreturn\u001b[0m \u001b[0mf\u001b[0m\u001b[0;34m(\u001b[0m\u001b[0mself\u001b[0m\u001b[0;34m)\u001b[0m\u001b[0;34m\u001b[0m\u001b[0;34m\u001b[0m\u001b[0m\n\u001b[0;32m--> 106\u001b[0;31m             \u001b[0;32mreturn\u001b[0m \u001b[0mfunc\u001b[0m\u001b[0;34m(\u001b[0m\u001b[0mself\u001b[0m\u001b[0;34m,\u001b[0m \u001b[0mother\u001b[0m\u001b[0;34m)\u001b[0m\u001b[0;34m\u001b[0m\u001b[0;34m\u001b[0m\u001b[0m\n\u001b[0m\u001b[1;32m    107\u001b[0m         \u001b[0;32mreturn\u001b[0m \u001b[0mbinary_op_wrapper\u001b[0m\u001b[0;34m\u001b[0m\u001b[0;34m\u001b[0m\u001b[0m\n\u001b[1;32m    108\u001b[0m     \u001b[0;32mreturn\u001b[0m \u001b[0mpriority_decorator\u001b[0m\u001b[0;34m\u001b[0m\u001b[0;34m\u001b[0m\u001b[0m\n",
      "\u001b[0;32m~/anaconda3/lib/python3.9/site-packages/sympy/matrices/common.py\u001b[0m in \u001b[0;36m__rmul__\u001b[0;34m(self, other)\u001b[0m\n\u001b[1;32m   2959\u001b[0m     \u001b[0;34m@\u001b[0m\u001b[0mcall_highest_priority\u001b[0m\u001b[0;34m(\u001b[0m\u001b[0;34m'__mul__'\u001b[0m\u001b[0;34m)\u001b[0m\u001b[0;34m\u001b[0m\u001b[0;34m\u001b[0m\u001b[0m\n\u001b[1;32m   2960\u001b[0m     \u001b[0;32mdef\u001b[0m \u001b[0m__rmul__\u001b[0m\u001b[0;34m(\u001b[0m\u001b[0mself\u001b[0m\u001b[0;34m,\u001b[0m \u001b[0mother\u001b[0m\u001b[0;34m)\u001b[0m\u001b[0;34m:\u001b[0m\u001b[0;34m\u001b[0m\u001b[0;34m\u001b[0m\u001b[0m\n\u001b[0;32m-> 2961\u001b[0;31m         \u001b[0;32mreturn\u001b[0m \u001b[0mself\u001b[0m\u001b[0;34m.\u001b[0m\u001b[0mrmultiply\u001b[0m\u001b[0;34m(\u001b[0m\u001b[0mother\u001b[0m\u001b[0;34m)\u001b[0m\u001b[0;34m\u001b[0m\u001b[0;34m\u001b[0m\u001b[0m\n\u001b[0m\u001b[1;32m   2962\u001b[0m \u001b[0;34m\u001b[0m\u001b[0m\n\u001b[1;32m   2963\u001b[0m     \u001b[0;32mdef\u001b[0m \u001b[0mrmultiply\u001b[0m\u001b[0;34m(\u001b[0m\u001b[0mself\u001b[0m\u001b[0;34m,\u001b[0m \u001b[0mother\u001b[0m\u001b[0;34m,\u001b[0m \u001b[0mdotprodsimp\u001b[0m\u001b[0;34m=\u001b[0m\u001b[0;32mNone\u001b[0m\u001b[0;34m)\u001b[0m\u001b[0;34m:\u001b[0m\u001b[0;34m\u001b[0m\u001b[0;34m\u001b[0m\u001b[0m\n",
      "\u001b[0;32m~/anaconda3/lib/python3.9/site-packages/sympy/matrices/common.py\u001b[0m in \u001b[0;36mrmultiply\u001b[0;34m(self, other, dotprodsimp)\u001b[0m\n\u001b[1;32m   2980\u001b[0m              getattr(other, 'is_MatrixLike', True))):\n\u001b[1;32m   2981\u001b[0m             \u001b[0;32mif\u001b[0m \u001b[0mself\u001b[0m\u001b[0;34m.\u001b[0m\u001b[0mshape\u001b[0m\u001b[0;34m[\u001b[0m\u001b[0;36m0\u001b[0m\u001b[0;34m]\u001b[0m \u001b[0;34m!=\u001b[0m \u001b[0mother\u001b[0m\u001b[0;34m.\u001b[0m\u001b[0mshape\u001b[0m\u001b[0;34m[\u001b[0m\u001b[0;36m1\u001b[0m\u001b[0;34m]\u001b[0m\u001b[0;34m:\u001b[0m\u001b[0;34m\u001b[0m\u001b[0;34m\u001b[0m\u001b[0m\n\u001b[0;32m-> 2982\u001b[0;31m                 \u001b[0;32mraise\u001b[0m \u001b[0mShapeError\u001b[0m\u001b[0;34m(\u001b[0m\u001b[0;34m\"Matrix size mismatch.\"\u001b[0m\u001b[0;34m)\u001b[0m\u001b[0;34m\u001b[0m\u001b[0;34m\u001b[0m\u001b[0m\n\u001b[0m\u001b[1;32m   2983\u001b[0m \u001b[0;34m\u001b[0m\u001b[0m\n\u001b[1;32m   2984\u001b[0m         \u001b[0;31m# honest SymPy matrices defer to their class's routine\u001b[0m\u001b[0;34m\u001b[0m\u001b[0;34m\u001b[0m\u001b[0m\n",
      "\u001b[0;31mShapeError\u001b[0m: Matrix size mismatch."
     ]
    }
   ],
   "source": [
    "0.5* m @ h"
   ]
  },
  {
   "cell_type": "code",
   "execution_count": null,
   "id": "9a04e9cc-c94d-48a0-abc7-956fd2e3854c",
   "metadata": {},
   "outputs": [],
   "source": [
    "import numpy as np"
   ]
  },
  {
   "cell_type": "code",
   "execution_count": null,
   "id": "8a056e21-7356-405e-931d-cc194c2804f1",
   "metadata": {},
   "outputs": [
    {
     "data": {
      "text/plain": [
       "0.9999092042625951"
      ]
     },
     "execution_count": 21,
     "metadata": {},
     "output_type": "execute_result"
    }
   ],
   "source": [
    "np.tanh(5)"
   ]
  },
  {
   "cell_type": "code",
   "execution_count": null,
   "id": "32dd2ebf-6e76-4997-964f-796cdf1cffdd",
   "metadata": {},
   "outputs": [
    {
     "data": {
      "text/latex": [
       "$\\displaystyle - \\frac{2 \\left(x - 2\\right)}{e^{4}} + e^{-4}$"
      ],
      "text/plain": [
       "-2*(x - 2)*exp(-4) + exp(-4)"
      ]
     },
     "execution_count": 22,
     "metadata": {},
     "output_type": "execute_result"
    }
   ],
   "source": [
    "def taylor(f, p, n):\n",
    "    ''' This function calculates the nth degree taylor series of a given function at a certain point'''\n",
    "    l = 0\n",
    "    for i in range(n+1):\n",
    "        d = f.diff(x, i).subs([(x,p)])\n",
    "        l = l + d * (x-p)**i / factorial(i)\n",
    "    return l\n",
    "f = exp(-2*x)\n",
    "taylor(f, 2, 1)"
   ]
  },
  {
   "cell_type": "code",
   "execution_count": null,
   "id": "0a8f3bd4-8dc6-42ec-a198-78ff03169e99",
   "metadata": {},
   "outputs": [
    {
     "data": {
      "text/plain": [
       "<bound method MatrixOperations.subs of Matrix([[-4*x**4*y**2*exp(-x**4 - 0.5*y**2) + x*y**2*exp(-x**4 - 0.5*y**2) + y**2*exp(-x**4 - 0.5*y**2)]])>"
      ]
     },
     "execution_count": 23,
     "metadata": {},
     "output_type": "execute_result"
    }
   ],
   "source": [
    "f = Matrix([x * y**2 *exp(-1*x**4 - 0.5 * y**2)])\n",
    "\n",
    "t = f + f.jacobian(Matrix(['x']))\n",
    "t.subs"
   ]
  },
  {
   "cell_type": "code",
   "execution_count": null,
   "id": "32660bf1-466c-402b-82ba-5813b4850d63",
   "metadata": {},
   "outputs": [],
   "source": [
    "f = sin(pi*x-x**2*y)\n",
    "hessian(f, Matrix([x,y])).subs([(x,1),(y,pi)])"
   ]
  },
  {
   "cell_type": "code",
   "execution_count": null,
   "id": "99590fef-c6dd-4f9d-8d30-dc60a1e089d0",
   "metadata": {},
   "outputs": [],
   "source": []
  }
 ],
 "metadata": {
  "kernelspec": {
   "display_name": "Python 3 (ipykernel)",
   "language": "python",
   "name": "python3"
  },
  "language_info": {
   "codemirror_mode": {
    "name": "ipython",
    "version": 3
   },
   "file_extension": ".py",
   "mimetype": "text/x-python",
   "name": "python",
   "nbconvert_exporter": "python",
   "pygments_lexer": "ipython3",
   "version": "3.9.13"
  },
  "widgets": {
   "application/vnd.jupyter.widget-state+json": {
    "state": {},
    "version_major": 2,
    "version_minor": 0
   }
  }
 },
 "nbformat": 4,
 "nbformat_minor": 5
}
