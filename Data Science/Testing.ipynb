{
 "cells": [
  {
   "cell_type": "code",
   "execution_count": null,
   "id": "2066d01e-a4a0-4b9b-86be-2a410609f6f9",
   "metadata": {},
   "outputs": [],
   "source": [
    "\n",
    "import numpy as np"
   ]
  },
  {
   "cell_type": "code",
   "execution_count": null,
   "id": "84ba2e59-1ed9-4c2d-96f7-f56e5705e47c",
   "metadata": {},
   "outputs": [
    {
     "data": {
      "text/plain": [
       "-34.00000000000001"
      ]
     },
     "execution_count": 18,
     "metadata": {},
     "output_type": "execute_result"
    }
   ],
   "source": [
    "a = np.array([[7,5,3],[3,2,5],[1,2,1]])\n",
    "np.linalg.det(a)"
   ]
  },
  {
   "cell_type": "code",
   "execution_count": null,
   "id": "8586642a-fc32-41dd-bab5-06b07f2391a0",
   "metadata": {},
   "outputs": [],
   "source": [
    "b = np.array([120,70,20])"
   ]
  },
  {
   "cell_type": "code",
   "execution_count": null,
   "id": "0c805b56-9794-47d0-9169-e3b4ecb33304",
   "metadata": {},
   "outputs": [
    {
     "data": {
      "text/plain": [
       "array([1.50000000e+01, 8.63506797e-16, 5.00000000e+00])"
      ]
     },
     "execution_count": 20,
     "metadata": {},
     "output_type": "execute_result"
    }
   ],
   "source": [
    "np.linalg.solve(a,b)"
   ]
  },
  {
   "cell_type": "code",
   "execution_count": null,
   "id": "e9b30403-4a38-485c-8044-b2ff573dcc87",
   "metadata": {},
   "outputs": [
    {
     "data": {
      "text/plain": [
       "3"
      ]
     },
     "execution_count": 21,
     "metadata": {},
     "output_type": "execute_result"
    }
   ],
   "source": [
    "np.linalg.matrix_rank(a)"
   ]
  },
  {
   "cell_type": "code",
   "execution_count": null,
   "id": "b8a6a334-d1d3-4d2e-a334-ed5f2b7bc750",
   "metadata": {},
   "outputs": [
    {
     "data": {
      "text/plain": [
       "2"
      ]
     },
     "execution_count": 22,
     "metadata": {},
     "output_type": "execute_result"
    }
   ],
   "source": [
    "a = np.array([[0,1,1],[2,4,2],[1,2,1]])\n",
    "np.linalg.matrix_rank(a)"
   ]
  },
  {
   "cell_type": "code",
   "execution_count": null,
   "id": "f57c0f55-a3ed-44b5-898f-0c9a65b55cac",
   "metadata": {},
   "outputs": [
    {
     "data": {
      "text/plain": [
       "1"
      ]
     },
     "execution_count": 23,
     "metadata": {},
     "output_type": "execute_result"
    }
   ],
   "source": [
    "a = np.array([[7.5,5,12.5],[3,2,5],[0,0,0]])\n",
    "np.linalg.matrix_rank(a)"
   ]
  },
  {
   "cell_type": "code",
   "execution_count": null,
   "id": "5831ef6c-d8b1-4a16-9a3e-e98ae0ddafff",
   "metadata": {},
   "outputs": [],
   "source": [
    "a = np.array([[7,5,3],[2,4,2],[1,2,1]])\n",
    "np.linalg.matrix_rank(a)"
   ]
  },
  {
   "cell_type": "code",
   "execution_count": null,
   "id": "6be108c3-c4ee-4618-bd84-af00975240ea",
   "metadata": {},
   "outputs": [],
   "source": [
    "c = np.array([\n",
    "             [1,2],\n",
    "             [0,4]\n",
    "             ])"
   ]
  },
  {
   "cell_type": "code",
   "execution_count": null,
   "id": "ceb197d6-4475-4ffa-87bb-5197b386af10",
   "metadata": {},
   "outputs": [
    {
     "data": {
      "text/plain": [
       "(array([1., 4.]),\n",
       " array([[1.        , 0.5547002 ],\n",
       "        [0.        , 0.83205029]]))"
      ]
     },
     "execution_count": 36,
     "metadata": {},
     "output_type": "execute_result"
    }
   ],
   "source": [
    "np.linalg.eig(c)"
   ]
  },
  {
   "cell_type": "code",
   "execution_count": null,
   "id": "a7caaa4e-ad7a-4532-a5f1-8013dcfd489e",
   "metadata": {},
   "outputs": [
    {
     "data": {
      "text/plain": [
       "array([0., 0.])"
      ]
     },
     "execution_count": 34,
     "metadata": {},
     "output_type": "execute_result"
    }
   ],
   "source": [
    "a = np.array([[-1,1],\n",
    "              [-3,3]])\n",
    "b = np.array([0,0])\n",
    "np.linalg.inv(a) @ b"
   ]
  },
  {
   "cell_type": "code",
   "execution_count": null,
   "id": "100944fe-8f2d-4307-bddc-f52e73bcd8f3",
   "metadata": {},
   "outputs": [],
   "source": []
  }
 ],
 "metadata": {
  "kernelspec": {
   "display_name": "Python 3 (ipykernel)",
   "language": "python",
   "name": "python3"
  },
  "language_info": {
   "codemirror_mode": {
    "name": "ipython",
    "version": 3
   },
   "file_extension": ".py",
   "mimetype": "text/x-python",
   "name": "python",
   "nbconvert_exporter": "python",
   "pygments_lexer": "ipython3",
   "version": "3.9.13"
  },
  "widgets": {
   "application/vnd.jupyter.widget-state+json": {
    "state": {},
    "version_major": 2,
    "version_minor": 0
   }
  }
 },
 "nbformat": 4,
 "nbformat_minor": 5
}
