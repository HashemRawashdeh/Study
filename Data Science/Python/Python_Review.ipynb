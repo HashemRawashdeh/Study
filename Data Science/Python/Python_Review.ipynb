{
 "cells": [
  {
   "cell_type": "markdown",
   "id": "cccbfc21-3843-4448-aae8-cc02fc46c65e",
   "metadata": {
    "tags": []
   },
   "source": [
    "# Revisiting Python Through Mini Projects & Various Excercises\n",
    "#### Here I will review the python programming language concepts that I learnt in the past because it has been several months since I practiced them."
   ]
  },
  {
   "cell_type": "markdown",
   "id": "096fcc95-cf0b-4c8a-83d2-24dc9ed014d6",
   "metadata": {},
   "source": [
    "## Project One | Email Sender"
   ]
  },
  {
   "cell_type": "code",
   "execution_count": null,
   "id": "acaf2880-aa56-40f5-a1f7-38d8f6c3ad82",
   "metadata": {},
   "outputs": [],
   "source": []
  }
 ],
 "metadata": {
  "kernelspec": {
   "display_name": "Python 3 (ipykernel)",
   "language": "python",
   "name": "python3"
  },
  "language_info": {
   "codemirror_mode": {
    "name": "ipython",
    "version": 3
   },
   "file_extension": ".py",
   "mimetype": "text/x-python",
   "name": "python",
   "nbconvert_exporter": "python",
   "pygments_lexer": "ipython3",
   "version": "3.9.12"
  },
  "widgets": {
   "application/vnd.jupyter.widget-state+json": {
    "state": {},
    "version_major": 2,
    "version_minor": 0
   }
  }
 },
 "nbformat": 4,
 "nbformat_minor": 5
}
