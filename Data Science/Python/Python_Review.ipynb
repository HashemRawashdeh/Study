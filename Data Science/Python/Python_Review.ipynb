{
 "cells": [
  {
   "cell_type": "markdown",
   "id": "cccbfc21-3843-4448-aae8-cc02fc46c65e",
   "metadata": {
    "tags": []
   },
   "source": [
    "# Revisiting Python Through Mini Projects & Various Excercises\n",
    "##### Here I will review the python programming language concepts that I learnt in the past because it has been several months since I practiced them."
   ]
  },
  {
   "cell_type": "markdown",
   "id": "096fcc95-cf0b-4c8a-83d2-24dc9ed014d6",
   "metadata": {},
   "source": [
    "## Project One | Simple Calculator\n",
    "##### In this project, a very basic calculator will be built. This calculator will be able to perform the following operations:\n",
    "* addition\n",
    "* subtraction\n",
    "* multiplication\n",
    "* division"
   ]
  },
  {
   "cell_type": "code",
   "execution_count": 33,
   "id": "acaf2880-aa56-40f5-a1f7-38d8f6c3ad82",
   "metadata": {},
   "outputs": [],
   "source": [
    "def calculator(a,b):\n",
    "    ''' This function will take two variables as arguyments, and an Operation input from the user\n",
    "        decides what mathematical operation to perform and b, c are the two variables that the operation\n",
    "        will be performed on, such that: a operation b\n",
    "    '''\n",
    "    operation = input('write the first letter of the operation: ')\n",
    "    \n",
    "    if operation == 'a':\n",
    "        return a + b\n",
    "    \n",
    "    elif operation == 's':\n",
    "        return a - b\n",
    "    \n",
    "    elif operation == 'm':\n",
    "        return a * b\n",
    "    \n",
    "    elif operation == 'd':\n",
    "        return a / b\n",
    "    \n",
    "    else:\n",
    "        print('Choose a valid operation')"
   ]
  },
  {
   "cell_type": "code",
   "execution_count": 34,
   "id": "39137bde-18ed-40b8-9048-c4c45db8cf7c",
   "metadata": {},
   "outputs": [
    {
     "name": "stdin",
     "output_type": "stream",
     "text": [
      "write the first letter of the operation:  a\n"
     ]
    },
    {
     "data": {
      "text/plain": [
       "15"
      ]
     },
     "execution_count": 34,
     "metadata": {},
     "output_type": "execute_result"
    }
   ],
   "source": [
    "calculator(5,10)"
   ]
  },
  {
   "cell_type": "markdown",
   "id": "e52cab8e-b503-4324-ae8e-7948fa94af4a",
   "metadata": {},
   "source": [
    "## Project Two | Email Slicer\n",
    "##### In this project, the user will input an email adress to be sliced into its three main components:\n",
    "* Username\n",
    "* Domain\n",
    "* Extention"
   ]
  },
  {
   "cell_type": "code",
   "execution_count": 79,
   "id": "c5954b96-6e7e-4aa2-bf46-1ae104d12a79",
   "metadata": {},
   "outputs": [
    {
     "name": "stdout",
     "output_type": "stream",
     "text": [
      "Username: rawashdeh758\n",
      "Domain: gmail\n",
      "Extention: com\n"
     ]
    }
   ],
   "source": [
    "# Method One | String Methods\n",
    "\n",
    "email = 'rawashdeh758@gmail.com'\n",
    "\n",
    "(username, end) = email.split('@')\n",
    "\n",
    "(domain, extention) = end.split('.')\n",
    "\n",
    "print('Username: ' + username)\n",
    "print('Domain: ' + domain)\n",
    "print('Extention: ' + extention)"
   ]
  },
  {
   "cell_type": "code",
   "execution_count": 85,
   "id": "c4bbe7d3-26cb-4f9d-94db-7f04344e01ad",
   "metadata": {},
   "outputs": [
    {
     "name": "stdout",
     "output_type": "stream",
     "text": [
      "Username: rawashdeh758\n",
      "Domain: gmail\n",
      "Extention: com\n"
     ]
    }
   ],
   "source": [
    "# Method Two | Regular Expressions\n",
    "\n",
    "import re\n",
    "\n",
    "catagories = re.findall('[\\w]+', email)\n",
    "\n",
    "print('Username: ' + catagories[0])\n",
    "print('Domain: ' + catagories[1])\n",
    "print('Extention: ' + catagories[2])"
   ]
  },
  {
   "cell_type": "markdown",
   "id": "628bae36-3329-479f-93ab-9a54fe96dce4",
   "metadata": {},
   "source": [
    "## Project Three | Email Slicer\n",
    "##### In this project, the user will input an email adress to be sliced into its three main components:\n",
    "* Username\n",
    "* Domain\n",
    "* Extention"
   ]
  },
  {
   "cell_type": "code",
   "execution_count": null,
   "id": "5ec04a5a-1981-46cf-af5b-1150457eb775",
   "metadata": {},
   "outputs": [],
   "source": []
  }
 ],
 "metadata": {
  "kernelspec": {
   "display_name": "Python 3 (ipykernel)",
   "language": "python",
   "name": "python3"
  },
  "language_info": {
   "codemirror_mode": {
    "name": "ipython",
    "version": 3
   },
   "file_extension": ".py",
   "mimetype": "text/x-python",
   "name": "python",
   "nbconvert_exporter": "python",
   "pygments_lexer": "ipython3",
   "version": "3.9.12"
  },
  "widgets": {
   "application/vnd.jupyter.widget-state+json": {
    "state": {},
    "version_major": 2,
    "version_minor": 0
   }
  }
 },
 "nbformat": 4,
 "nbformat_minor": 5
}
