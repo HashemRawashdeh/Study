{
 "cells": [
  {
   "cell_type": "markdown",
   "id": "cccbfc21-3843-4448-aae8-cc02fc46c65e",
   "metadata": {
    "tags": []
   },
   "source": [
    "# Revisiting Python Through Mini Projects\n",
    "##### Here I will review the python programming language concepts that I learnt in the past because it has been several months since I practiced them."
   ]
  },
  {
   "cell_type": "markdown",
   "id": "096fcc95-cf0b-4c8a-83d2-24dc9ed014d6",
   "metadata": {},
   "source": [
    "## Project One | Simple Calculator\n",
    "##### In this project, a very basic calculator will be built. This calculator will be able to perform the following operations:\n",
    "* addition\n",
    "* subtraction\n",
    "* multiplication\n",
    "* division"
   ]
  },
  {
   "cell_type": "code",
   "execution_count": 1,
   "id": "e09e004e-7645-42ab-afb6-feeb13d0c194",
   "metadata": {},
   "outputs": [
    {
     "name": "stdin",
     "output_type": "stream",
     "text": [
      "write the first letter of the operation:  m\n"
     ]
    },
    {
     "data": {
      "text/plain": [
       "50"
      ]
     },
     "execution_count": 1,
     "metadata": {},
     "output_type": "execute_result"
    }
   ],
   "source": [
    "def calculator(a,b):\n",
    "    ''' This function will take two variables as arguyments, and an Operation input from the user\n",
    "        decides what mathematical operation to perform and b, c are the two variables that the operation\n",
    "        will be performed on, such that: a operation b\n",
    "    '''\n",
    "    operation = input('write the first letter of the operation: ')\n",
    "    \n",
    "    if operation == 'a':\n",
    "        return a + b\n",
    "    \n",
    "    elif operation == 's':\n",
    "        return a - b\n",
    "    \n",
    "    elif operation == 'm':\n",
    "        return a * b\n",
    "    \n",
    "    elif operation == 'd':\n",
    "        return a / b\n",
    "    \n",
    "    else:\n",
    "        print('Choose a valid operation')\n",
    "\n",
    "calculator(5,10)"
   ]
  },
  {
   "cell_type": "markdown",
   "id": "e52cab8e-b503-4324-ae8e-7948fa94af4a",
   "metadata": {},
   "source": [
    "## Project Two | Email Slicer\n",
    "##### In this project, the user will input an email adress to be sliced into its three main components:\n",
    "* Username\n",
    "* Domain\n",
    "* Extention"
   ]
  },
  {
   "cell_type": "code",
   "execution_count": 2,
   "id": "c5954b96-6e7e-4aa2-bf46-1ae104d12a79",
   "metadata": {},
   "outputs": [
    {
     "name": "stdin",
     "output_type": "stream",
     "text": [
      "Enter the email that you want to slice:  username@domain.extention\n"
     ]
    },
    {
     "name": "stdout",
     "output_type": "stream",
     "text": [
      "Username: username\n",
      "Domain: domain\n",
      "Extention: extention\n"
     ]
    }
   ],
   "source": [
    "# Method One | String Methods\n",
    "def email_one():\n",
    "    \n",
    "    email = input('Enter the email that you want to slice: ')\n",
    "    (username, end) = email.split('@')\n",
    "    (domain, extention) = end.split('.')\n",
    "    \n",
    "    print('Username: ' + username)\n",
    "    print('Domain: ' + domain)\n",
    "    print('Extention: ' + extention)\n",
    "\n",
    "email_one()"
   ]
  },
  {
   "cell_type": "code",
   "execution_count": 3,
   "id": "c4bbe7d3-26cb-4f9d-94db-7f04344e01ad",
   "metadata": {},
   "outputs": [
    {
     "name": "stdin",
     "output_type": "stream",
     "text": [
      "Enter the email that you want to slice:  username@domain.extention\n"
     ]
    },
    {
     "name": "stdout",
     "output_type": "stream",
     "text": [
      "Username: username\n",
      "Domain: domain\n",
      "Extention: extention\n"
     ]
    }
   ],
   "source": [
    "# Method Two | Regular Expressions\n",
    "\n",
    "import re\n",
    "\n",
    "def email_two():\n",
    "    \n",
    "    email = input('Enter the email that you want to slice: ')\n",
    "    catagories = re.findall('[\\w]+', email)\n",
    "\n",
    "    print('Username: ' + catagories[0])\n",
    "    print('Domain: ' + catagories[1])\n",
    "    print('Extention: ' + catagories[2])\n",
    "    \n",
    "email_two()"
   ]
  },
  {
   "cell_type": "markdown",
   "id": "628bae36-3329-479f-93ab-9a54fe96dce4",
   "metadata": {},
   "source": [
    "## Project Three | Quiz\n",
    "In this project, the user will be asked seven general knowledge questions, and get a score based on their answers. \n",
    "\n",
    "Follwing is the flow of the project:\n",
    "\n",
    "* Ask the user a question\n",
    "* Tell them if their answer is correct or wrong\n",
    "* repeat seven times\n",
    "* give them a final score based on their answers to the questions"
   ]
  },
  {
   "cell_type": "code",
   "execution_count": 4,
   "id": "5ec04a5a-1981-46cf-af5b-1150457eb775",
   "metadata": {},
   "outputs": [
    {
     "name": "stdin",
     "output_type": "stream",
     "text": [
      "what is the capital of Saudi Arabia? riyadh\n"
     ]
    },
    {
     "name": "stdout",
     "output_type": "stream",
     "text": [
      "Your ansewer is correct, and your score is now: 1\n",
      "\n"
     ]
    },
    {
     "name": "stdin",
     "output_type": "stream",
     "text": [
      "Which country has the larger area, Spain or Italy? spain\n"
     ]
    },
    {
     "name": "stdout",
     "output_type": "stream",
     "text": [
      "Your ansewer is correct, and your score is now: 2\n",
      "\n"
     ]
    },
    {
     "name": "stdin",
     "output_type": "stream",
     "text": [
      "Which country has the bigger economy based on their GDP(PPP), china or the USA? china\n"
     ]
    },
    {
     "name": "stdout",
     "output_type": "stream",
     "text": [
      "Your ansewer is correct, and your score is now: 3\n",
      "\n"
     ]
    },
    {
     "name": "stdin",
     "output_type": "stream",
     "text": [
      "Who earn more on average, Nurses or Engineers? engineers\n"
     ]
    },
    {
     "name": "stdout",
     "output_type": "stream",
     "text": [
      "Your ansewer is correct, and your score is now: 4\n",
      "\n"
     ]
    },
    {
     "name": "stdin",
     "output_type": "stream",
     "text": [
      "Which country has the largest population in 2022? china\n"
     ]
    },
    {
     "name": "stdout",
     "output_type": "stream",
     "text": [
      "Your ansewer is correct, and your score is now: 5\n",
      "\n"
     ]
    },
    {
     "name": "stdin",
     "output_type": "stream",
     "text": [
      "What are animals that eat both plants and meat called? omnivores\n"
     ]
    },
    {
     "name": "stdout",
     "output_type": "stream",
     "text": [
      "Your ansewer is correct, and your score is now: 6\n",
      "\n"
     ]
    },
    {
     "name": "stdin",
     "output_type": "stream",
     "text": [
      "Who was The Great Pyramid of Giza’s construction launched by? khufu\n"
     ]
    },
    {
     "name": "stdout",
     "output_type": "stream",
     "text": [
      "Your ansewer is correct, and your score is now: 7\n",
      "\n",
      "Your Final score is 7/7\n"
     ]
    }
   ],
   "source": [
    "quiz = {\n",
    "    'Question One': {'Question': \"what is the capital of Saudi Arabia?\",\n",
    "                         'Answer' : 'riyadh'},\n",
    "        \n",
    "    'Question Two' : {'Question': \"Which country has the larger area, Spain or Italy?\",\n",
    "                      'Answer': 'spain'},\n",
    "        \n",
    "    'Question Three' : {'Question': \"Which country has the bigger economy based on their GDP(PPP), china or the USA?\",\n",
    "                        'Answer': 'china'},\n",
    "        \n",
    "    'Question Four' : {'Question': \"Who earn more on average, Nurses or Engineers?\",\n",
    "                       'Answer': 'engineers'},\n",
    "        \n",
    "    'Question Five' : {'Question': \"Which country has the largest population in 2022?\",\n",
    "                       'Answer' : 'china'},\n",
    "        \n",
    "    'Question Six' : {'Question': 'What are animals that eat both plants and meat called?',\n",
    "                      'Answer': 'omnivores'},\n",
    "        \n",
    "    'Question Seven' : {'Question': 'Who was The Great Pyramid of Giza’s construction launched by?',\n",
    "                       'Answer': 'khufu'}\n",
    "       }\n",
    "\n",
    "j = 0\n",
    "score = 0\n",
    "\n",
    "for keys, values in quiz.items():\n",
    "    \n",
    "    question = values['Question']\n",
    "    answer = input(question).lower()\n",
    "    \n",
    "    if answer == values['Answer']:\n",
    "        score += 1\n",
    "        print('Your ansewer is correct, and your score is now: ' + str(score)+ '\\n')\n",
    "    else:\n",
    "        print('Your answer is wrong' + '\\n')\n",
    "        score = score\n",
    "    j += 1\n",
    "\n",
    "print('Your Final score is {}/7'.format(score))"
   ]
  },
  {
   "cell_type": "markdown",
   "id": "9a72ea6d-463c-4d4a-bde7-c1a377e88c30",
   "metadata": {},
   "source": [
    "## Project Four | Random Password Generator\n",
    "##### In this project, the user will input the desired password length, and recieve a randomly generated password of the required length."
   ]
  },
  {
   "cell_type": "code",
   "execution_count": 5,
   "id": "02ce4cf9-130b-484b-a8fa-4b66af23245b",
   "metadata": {},
   "outputs": [
    {
     "name": "stdin",
     "output_type": "stream",
     "text": [
      "How many characters do you want the password to be? 27\n"
     ]
    },
    {
     "data": {
      "text/plain": [
       "'ZN_zxxrwoUnEe`5DWQMw{w54tRQ'"
      ]
     },
     "execution_count": 5,
     "metadata": {},
     "output_type": "execute_result"
    }
   ],
   "source": [
    "import random\n",
    "\n",
    "def generate_random_password():\n",
    "    length = int(input('How many characters do you want the password to be?'))\n",
    "    password=''\n",
    "    for i in range(length):\n",
    "        password += chr(random.randint(48,126))\n",
    "    return password\n",
    "\n",
    "generate_random_password()"
   ]
  },
  {
   "cell_type": "markdown",
   "id": "0d0baee9-4196-4b96-b452-124439d8105c",
   "metadata": {},
   "source": [
    "## Project Five | Dice Rolling Simulation\n",
    "##### In this project, a user-specified number of dices are rolled.\n",
    "Following is the flow of the project:\n",
    "* Prompt the user for the number of dices they want to roll\n",
    "* Parse and validate the user's input\n",
    "* Run the dice-rolling simulation\n",
    "* Generate an ASCII diagram with the resulting dice faces\n",
    "* Display the diagram of dice faces on the screen"
   ]
  },
  {
   "cell_type": "code",
   "execution_count": 6,
   "id": "03eea4e0-1c42-440d-87fa-6d851d6df2a0",
   "metadata": {},
   "outputs": [
    {
     "name": "stdin",
     "output_type": "stream",
     "text": [
      "How many dices do you want to roll [1-6]? 3\n"
     ]
    },
    {
     "name": "stdout",
     "output_type": "stream",
     "text": [
      "┌─────────┐\n",
      "│  ●      │\n",
      "│    ●    │\n",
      "│         │\n",
      "└─────────┘\n",
      "┌─────────┐\n",
      "│  ●      │\n",
      "│         │\n",
      "│      ●  │\n",
      "└─────────┘\n",
      "┌─────────┐\n",
      "│  ●   ●  │\n",
      "│    ●    │\n",
      "│         │\n",
      "└─────────┘\n"
     ]
    }
   ],
   "source": [
    "def parse_input(a):\n",
    "    ''' This functions makes sure that the user input is valid, meaning an integer in the set [1,6].\n",
    "    \n",
    "    If this integer was correct, this function converts the string integer to an actual integer data type. \n",
    "    On the other hand, if the input wasn't valid, the user is promptedthat information,\n",
    "    and the program raises an error and wexits. \n",
    "    '''\n",
    "    \n",
    "    if a in {'1','2','3','4','5','6'}:                 # Sets are used because they're very effecient at mempership tests\n",
    "        return int(a)\n",
    "        \n",
    "    else:                                              # Line 13 exits the app with a SystemExit exception ,\n",
    "                                                       # and a status code of 1 to signal that something went wrong\n",
    "        print('Inter a number in the set [1,6]')\n",
    "        raise SystemExit(1)    \n",
    "\n",
    "DICE_ART = {\n",
    "    1: (\n",
    "        \"┌─────────┐\",\n",
    "        \"│         │\",\n",
    "        \"│    ●    │\",\n",
    "        \"│         │\",\n",
    "        \"└─────────┘\",\n",
    "    ),\n",
    "    2: (\n",
    "        \"┌─────────┐\",\n",
    "        \"│  ●      │\",\n",
    "        \"│         │\",\n",
    "        \"│      ●  │\",\n",
    "        \"└─────────┘\",\n",
    "    ),\n",
    "    3: (\n",
    "        \"┌─────────┐\",\n",
    "        \"│  ●      │\",\n",
    "        \"│    ●    │\",\n",
    "        \"│      ●  │\",\n",
    "        \"└─────────┘\",\n",
    "    ),\n",
    "    4: (\n",
    "        \"┌─────────┐\",\n",
    "        \"│  ●   ●  │\",\n",
    "        \"│         │\",\n",
    "        \"│  ●   ●  │\",\n",
    "        \"└─────────┘\",\n",
    "    ),\n",
    "    5: (\n",
    "        \"┌─────────┐\",\n",
    "        \"│  ●   ●  │\",\n",
    "        \"│    ●    │\",\n",
    "        \"│  ●   ●  │\",\n",
    "        \"└─────────┘\",\n",
    "    ),\n",
    "    6: (\n",
    "        \"┌─────────┐\",\n",
    "        \"│  ●   ●  │\",\n",
    "        \"│  ●   ●  │\",\n",
    "        \"│  ●   ●  │\",\n",
    "        \"└─────────┘\",\n",
    "    ),\n",
    "}\n",
    "\n",
    "import random\n",
    "def generate():\n",
    "    a = parse_input(input('How many dices do you want to roll [1-6]?'))\n",
    "    i = 1\n",
    "    while i <= a:\n",
    "        for j in range(5):\n",
    "            b = random.randint(1,6)\n",
    "            print(DICE_ART[b][j])\n",
    "        i += 1                                    # https://realpython.com/python-dice-roll/#project-overview\n",
    "generate()                                        # Check this URL for a much prettier version. You can always look deeper.\n",
    "                                                  # Since this is merely a revision, I didn't look deep into it."
   ]
  },
  {
   "cell_type": "code",
   "execution_count": null,
   "id": "f656fb83-5128-4f18-b1b8-530b2f7b31d3",
   "metadata": {},
   "outputs": [],
   "source": []
  }
 ],
 "metadata": {
  "kernelspec": {
   "display_name": "Python 3 (ipykernel)",
   "language": "python",
   "name": "python3"
  },
  "language_info": {
   "codemirror_mode": {
    "name": "ipython",
    "version": 3
   },
   "file_extension": ".py",
   "mimetype": "text/x-python",
   "name": "python",
   "nbconvert_exporter": "python",
   "pygments_lexer": "ipython3",
   "version": "3.9.12"
  },
  "widgets": {
   "application/vnd.jupyter.widget-state+json": {
    "state": {},
    "version_major": 2,
    "version_minor": 0
   }
  }
 },
 "nbformat": 4,
 "nbformat_minor": 5
}
