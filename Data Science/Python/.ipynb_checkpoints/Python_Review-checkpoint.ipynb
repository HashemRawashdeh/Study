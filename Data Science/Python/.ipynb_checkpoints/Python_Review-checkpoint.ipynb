{
 "cells": [
  {
   "cell_type": "markdown",
   "id": "cccbfc21-3843-4448-aae8-cc02fc46c65e",
   "metadata": {
    "tags": []
   },
   "source": [
    "# Revisiting Python Through Mini Projects & Various Excercises\n",
    "##### Here I will review the python programming language concepts that I learnt in the past because it has been several months since I practiced them."
   ]
  },
  {
   "cell_type": "markdown",
   "id": "096fcc95-cf0b-4c8a-83d2-24dc9ed014d6",
   "metadata": {},
   "source": [
    "## Project One | Simple Calculator\n",
    "##### In this project, a very basic calculator will be built. This calculator will be able to perform the following operations:\n",
    "* addition\n",
    "* subtraction\n",
    "* multiplication\n",
    "* division"
   ]
  },
  {
   "cell_type": "code",
   "execution_count": 1,
   "id": "e09e004e-7645-42ab-afb6-feeb13d0c194",
   "metadata": {},
   "outputs": [
    {
     "name": "stdin",
     "output_type": "stream",
     "text": [
      "write the first letter of the operation:  d\n"
     ]
    },
    {
     "data": {
      "text/plain": [
       "0.5"
      ]
     },
     "execution_count": 1,
     "metadata": {},
     "output_type": "execute_result"
    }
   ],
   "source": [
    "def calculator(a,b):\n",
    "    ''' This function will take two variables as arguyments, and an Operation input from the user\n",
    "        decides what mathematical operation to perform and b, c are the two variables that the operation\n",
    "        will be performed on, such that: a operation b\n",
    "    '''\n",
    "    operation = input('write the first letter of the operation: ')\n",
    "    \n",
    "    if operation == 'a':\n",
    "        return a + b\n",
    "    \n",
    "    elif operation == 's':\n",
    "        return a - b\n",
    "    \n",
    "    elif operation == 'm':\n",
    "        return a * b\n",
    "    \n",
    "    elif operation == 'd':\n",
    "        return a / b\n",
    "    \n",
    "    else:\n",
    "        print('Choose a valid operation')\n",
    "\n",
    "calculator(5,10)"
   ]
  },
  {
   "cell_type": "markdown",
   "id": "e52cab8e-b503-4324-ae8e-7948fa94af4a",
   "metadata": {},
   "source": [
    "## Project Two | Email Slicer\n",
    "##### In this project, the user will input an email adress to be sliced into its three main components:\n",
    "* Username\n",
    "* Domain\n",
    "* Extention"
   ]
  },
  {
   "cell_type": "code",
   "execution_count": 2,
   "id": "c5954b96-6e7e-4aa2-bf46-1ae104d12a79",
   "metadata": {},
   "outputs": [
    {
     "name": "stdin",
     "output_type": "stream",
     "text": [
      "Enter the email that you want to slice:  rawashdeh758@gmail.com\n"
     ]
    },
    {
     "name": "stdout",
     "output_type": "stream",
     "text": [
      "Username: rawashdeh758\n",
      "Domain: gmail\n",
      "Extention: com\n"
     ]
    }
   ],
   "source": [
    "# Method One | String Methods\n",
    "def email_one():\n",
    "    \n",
    "    email = input('Enter the email that you want to slice: ')\n",
    "    (username, end) = email.split('@')\n",
    "    (domain, extention) = end.split('.')\n",
    "    \n",
    "    print('Username: ' + username)\n",
    "    print('Domain: ' + domain)\n",
    "    print('Extention: ' + extention)\n",
    "\n",
    "email_one()"
   ]
  },
  {
   "cell_type": "code",
   "execution_count": 3,
   "id": "c4bbe7d3-26cb-4f9d-94db-7f04344e01ad",
   "metadata": {},
   "outputs": [
    {
     "name": "stdin",
     "output_type": "stream",
     "text": [
      "Enter the email that you want to slice:  rawashdeh758@gmail.com\n"
     ]
    },
    {
     "name": "stdout",
     "output_type": "stream",
     "text": [
      "Username: rawashdeh758\n",
      "Domain: gmail\n",
      "Extention: com\n"
     ]
    }
   ],
   "source": [
    "# Method Two | Regular Expressions\n",
    "\n",
    "import re\n",
    "\n",
    "def email_two():\n",
    "    \n",
    "    email = input('Enter the email that you want to slice: ')\n",
    "    catagories = re.findall('[\\w]+', email)\n",
    "\n",
    "    print('Username: ' + catagories[0])\n",
    "    print('Domain: ' + catagories[1])\n",
    "    print('Extention: ' + catagories[2])\n",
    "    \n",
    "email_two()"
   ]
  },
  {
   "cell_type": "markdown",
   "id": "628bae36-3329-479f-93ab-9a54fe96dce4",
   "metadata": {},
   "source": [
    "## Project Three | Quiz\n",
    "##### In this project, the user will be asked seven general knowledge questions, and get a score based on their answers:"
   ]
  },
  {
   "cell_type": "code",
   "execution_count": 4,
   "id": "5ec04a5a-1981-46cf-af5b-1150457eb775",
   "metadata": {},
   "outputs": [
    {
     "name": "stdin",
     "output_type": "stream",
     "text": [
      "what is the capital of Saudi Arabia? riyadh\n"
     ]
    },
    {
     "name": "stdout",
     "output_type": "stream",
     "text": [
      "Your ansewer is correct, and your score is now: 1\n",
      "\n"
     ]
    },
    {
     "name": "stdin",
     "output_type": "stream",
     "text": [
      "Which country has the larger area, Spain or Italy? spain\n"
     ]
    },
    {
     "name": "stdout",
     "output_type": "stream",
     "text": [
      "Your ansewer is correct, and your score is now: 2\n",
      "\n"
     ]
    },
    {
     "name": "stdin",
     "output_type": "stream",
     "text": [
      "Which country has the bigger economy based on their GDP(PPP), China or the USA? china\n"
     ]
    },
    {
     "name": "stdout",
     "output_type": "stream",
     "text": [
      "Your ansewer is correct, and your score is now: 3\n",
      "\n"
     ]
    },
    {
     "name": "stdin",
     "output_type": "stream",
     "text": [
      "Who earn more on average, Nurses or Engineers? engineers\n"
     ]
    },
    {
     "name": "stdout",
     "output_type": "stream",
     "text": [
      "Your ansewer is correct, and your score is now: 4\n",
      "\n"
     ]
    },
    {
     "name": "stdin",
     "output_type": "stream",
     "text": [
      " Which country has the largest population in 2022? china\n"
     ]
    },
    {
     "name": "stdout",
     "output_type": "stream",
     "text": [
      "Your ansewer is correct, and your score is now: 5\n",
      "\n"
     ]
    },
    {
     "name": "stdin",
     "output_type": "stream",
     "text": [
      "What are animals that eat both plants and meat called?: omnivores\n"
     ]
    },
    {
     "name": "stdout",
     "output_type": "stream",
     "text": [
      "Your ansewer is correct, and your score is now: 6\n",
      "\n"
     ]
    },
    {
     "name": "stdin",
     "output_type": "stream",
     "text": [
      "Who was The Great Pyramid of Giza’s construction launched by? khufu\n"
     ]
    },
    {
     "name": "stdout",
     "output_type": "stream",
     "text": [
      "Your ansewer is correct, and your score is now: 7\n",
      "\n",
      "Your Final score is 7/7\n"
     ]
    }
   ],
   "source": [
    "quiz = { 'Question One': \"what is the capital of Saudi Arabia?\",\n",
    "    'Question Two' : \"Which country has the larger area, Spain or Italy?\",\n",
    "    'Question Three' : \"Which country has the bigger economy based on their GDP(PPP), China or the USA?\",\n",
    "    'Question Four' : \"Who earn more on average, Nurses or Engineers?\",\n",
    "    'Question Five' : \" Which country has the largest population in 2022?\",\n",
    "    'Question Six' : 'What are animals that eat both plants and meat called?:',\n",
    "    'Question Seven' : 'Who was The Great Pyramid of Giza’s construction launched by?'}\n",
    "\n",
    "answers = ['riyadh', 'spain', 'china', 'engineers', 'china', 'omnivores', 'khufu']\n",
    "j = 0\n",
    "score = 0\n",
    "\n",
    "for i in quiz.keys():\n",
    "    a = input(quiz[i]).lower()\n",
    "    if a == answers[j]:\n",
    "        score += 1\n",
    "        print('Your ansewer is correct, and your score is now: ' + str(score)+ '\\n')\n",
    "    else:\n",
    "        print('Your answer is wrong' + '\\n')\n",
    "        score = score\n",
    "    j += 1\n",
    "\n",
    "print('Your Final score is {}/7'.format(score))"
   ]
  },
  {
   "cell_type": "code",
   "execution_count": null,
   "id": "02ce4cf9-130b-484b-a8fa-4b66af23245b",
   "metadata": {},
   "outputs": [],
   "source": []
  }
 ],
 "metadata": {
  "kernelspec": {
   "display_name": "Python 3 (ipykernel)",
   "language": "python",
   "name": "python3"
  },
  "language_info": {
   "codemirror_mode": {
    "name": "ipython",
    "version": 3
   },
   "file_extension": ".py",
   "mimetype": "text/x-python",
   "name": "python",
   "nbconvert_exporter": "python",
   "pygments_lexer": "ipython3",
   "version": "3.9.12"
  },
  "widgets": {
   "application/vnd.jupyter.widget-state+json": {
    "state": {},
    "version_major": 2,
    "version_minor": 0
   }
  }
 },
 "nbformat": 4,
 "nbformat_minor": 5
}
