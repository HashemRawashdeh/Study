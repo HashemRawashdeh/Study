{
 "cells": [
  {
   "cell_type": "code",
   "execution_count": 1,
   "id": "1a17352a-856e-4fcd-b4b6-ac4afd8337ba",
   "metadata": {},
   "outputs": [],
   "source": [
    "import re"
   ]
  },
  {
   "cell_type": "code",
   "execution_count": 3,
   "id": "91ab6f86-298d-4d54-9d9e-ec9d2fcf3b04",
   "metadata": {},
   "outputs": [],
   "source": [
    "email = 'rawashdeh758@gmail.com'"
   ]
  },
  {
   "cell_type": "code",
   "execution_count": 8,
   "id": "7be846fc-6968-4cfc-ab69-2b9c3bda9cfa",
   "metadata": {},
   "outputs": [
    {
     "data": {
      "text/plain": [
       "['rawashdeh758', 'gmail', 'com']"
      ]
     },
     "execution_count": 8,
     "metadata": {},
     "output_type": "execute_result"
    }
   ],
   "source": [
    "re.findall('[\\w]+', email)"
   ]
  },
  {
   "cell_type": "code",
   "execution_count": null,
   "id": "5a02e4cc-f3a1-41f2-ac7b-128cc77997a9",
   "metadata": {},
   "outputs": [],
   "source": []
  }
 ],
 "metadata": {
  "kernelspec": {
   "display_name": "Python 3 (ipykernel)",
   "language": "python",
   "name": "python3"
  },
  "language_info": {
   "codemirror_mode": {
    "name": "ipython",
    "version": 3
   },
   "file_extension": ".py",
   "mimetype": "text/x-python",
   "name": "python",
   "nbconvert_exporter": "python",
   "pygments_lexer": "ipython3",
   "version": "3.9.12"
  },
  "widgets": {
   "application/vnd.jupyter.widget-state+json": {
    "state": {},
    "version_major": 2,
    "version_minor": 0
   }
  }
 },
 "nbformat": 4,
 "nbformat_minor": 5
}
