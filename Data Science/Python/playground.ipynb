{
 "cells": [
  {
   "cell_type": "code",
   "execution_count": 1,
   "id": "1a17352a-856e-4fcd-b4b6-ac4afd8337ba",
   "metadata": {},
   "outputs": [],
   "source": [
    "import re"
   ]
  },
  {
   "cell_type": "code",
   "execution_count": 2,
   "id": "91ab6f86-298d-4d54-9d9e-ec9d2fcf3b04",
   "metadata": {},
   "outputs": [],
   "source": [
    "email = 'rawashdeh758@gmail.com'"
   ]
  },
  {
   "cell_type": "code",
   "execution_count": 3,
   "id": "7be846fc-6968-4cfc-ab69-2b9c3bda9cfa",
   "metadata": {},
   "outputs": [
    {
     "data": {
      "text/plain": [
       "['rawashdeh758', 'gmail', 'com']"
      ]
     },
     "execution_count": 3,
     "metadata": {},
     "output_type": "execute_result"
    }
   ],
   "source": [
    "re.findall('[\\w]+', email)"
   ]
  },
  {
   "cell_type": "code",
   "execution_count": 4,
   "id": "5a02e4cc-f3a1-41f2-ac7b-128cc77997a9",
   "metadata": {},
   "outputs": [
    {
     "name": "stdin",
     "output_type": "stream",
     "text": [
      "what is the capital of Saudi Arabia? riyadh\n"
     ]
    },
    {
     "name": "stdout",
     "output_type": "stream",
     "text": [
      "Your ansewer is correct, and your score is now: 1\n",
      "\n"
     ]
    },
    {
     "name": "stdin",
     "output_type": "stream",
     "text": [
      "Which country has the larger area, Spain or Italy? spain\n"
     ]
    },
    {
     "name": "stdout",
     "output_type": "stream",
     "text": [
      "Your ansewer is correct, and your score is now: 2\n",
      "\n"
     ]
    },
    {
     "name": "stdin",
     "output_type": "stream",
     "text": [
      "Which country has the bigger economy based on their GDP(PPP), china or the USA? china\n"
     ]
    },
    {
     "name": "stdout",
     "output_type": "stream",
     "text": [
      "Your ansewer is correct, and your score is now: 3\n",
      "\n"
     ]
    },
    {
     "name": "stdin",
     "output_type": "stream",
     "text": [
      "Who earn more on average, Nurses or Engineers? engineers\n"
     ]
    },
    {
     "name": "stdout",
     "output_type": "stream",
     "text": [
      "Your ansewer is correct, and your score is now: 4\n",
      "\n"
     ]
    },
    {
     "name": "stdin",
     "output_type": "stream",
     "text": [
      "Which country has the largest population in 2022? china\n"
     ]
    },
    {
     "name": "stdout",
     "output_type": "stream",
     "text": [
      "Your ansewer is correct, and your score is now: 5\n",
      "\n"
     ]
    },
    {
     "name": "stdin",
     "output_type": "stream",
     "text": [
      "What are animals that eat both plants and meat called? omnivores\n"
     ]
    },
    {
     "name": "stdout",
     "output_type": "stream",
     "text": [
      "Your ansewer is correct, and your score is now: 6\n",
      "\n"
     ]
    },
    {
     "name": "stdin",
     "output_type": "stream",
     "text": [
      "Who was The Great Pyramid of Giza’s construction launched by? khufu\n"
     ]
    },
    {
     "name": "stdout",
     "output_type": "stream",
     "text": [
      "Your ansewer is correct, and your score is now: 7\n",
      "\n",
      "Your Final score is 7/7\n"
     ]
    }
   ],
   "source": [
    "quiz = {\n",
    "    'Question One': {'Question': \"what is the capital of Saudi Arabia?\",\n",
    "                         'Answer' : 'riyadh'},\n",
    "        \n",
    "    'Question Two' : {'Question': \"Which country has the larger area, Spain or Italy?\",\n",
    "                      'Answer': 'spain'},\n",
    "        \n",
    "    'Question Three' : {'Question': \"Which country has the bigger economy based on their GDP(PPP),\\\n",
    " china or the USA?\",\n",
    "                        'Answer': 'china'},\n",
    "        \n",
    "    'Question Four' : {'Question': \"Who earn more on average, Nurses or Engineers?\",\n",
    "                       'Answer': 'engineers'},\n",
    "        \n",
    "    'Question Five' : {'Question': \"Which country has the largest population in 2022?\",\n",
    "                       'Answer' : 'china'},\n",
    "        \n",
    "    'Question Six' : {'Question': 'What are animals that eat both plants and meat called?',\n",
    "                      'Answer': 'omnivores'},\n",
    "        \n",
    "    'Question Seven' : {'Question': 'Who was The Great Pyramid of Giza’s construction launched by?',\n",
    "                       'Answer': 'khufu'}\n",
    "       }\n",
    "\n",
    "j = 0\n",
    "score = 0\n",
    "\n",
    "for keys, values in quiz.items():\n",
    "    \n",
    "    question = values['Question']\n",
    "    answer = input(question).lower()\n",
    "    \n",
    "    if answer == values['Answer']:\n",
    "        score += 1\n",
    "        print('Your ansewer is correct, and your score is now: ' + str(score)+ '\\n')\n",
    "    else:\n",
    "        print('Your answer is wrong' + '\\n')\n",
    "        score = score\n",
    "    j += 1\n",
    "\n",
    "print('Your Final score is {}/7'.format(score))"
   ]
  },
  {
   "cell_type": "code",
   "execution_count": 5,
   "id": "cd72b36d-2236-4dfd-b846-313b9d921eca",
   "metadata": {},
   "outputs": [],
   "source": [
    "import numpy as np"
   ]
  },
  {
   "cell_type": "code",
   "execution_count": 8,
   "id": "8802f521-5874-4dff-9a75-7fd3c15a7316",
   "metadata": {},
   "outputs": [],
   "source": [
    "def generate_random_password():\n",
    "    length = int(input('How many characters do you want the passwrd to be?'))\n",
    "    password=''\n",
    "    for i in range(length):\n",
    "        password += chr(np.random.randint(48,126))\n",
    "    return password"
   ]
  },
  {
   "cell_type": "code",
   "execution_count": 9,
   "id": "a5bf8728-eddc-4b35-a14f-89078d1ca416",
   "metadata": {},
   "outputs": [
    {
     "name": "stdin",
     "output_type": "stream",
     "text": [
      "How many characters do you want the passwrd to be? 502\n"
     ]
    },
    {
     "data": {
      "text/plain": [
       "'[hAg3_RgY^Z@N]IB5P5<IY2VDt\\\\pl1x3u<QT_2i>gZzN5[0KBAp}l9Hk9<no2G7]CP8@yImd7e{EqvlDT5QhQ;Oolq^lu^QpY<asmGp}=Pyb0a9qU5JJwLt:DyxTnzHbmSwiSTX{^sEK:]s[g_QG9v;C[Fv_8zpLcRbxi:7nUH\\\\?o_0G`k2RC3Ra@{3dH9zK`>Jy>W2I\\\\YHFw^F<S^@^P>^efHi}M]=li;<<H86DYt={Ddn;whQGi=u7llx6]=sOr1x<v}^}E{C<k3}AY\\\\4k3gxk<]Dll09_?|bCIq6ICN^Znv>OFLk3ljPSSadrk4Y:G89m6m<j_W0Q;rFZ}Q9NM3WxcIaCgVF}bbzGjDw\\\\Jh<OoH{ZeT<sn5:W:m`x}:G<[MDPVWbzZdvR3Vx>DxivzLMWY4f<qK@KddK4s]^vs=T[cxwUGUem0^mrc6bM5QpmyuM]O^v=1noMXHpisKwW<iU5V}VVdacEI<`eekninUWBF=UkfKCbB:'"
      ]
     },
     "execution_count": 9,
     "metadata": {},
     "output_type": "execute_result"
    }
   ],
   "source": [
    "generate_random_password()"
   ]
  },
  {
   "cell_type": "code",
   "execution_count": 10,
   "id": "affa7ddf-026d-40cc-b926-11a120d5387c",
   "metadata": {},
   "outputs": [],
   "source": [
    "import random\n"
   ]
  },
  {
   "cell_type": "code",
   "execution_count": 11,
   "id": "2a04bcef-0fa5-4a39-8354-2ebe0277a295",
   "metadata": {},
   "outputs": [
    {
     "data": {
      "text/plain": [
       "6"
      ]
     },
     "execution_count": 11,
     "metadata": {},
     "output_type": "execute_result"
    }
   ],
   "source": [
    "number_of_dice = input('How many dice do you want to roll? ')\n",
    "face = random.randint(1,6)"
   ]
  },
  {
   "cell_type": "code",
   "execution_count": 4,
   "id": "c26f011f-f427-4a70-aa63-5ce537d82bc3",
   "metadata": {},
   "outputs": [],
   "source": [
    "DICE_ART = {\n",
    "    1: (\n",
    "        \"┌─────────┐\",\n",
    "        \"│         │\",\n",
    "        \"│    ●    │\",\n",
    "        \"│         │\",\n",
    "        \"└─────────┘\",\n",
    "    ),\n",
    "    2: (\n",
    "        \"┌─────────┐\",\n",
    "        \"│  ●      │\",\n",
    "        \"│         │\",\n",
    "        \"│      ●  │\",\n",
    "        \"└─────────┘\",\n",
    "    ),\n",
    "    3: (\n",
    "        \"┌─────────┐\",\n",
    "        \"│  ●      │\",\n",
    "        \"│    ●    │\",\n",
    "        \"│      ●  │\",\n",
    "        \"└─────────┘\",\n",
    "    ),\n",
    "    4: (\n",
    "        \"┌─────────┐\",\n",
    "        \"│  ●   ●  │\",\n",
    "        \"│         │\",\n",
    "        \"│  ●   ●  │\",\n",
    "        \"└─────────┘\",\n",
    "    ),\n",
    "    5: (\n",
    "        \"┌─────────┐\",\n",
    "        \"│  ●   ●  │\",\n",
    "        \"│    ●    │\",\n",
    "        \"│  ●   ●  │\",\n",
    "        \"└─────────┘\",\n",
    "    ),\n",
    "    6: (\n",
    "        \"┌─────────┐\",\n",
    "        \"│  ●   ●  │\",\n",
    "        \"│  ●   ●  │\",\n",
    "        \"│  ●   ●  │\",\n",
    "        \"└─────────┘\",\n",
    "    ),\n",
    "}"
   ]
  },
  {
   "cell_type": "code",
   "execution_count": 5,
   "id": "672181e7-c9e6-4df7-9471-4850f89c8a89",
   "metadata": {},
   "outputs": [
    {
     "name": "stdout",
     "output_type": "stream",
     "text": [
      "┌─────────┐\n",
      "│         │\n",
      "│    ●    │\n",
      "│         │\n",
      "└─────────┘\n"
     ]
    }
   ],
   "source": [
    "print(DICE_ART[1][0]+'\\n'+DICE_ART[1][1]+'\\n'+DICE_ART[1][2]+'\\n'+DICE_ART[1][3]+'\\n'+DICE_ART[1][4])"
   ]
  },
  {
   "cell_type": "code",
   "execution_count": 6,
   "id": "c0198036-eb34-4eac-9cef-59a714412523",
   "metadata": {},
   "outputs": [
    {
     "name": "stdout",
     "output_type": "stream",
     "text": [
      "┌─────────┐\n",
      "│         │\n",
      "│    ●    │\n",
      "│         │\n",
      "└─────────┘\n",
      "┌─────────┐\n",
      "│  ●      │\n",
      "│         │\n",
      "│      ●  │\n",
      "└─────────┘\n",
      "┌─────────┐\n",
      "│  ●      │\n",
      "│    ●    │\n",
      "│      ●  │\n",
      "└─────────┘\n",
      "┌─────────┐\n",
      "│  ●   ●  │\n",
      "│         │\n",
      "│  ●   ●  │\n",
      "└─────────┘\n",
      "┌─────────┐\n",
      "│  ●   ●  │\n",
      "│    ●    │\n",
      "│  ●   ●  │\n",
      "└─────────┘\n",
      "┌─────────┐\n",
      "│  ●   ●  │\n",
      "│  ●   ●  │\n",
      "│  ●   ●  │\n",
      "└─────────┘\n"
     ]
    }
   ],
   "source": [
    "for i in range(6):\n",
    "    for j in range(5):\n",
    "        print(DICE_ART[i+1][j])"
   ]
  },
  {
   "cell_type": "code",
   "execution_count": 7,
   "id": "55219b00-d6bb-490e-afeb-bdb4112f135d",
   "metadata": {},
   "outputs": [
    {
     "data": {
      "text/plain": [
       "6"
      ]
     },
     "execution_count": 7,
     "metadata": {},
     "output_type": "execute_result"
    }
   ],
   "source": [
    "len(DICE_ART)"
   ]
  },
  {
   "cell_type": "code",
   "execution_count": 8,
   "id": "c5720186-e0a3-4ead-970c-dd3f60655ba3",
   "metadata": {},
   "outputs": [
    {
     "ename": "TypeError",
     "evalue": "'int' object is not subscriptable",
     "output_type": "error",
     "traceback": [
      "\u001b[0;31m---------------------------------------------------------------------------\u001b[0m",
      "\u001b[0;31mTypeError\u001b[0m                                 Traceback (most recent call last)",
      "Input \u001b[0;32mIn [8]\u001b[0m, in \u001b[0;36m<cell line: 1>\u001b[0;34m()\u001b[0m\n\u001b[0;32m----> 1\u001b[0m \u001b[43ma\u001b[49m\u001b[43m[\u001b[49m\u001b[38;5;124;43m'\u001b[39;49m\u001b[38;5;124;43mHashem\u001b[39;49m\u001b[38;5;124;43m'\u001b[39;49m\u001b[43m]\u001b[49m[\u001b[38;5;241m2\u001b[39m]\n",
      "\u001b[0;31mTypeError\u001b[0m: 'int' object is not subscriptable"
     ]
    }
   ],
   "source": [
    "a['Hashem'][2]"
   ]
  },
  {
   "cell_type": "code",
   "execution_count": 9,
   "id": "27dc65ac-382f-4a0e-afa9-a12271911a6c",
   "metadata": {},
   "outputs": [
    {
     "data": {
      "text/plain": [
       "[0, 1, 2, 3, 4, 5]"
      ]
     },
     "execution_count": 9,
     "metadata": {},
     "output_type": "execute_result"
    }
   ],
   "source": [
    "list(range(len(DICE_ART)))"
   ]
  },
  {
   "cell_type": "code",
   "execution_count": 10,
   "id": "d09ca53b-03dd-4546-93c9-82725a6223d3",
   "metadata": {},
   "outputs": [
    {
     "data": {
      "text/plain": [
       "'└─────────┘'"
      ]
     },
     "execution_count": 10,
     "metadata": {},
     "output_type": "execute_result"
    }
   ],
   "source": [
    "DICE_ART[1][4]"
   ]
  },
  {
   "cell_type": "code",
   "execution_count": 11,
   "id": "a5c09a86-7451-4eae-8778-335fc5f0951d",
   "metadata": {},
   "outputs": [
    {
     "name": "stdout",
     "output_type": "stream",
     "text": [
      "┌─────────┐┌─────────┐\n",
      "│         ││  ●      │\n",
      "│    ●    ││    ●    │\n",
      "│         ││      ●  │\n",
      "└─────────┘└─────────┘\n",
      "┌─────────┐┌─────────┐\n",
      "│  ●      ││  ●      │\n",
      "│         ││    ●    │\n",
      "│      ●  ││      ●  │\n",
      "└─────────┘└─────────┘\n",
      "┌─────────┐┌─────────┐\n",
      "│  ●      ││  ●      │\n",
      "│    ●    ││    ●    │\n",
      "│      ●  ││      ●  │\n",
      "└─────────┘└─────────┘\n",
      "┌─────────┐┌─────────┐\n",
      "│  ●   ●  ││  ●      │\n",
      "│         ││    ●    │\n",
      "│  ●   ●  ││      ●  │\n",
      "└─────────┘└─────────┘\n",
      "┌─────────┐┌─────────┐\n",
      "│  ●   ●  ││  ●      │\n",
      "│    ●    ││    ●    │\n",
      "│  ●   ●  ││      ●  │\n",
      "└─────────┘└─────────┘\n",
      "┌─────────┐┌─────────┐\n",
      "│  ●   ●  ││  ●      │\n",
      "│  ●   ●  ││    ●    │\n",
      "│  ●   ●  ││      ●  │\n",
      "└─────────┘└─────────┘\n"
     ]
    }
   ],
   "source": [
    "a = [print(DICE_ART[i+1][j] + DICE_ART[3][j] ) for i in range(6) for j in range(5)]"
   ]
  },
  {
   "cell_type": "code",
   "execution_count": 39,
   "id": "9dbc2cf1-4ba4-4eb4-8b80-00e081327962",
   "metadata": {},
   "outputs": [],
   "source": [
    "import random"
   ]
  },
  {
   "cell_type": "code",
   "execution_count": 56,
   "id": "69d96756-b690-4028-bed5-8e54266655e6",
   "metadata": {},
   "outputs": [
    {
     "ename": "TypeError",
     "evalue": "'<=' not supported between instances of 'int' and 'list'",
     "output_type": "error",
     "traceback": [
      "\u001b[0;31m---------------------------------------------------------------------------\u001b[0m",
      "\u001b[0;31mTypeError\u001b[0m                                 Traceback (most recent call last)",
      "Input \u001b[0;32mIn [56]\u001b[0m, in \u001b[0;36m<cell line: 8>\u001b[0;34m()\u001b[0m\n\u001b[1;32m      6\u001b[0m             \u001b[38;5;28mprint\u001b[39m(DICE_ART[b][j])\n\u001b[1;32m      7\u001b[0m         i \u001b[38;5;241m+\u001b[39m\u001b[38;5;241m=\u001b[39m \u001b[38;5;241m1\u001b[39m\n\u001b[0;32m----> 8\u001b[0m \u001b[43mgenerate\u001b[49m\u001b[43m(\u001b[49m\u001b[43m)\u001b[49m\n",
      "Input \u001b[0;32mIn [56]\u001b[0m, in \u001b[0;36mgenerate\u001b[0;34m()\u001b[0m\n\u001b[1;32m      1\u001b[0m \u001b[38;5;28;01mdef\u001b[39;00m \u001b[38;5;21mgenerate\u001b[39m():\n\u001b[1;32m      2\u001b[0m     i \u001b[38;5;241m=\u001b[39m \u001b[38;5;241m1\u001b[39m\n\u001b[0;32m----> 3\u001b[0m     \u001b[38;5;28;01mwhile\u001b[39;00m \u001b[43mi\u001b[49m\u001b[43m \u001b[49m\u001b[38;5;241;43m<\u001b[39;49m\u001b[38;5;241;43m=\u001b[39;49m\u001b[43m \u001b[49m\u001b[43ma\u001b[49m:\n\u001b[1;32m      4\u001b[0m         \u001b[38;5;28;01mfor\u001b[39;00m j \u001b[38;5;129;01min\u001b[39;00m \u001b[38;5;28mrange\u001b[39m(\u001b[38;5;241m5\u001b[39m):\n\u001b[1;32m      5\u001b[0m             b \u001b[38;5;241m=\u001b[39m random\u001b[38;5;241m.\u001b[39mrandint(\u001b[38;5;241m1\u001b[39m,\u001b[38;5;241m6\u001b[39m)\n",
      "\u001b[0;31mTypeError\u001b[0m: '<=' not supported between instances of 'int' and 'list'"
     ]
    }
   ],
   "source": [
    "def generate():\n",
    "    i = 1\n",
    "    while i <= a:\n",
    "        for j in range(5):\n",
    "            b = random.randint(1,6)\n",
    "            print(DICE_ART[b][j])\n",
    "        i += 1\n",
    "generate()"
   ]
  },
  {
   "cell_type": "code",
   "execution_count": 46,
   "id": "70d740ff-17a5-4407-8e0c-a6b043c3ce6b",
   "metadata": {},
   "outputs": [],
   "source": [
    "def parse_input():\n",
    "    ''' This functions makes sure that the user input is valid, meaning an integer in the set [1,6].\n",
    "    \n",
    "    If this integer was correct, this function converts the string integer to an actual integer data type. \n",
    "    On the other hand, if the input wasn't valid, the user is promptedthat information,\n",
    "    and the program raises an error and wexits. \n",
    "    '''\n",
    "    a = input('How many dices do you want to roll [1-6] ?')\n",
    "    if a in {'1','2','3','4','5','6'}:                 # Sets are used because they're very effecient at mempership tests\n",
    "        return int(a)\n",
    "        \n",
    "    else:                                              # Line 13 exits the app with a SystemExit exception ,\n",
    "                                                       # and a status code of 1 to signal that something went wrong\n",
    "        print('Inter a number in the set [1,6]')\n",
    "        raise SystemExit(1)                            "
   ]
  },
  {
   "cell_type": "code",
   "execution_count": 47,
   "id": "239dc414-d727-4365-a9a6-965f8f16ad51",
   "metadata": {},
   "outputs": [],
   "source": [
    "def roll_dice(num_dice):\n",
    "    results = []\n",
    "    for _ in range(num_dice):\n",
    "        results.append(random.randint(1,6))\n",
    "    return results"
   ]
  },
  {
   "cell_type": "code",
   "execution_count": 53,
   "id": "884404f2-a9e6-417c-a773-412106386f34",
   "metadata": {},
   "outputs": [
    {
     "name": "stdin",
     "output_type": "stream",
     "text": [
      "How many dices do you want to roll [1-6] ? 5\n"
     ]
    }
   ],
   "source": [
    "roll_results = roll_dice(parse_input())"
   ]
  },
  {
   "cell_type": "code",
   "execution_count": 54,
   "id": "ed645f44-bb91-4acb-8667-f8ac85540ea8",
   "metadata": {},
   "outputs": [
    {
     "data": {
      "text/plain": [
       "[1, 6, 6, 1, 5]"
      ]
     },
     "execution_count": 54,
     "metadata": {},
     "output_type": "execute_result"
    }
   ],
   "source": [
    "roll_results"
   ]
  },
  {
   "cell_type": "code",
   "execution_count": 55,
   "id": "39d74783-4231-4b6a-8227-e50b69bcc86b",
   "metadata": {},
   "outputs": [
    {
     "name": "stdout",
     "output_type": "stream",
     "text": [
      "┌─────────┐\n",
      "│         │\n",
      "│    ●    │\n",
      "│         │\n",
      "└─────────┘\n",
      "┌─────────┐\n",
      "│  ●   ●  │\n",
      "│  ●   ●  │\n",
      "│  ●   ●  │\n",
      "└─────────┘\n",
      "┌─────────┐\n",
      "│  ●   ●  │\n",
      "│  ●   ●  │\n",
      "│  ●   ●  │\n",
      "└─────────┘\n",
      "┌─────────┐\n",
      "│         │\n",
      "│    ●    │\n",
      "│         │\n",
      "└─────────┘\n",
      "┌─────────┐\n",
      "│  ●   ●  │\n",
      "│    ●    │\n",
      "│  ●   ●  │\n",
      "└─────────┘\n"
     ]
    }
   ],
   "source": [
    "for i in roll_results:\n",
    "    for j in range(5):\n",
    "        print(DICE_ART[i][j])"
   ]
  },
  {
   "cell_type": "code",
   "execution_count": null,
   "id": "fa6d76da-abc1-4cbf-8301-3ae8ca1e4561",
   "metadata": {},
   "outputs": [],
   "source": []
  }
 ],
 "metadata": {
  "kernelspec": {
   "display_name": "Python 3 (ipykernel)",
   "language": "python",
   "name": "python3"
  },
  "language_info": {
   "codemirror_mode": {
    "name": "ipython",
    "version": 3
   },
   "file_extension": ".py",
   "mimetype": "text/x-python",
   "name": "python",
   "nbconvert_exporter": "python",
   "pygments_lexer": "ipython3",
   "version": "3.9.12"
  },
  "widgets": {
   "application/vnd.jupyter.widget-state+json": {
    "state": {},
    "version_major": 2,
    "version_minor": 0
   }
  }
 },
 "nbformat": 4,
 "nbformat_minor": 5
}
