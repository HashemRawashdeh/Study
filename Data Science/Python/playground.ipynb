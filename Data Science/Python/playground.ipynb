{
 "cells": [
  {
   "cell_type": "code",
   "execution_count": 1,
   "id": "1a17352a-856e-4fcd-b4b6-ac4afd8337ba",
   "metadata": {},
   "outputs": [],
   "source": [
    "import re"
   ]
  },
  {
   "cell_type": "code",
   "execution_count": 2,
   "id": "91ab6f86-298d-4d54-9d9e-ec9d2fcf3b04",
   "metadata": {},
   "outputs": [],
   "source": [
    "email = 'rawashdeh758@gmail.com'"
   ]
  },
  {
   "cell_type": "code",
   "execution_count": 3,
   "id": "7be846fc-6968-4cfc-ab69-2b9c3bda9cfa",
   "metadata": {},
   "outputs": [
    {
     "data": {
      "text/plain": [
       "['rawashdeh758', 'gmail', 'com']"
      ]
     },
     "execution_count": 3,
     "metadata": {},
     "output_type": "execute_result"
    }
   ],
   "source": [
    "re.findall('[\\w]+', email)"
   ]
  },
  {
   "cell_type": "code",
   "execution_count": null,
   "id": "5a02e4cc-f3a1-41f2-ac7b-128cc77997a9",
   "metadata": {},
   "outputs": [
    {
     "name": "stdin",
     "output_type": "stream",
     "text": [
      "what is the capital of Saudi Arabia? h,jnbm\n"
     ]
    },
    {
     "name": "stdout",
     "output_type": "stream",
     "text": [
      "Your answer is wrong\n",
      "\n"
     ]
    },
    {
     "name": "stdin",
     "output_type": "stream",
     "text": [
      "Which country has the larger area, Spain or Italy? jbkn\n"
     ]
    },
    {
     "name": "stdout",
     "output_type": "stream",
     "text": [
      "Your answer is wrong\n",
      "\n"
     ]
    },
    {
     "name": "stdin",
     "output_type": "stream",
     "text": [
      "Which country has the bigger economy based on their GDP(PPP),China or the USA? jv\n"
     ]
    },
    {
     "name": "stdout",
     "output_type": "stream",
     "text": [
      "Your answer is wrong\n",
      "\n"
     ]
    }
   ],
   "source": [
    "quiz = {\n",
    "    'Question One': {'Question': \"what is the capital of Saudi Arabia?\",\n",
    "                         'Answer' : 'riyadh'},\n",
    "        \n",
    "    'Question Two' : {'Question': \"Which country has the larger area, Spain or Italy?\",\n",
    "                      'Answer': 'spain'},\n",
    "        \n",
    "    'Question Three' : {'Question': \"Which country has the bigger economy based on their GDP(PPP),\\\n",
    " china or the USA?\",\n",
    "                        'Answer': 'china'},\n",
    "        \n",
    "    'Question Four' : {'Question': \"Who earn more on average, Nurses or Engineers?\",\n",
    "                       'Answer': 'engineers'},\n",
    "        \n",
    "    'Question Five' : {'Question': \"Which country has the largest population in 2022?\",\n",
    "                       'Answer' : 'china'},\n",
    "        \n",
    "    'Question Six' : {'Question': 'What are animals that eat both plants and meat called?',\n",
    "                      'Answer': 'omnivores'},\n",
    "        \n",
    "    'Question Seven' : {'Question': 'Who was The Great Pyramid of Giza’s construction launched by?',\n",
    "                       'Answer': 'khufu'}\n",
    "       }\n",
    "\n",
    "j = 0\n",
    "score = 0\n",
    "\n",
    "for keys, values in quiz.items():\n",
    "    \n",
    "    question = values['Question']\n",
    "    answer = input(question).lower()\n",
    "    \n",
    "    if answer == values['Answer']:\n",
    "        score += 1\n",
    "        print('Your ansewer is correct, and your score is now: ' + str(score)+ '\\n')\n",
    "    else:\n",
    "        print('Your answer is wrong' + '\\n')\n",
    "        score = score\n",
    "    j += 1\n",
    "\n",
    "print('Your Final score is {}/7'.format(score))"
   ]
  },
  {
   "cell_type": "code",
   "execution_count": null,
   "id": "1e806ee8-108b-4859-974d-06d928071937",
   "metadata": {},
   "outputs": [],
   "source": []
  }
 ],
 "metadata": {
  "kernelspec": {
   "display_name": "Python 3 (ipykernel)",
   "language": "python",
   "name": "python3"
  },
  "language_info": {
   "codemirror_mode": {
    "name": "ipython",
    "version": 3
   },
   "file_extension": ".py",
   "mimetype": "text/x-python",
   "name": "python",
   "nbconvert_exporter": "python",
   "pygments_lexer": "ipython3",
   "version": "3.9.12"
  },
  "widgets": {
   "application/vnd.jupyter.widget-state+json": {
    "state": {},
    "version_major": 2,
    "version_minor": 0
   }
  }
 },
 "nbformat": 4,
 "nbformat_minor": 5
}
