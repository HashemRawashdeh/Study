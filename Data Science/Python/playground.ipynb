{
 "cells": [
  {
   "cell_type": "code",
   "execution_count": 68,
   "id": "f74a0af6-94dd-43d9-829a-aa235ab208b9",
   "metadata": {},
   "outputs": [],
   "source": [
    "import random"
   ]
  },
  {
   "cell_type": "code",
   "execution_count": 73,
   "id": "fb341b4d-b689-4293-a6db-eacae57819f0",
   "metadata": {},
   "outputs": [
    {
     "name": "stdin",
     "output_type": "stream",
     "text": [
      "pick one paper\n"
     ]
    },
    {
     "name": "stdout",
     "output_type": "stream",
     "text": [
      "You lose\n"
     ]
    }
   ],
   "source": [
    "def rock_paper_sissors():\n",
    "    global user\n",
    "    user = input('pick one').lower()\n",
    "    rand = random.randint(0,2)\n",
    "    if rand == 0:\n",
    "        computer = 'rock'\n",
    "    elif rand ==1:\n",
    "        computer = 'paper'\n",
    "    elif rand == 2:\n",
    "        computer = 'sissors'\n",
    "    return computer\n",
    "\n",
    "a = rock_paper_sissors()\n",
    "\n",
    "while user == a:\n",
    "    rock_paper_sissors()\n",
    "    \n",
    "if (user == 'rock') and (a == 'sissors'):\n",
    "    print('You won')\n",
    "    \n",
    "elif (user == 'rock') and (a == 'paper'):\n",
    "    print('You Lose')\n",
    "    \n",
    "if (user == 'paper') and (a == 'sissors'):\n",
    "    print('You lose')\n",
    "    \n",
    "elif (user == 'paper') and (a == 'rock'):\n",
    "    print('You win')\n",
    "    \n",
    "if (user == 'sissors') and (a == 'paper'):\n",
    "    print('You win')\n",
    "    \n",
    "elif (user == 'sissors') and (a == 'rock'):\n",
    "    print('You Lose')"
   ]
  },
  {
   "cell_type": "code",
   "execution_count": null,
   "id": "9a32c683-b8cb-4e15-931a-83d9be8c8c10",
   "metadata": {},
   "outputs": [],
   "source": []
  }
 ],
 "metadata": {
  "kernelspec": {
   "display_name": "Python 3 (ipykernel)",
   "language": "python",
   "name": "python3"
  },
  "language_info": {
   "codemirror_mode": {
    "name": "ipython",
    "version": 3
   },
   "file_extension": ".py",
   "mimetype": "text/x-python",
   "name": "python",
   "nbconvert_exporter": "python",
   "pygments_lexer": "ipython3",
   "version": "3.9.12"
  },
  "widgets": {
   "application/vnd.jupyter.widget-state+json": {
    "state": {},
    "version_major": 2,
    "version_minor": 0
   }
  }
 },
 "nbformat": 4,
 "nbformat_minor": 5
}
