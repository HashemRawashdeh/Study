{
 "cells": [
  {
   "cell_type": "markdown",
   "id": "1ac4156e-f098-413d-8ab4-7167393e9a60",
   "metadata": {},
   "source": [
    "## Explatory Data Analysis\n",
    "\n",
    "This notebook will be a place for me to revise the data analysis modules and topics that I have learned earlier in the past months, and it will serve as a testing space where I can practice new data analysis concepts and modules. It will mailnly cover the following:\n",
    "* Numpy\n",
    "* Pandas\n",
    "* Matplotlib\n",
    "* Seaborn"
   ]
  },
  {
   "cell_type": "code",
   "execution_count": null,
   "id": "f6b7b2cf-6ba3-446e-99b0-3577303c78e0",
   "metadata": {},
   "outputs": [],
   "source": []
  }
 ],
 "metadata": {
  "kernelspec": {
   "display_name": "Python 3 (ipykernel)",
   "language": "python",
   "name": "python3"
  },
  "language_info": {
   "codemirror_mode": {
    "name": "ipython",
    "version": 3
   },
   "file_extension": ".py",
   "mimetype": "text/x-python",
   "name": "python",
   "nbconvert_exporter": "python",
   "pygments_lexer": "ipython3",
   "version": "3.9.12"
  },
  "widgets": {
   "application/vnd.jupyter.widget-state+json": {
    "state": {},
    "version_major": 2,
    "version_minor": 0
   }
  }
 },
 "nbformat": 4,
 "nbformat_minor": 5
}
